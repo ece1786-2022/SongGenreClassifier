{
  "nbformat": 4,
  "nbformat_minor": 0,
  "metadata": {
    "colab": {
      "provenance": []
    },
    "kernelspec": {
      "name": "python3",
      "display_name": "Python 3"
    },
    "language_info": {
      "name": "python"
    },
    "accelerator": "GPU",
    "gpuClass": "standard"
  },
  "cells": [
    {
      "cell_type": "code",
      "execution_count": null,
      "metadata": {
        "colab": {
          "base_uri": "https://localhost:8080/"
        },
        "id": "4y4dc7Ti8xTs",
        "outputId": "6d4578c3-2a03-4297-b9f7-c7e502c83080"
      },
      "outputs": [
        {
          "output_type": "stream",
          "name": "stdout",
          "text": [
            "Looking in indexes: https://pypi.org/simple, https://us-python.pkg.dev/colab-wheels/public/simple/\n",
            "Requirement already satisfied: transformers in /usr/local/lib/python3.8/dist-packages (4.25.1)\n",
            "Requirement already satisfied: pyyaml>=5.1 in /usr/local/lib/python3.8/dist-packages (from transformers) (6.0)\n",
            "Requirement already satisfied: requests in /usr/local/lib/python3.8/dist-packages (from transformers) (2.23.0)\n",
            "Requirement already satisfied: tokenizers!=0.11.3,<0.14,>=0.11.1 in /usr/local/lib/python3.8/dist-packages (from transformers) (0.13.2)\n",
            "Requirement already satisfied: filelock in /usr/local/lib/python3.8/dist-packages (from transformers) (3.8.0)\n",
            "Requirement already satisfied: regex!=2019.12.17 in /usr/local/lib/python3.8/dist-packages (from transformers) (2022.6.2)\n",
            "Requirement already satisfied: packaging>=20.0 in /usr/local/lib/python3.8/dist-packages (from transformers) (21.3)\n",
            "Requirement already satisfied: tqdm>=4.27 in /usr/local/lib/python3.8/dist-packages (from transformers) (4.64.1)\n",
            "Requirement already satisfied: numpy>=1.17 in /usr/local/lib/python3.8/dist-packages (from transformers) (1.21.6)\n",
            "Requirement already satisfied: huggingface-hub<1.0,>=0.10.0 in /usr/local/lib/python3.8/dist-packages (from transformers) (0.11.1)\n",
            "Requirement already satisfied: typing-extensions>=3.7.4.3 in /usr/local/lib/python3.8/dist-packages (from huggingface-hub<1.0,>=0.10.0->transformers) (4.1.1)\n",
            "Requirement already satisfied: pyparsing!=3.0.5,>=2.0.2 in /usr/local/lib/python3.8/dist-packages (from packaging>=20.0->transformers) (3.0.9)\n",
            "Requirement already satisfied: urllib3!=1.25.0,!=1.25.1,<1.26,>=1.21.1 in /usr/local/lib/python3.8/dist-packages (from requests->transformers) (1.24.3)\n",
            "Requirement already satisfied: chardet<4,>=3.0.2 in /usr/local/lib/python3.8/dist-packages (from requests->transformers) (3.0.4)\n",
            "Requirement already satisfied: certifi>=2017.4.17 in /usr/local/lib/python3.8/dist-packages (from requests->transformers) (2022.9.24)\n",
            "Requirement already satisfied: idna<3,>=2.5 in /usr/local/lib/python3.8/dist-packages (from requests->transformers) (2.10)\n"
          ]
        }
      ],
      "source": [
        "!pip install transformers"
      ]
    },
    {
      "cell_type": "code",
      "source": [
        "import torch \n",
        "import numpy as np\n",
        "\n",
        "from nltk.tokenize import sent_tokenize \n",
        "\n",
        "import pandas as pd\n",
        "from pathlib import Path \n",
        "from torch.utils.data import Dataset\n",
        "from torch.utils.data.dataloader import DataLoader\n",
        "from torch import nn\n",
        "\n",
        "from sklearn.model_selection import train_test_split\n",
        "from sklearn.utils.class_weight import compute_class_weight\n",
        "\n",
        "from transformers import AdamW\n",
        "from tqdm import tqdm\n",
        "\n",
        "from transformers import AutoTokenizer, BertConfig, BertModel, BertTokenizer\n",
        "from transformers import DistilBertTokenizer, DistilBertModel"
      ],
      "metadata": {
        "id": "Ku_Cv4pY_C4y"
      },
      "execution_count": null,
      "outputs": []
    },
    {
      "cell_type": "code",
      "source": [
        "from google.colab import drive\n",
        "drive.mount('/content/drive')\n",
        "%cd /content/drive/MyDrive/ECE1786 Project/Dataset/"
      ],
      "metadata": {
        "colab": {
          "base_uri": "https://localhost:8080/"
        },
        "id": "WrGKdaNlIETP",
        "outputId": "3019e156-d77c-4a91-e8fb-f6769993b164"
      },
      "execution_count": null,
      "outputs": [
        {
          "output_type": "stream",
          "name": "stdout",
          "text": [
            "Drive already mounted at /content/drive; to attempt to forcibly remount, call drive.mount(\"/content/drive\", force_remount=True).\n",
            "/content/drive/.shortcut-targets-by-id/1fJllm6_aqmmawo8B6hq9rhewEDIBmSpR/ECE1786 Project/Dataset\n"
          ]
        }
      ]
    },
    {
      "cell_type": "code",
      "source": [
        "df = pd.read_csv('dataset_all_genres.csv')\n",
        "df['primary_genre'].value_counts()"
      ],
      "metadata": {
        "id": "_tnbKPFMAeSE",
        "colab": {
          "base_uri": "https://localhost:8080/"
        },
        "outputId": "1ab0ba68-b072-42ae-e8c6-b097bf3d26e4"
      },
      "execution_count": null,
      "outputs": [
        {
          "output_type": "execute_result",
          "data": {
            "text/plain": [
              "Rock       25177\n",
              "Pop        13759\n",
              "Indie      12998\n",
              "Hip Hop     8412\n",
              "Country     7377\n",
              "R&B         5309\n",
              "Blues       2038\n",
              "EDM         1758\n",
              "Name: primary_genre, dtype: int64"
            ]
          },
          "metadata": {},
          "execution_count": 17
        }
      ]
    },
    {
      "cell_type": "code",
      "source": [
        "df_sampled = df.groupby('primary_genre').sample(n=1750, random_state=200)"
      ],
      "metadata": {
        "id": "wquQqGSglNf3"
      },
      "execution_count": null,
      "outputs": []
    },
    {
      "cell_type": "code",
      "source": [
        "#instantiate the bert model and tokenizer\n",
        "# model_name = 'bert-base-uncased'\n",
        "# tokenizer = BertTokenizer.from_pretrained(model_name)\n",
        "# tokenizer.padding_side = \"right\"\n",
        "# # tokenizer.pad_token = tokenizer.eos_token\n",
        "# tokenizer.pad_token = \"[PAD]\"\n",
        "# bert = BertModel.from_pretrained(model_name)"
      ],
      "metadata": {
        "id": "edycUpjIDM8v"
      },
      "execution_count": null,
      "outputs": []
    },
    {
      "cell_type": "code",
      "source": [
        "model_name = \"distilbert-base-uncased\"\n",
        "tokenizer = DistilBertTokenizer.from_pretrained(model_name)\n",
        "tokenizer.padding_side = \"right\"\n",
        "tokenizer.pad_token = \"[PAD]\"\n",
        "bert = DistilBertModel.from_pretrained(model_name)"
      ],
      "metadata": {
        "colab": {
          "base_uri": "https://localhost:8080/"
        },
        "id": "J8UrF8ZLcBGi",
        "outputId": "544d4a5f-5fdd-4cf3-ba7a-038a77f7581f"
      },
      "execution_count": null,
      "outputs": [
        {
          "output_type": "stream",
          "name": "stderr",
          "text": [
            "Some weights of the model checkpoint at distilbert-base-uncased were not used when initializing DistilBertModel: ['vocab_layer_norm.bias', 'vocab_projector.bias', 'vocab_projector.weight', 'vocab_transform.weight', 'vocab_layer_norm.weight', 'vocab_transform.bias']\n",
            "- This IS expected if you are initializing DistilBertModel from the checkpoint of a model trained on another task or with another architecture (e.g. initializing a BertForSequenceClassification model from a BertForPreTraining model).\n",
            "- This IS NOT expected if you are initializing DistilBertModel from the checkpoint of a model that you expect to be exactly identical (initializing a BertForSequenceClassification model from a BertForSequenceClassification model).\n"
          ]
        }
      ]
    },
    {
      "cell_type": "code",
      "source": [
        "# freeze all the parameters\n",
        "# for param in bert.parameters():\n",
        "#     param.requires_grad = False"
      ],
      "metadata": {
        "id": "sgiscO0EcO_e"
      },
      "execution_count": null,
      "outputs": []
    },
    {
      "cell_type": "code",
      "source": [
        "class BERTClassifier(nn.Module):\n",
        "  def __init__(self, embedding_size, num_classes, max_seq_len, model_name):\n",
        "    super(BERTClassifier,self).__init__()\n",
        "    self.bert = bert\n",
        "    self.classifier_head = nn.Sequential(\n",
        "                            nn.Linear(embedding_size*max_seq_len, 768),\n",
        "                            nn.ReLU(),\n",
        "                            nn.Dropout(0.1),\n",
        "                            nn.Linear(768, num_classes)\n",
        "                          )\n",
        "\n",
        "  def forward(self, input_id, mask):\n",
        "    bert_out = self.bert(input_ids=input_id, attention_mask=mask, return_dict=False)[0]\n",
        "    batch_size = bert_out.shape[0]\n",
        "    linear_output = self.classifier_head(bert_out.view(batch_size,-1))\n",
        "    return linear_output"
      ],
      "metadata": {
        "id": "yspEOaS0AdmG"
      },
      "execution_count": null,
      "outputs": []
    },
    {
      "cell_type": "code",
      "source": [
        "\"\"\"\n",
        "Prepare the dataset to finetune a transformer model\n",
        "\n",
        "Arguments:\n",
        "            ds_choice: str. \"small\" or \"large\". (i.e. selects which of the two datasets)\n",
        "            split: str. \"train\" or \"test\".\n",
        "            truncation: int. If -1: no truncation on sentences. Otherwise: truncate to this specific length.\n",
        "\"\"\" \n",
        "genre_labels = {'Blues': 0, 'Country': 1, 'EDM': 2, 'Hip Hop': 3, 'Indie': 4, 'Pop': 5, 'R&B': 6, 'Rock': 7}\n",
        "#genre_labels = {'Country': 0, 'Hip Hop': 1, 'Indie': 2, 'Pop': 3, 'R&B': 4, 'Rock': 5}\n",
        "class SongGenreClassificationDataset(Dataset):\n",
        "    \n",
        "    def __init__(self, texts, genres, max_length=256):\n",
        "        if 'secondary_genre' in genres.columns:\n",
        "          self.primary_labels = [genre_labels[genre] for genre in genres['primary_genre']]\n",
        "          self.secondary_labels = [genre_labels[genre] if pd.notna(genre) else -1 for genre in genres['secondary_genre']]\n",
        "        else:\n",
        "          self.primary_labels = [genre_labels[genre] for genre in genres]\n",
        "          self.secondary_labels = [-1 for genre in genres]\n",
        "          # Tokenize\n",
        "        self.tokenizer = tokenizer\n",
        "        self.lyrics = []\n",
        "\n",
        "        for text in texts:\n",
        "          text = text.replace(\"\\n\\n\", \"$$^^$$\").replace(\"\\n\", \" \").replace(\"$$^^$$\", \"\\n\")\n",
        "          self.lyrics.append(self.tokenizer(text, padding='max_length', max_length=max_length, truncation=True, return_tensors=\"pt\"))      \n",
        "\n",
        "    def __len__(self):\n",
        "        return len(self.primary_labels)\n",
        "\n",
        "    def __getitem__(self, idx):\n",
        "        \"\"\"\n",
        "        The output should be a tuple x and y, both as pytorch tensors.\n",
        "        Please refer to the `run()` method in the mingpt/trainer.py script for \n",
        "        how the x and y are going to be used.\n",
        "        \"\"\"\n",
        "        x = self.lyrics[idx]\n",
        "        if len(self.secondary_labels) > 0:\n",
        "          primary = self.primary_labels[idx]\n",
        "          secondary = self.secondary_labels[idx]\n",
        "          if secondary == -1:\n",
        "            secondary = primary\n",
        "          y = (primary, secondary)\n",
        "        else:\n",
        "          y = self.primary_labels[idx]\n",
        "        return (x, y)"
      ],
      "metadata": {
        "id": "jDnxsrk5GuXw"
      },
      "execution_count": null,
      "outputs": []
    },
    {
      "cell_type": "code",
      "source": [
        "x_train, x_test, y_train, y_test = train_test_split(df_sampled['lyrics'], df_sampled[['primary_genre', 'secondary_genre']], test_size=0.3, random_state = 200)\n",
        "x_val, x_test, y_val, y_test = train_test_split(x_test, y_test, test_size=0.5, random_state = 200)"
      ],
      "metadata": {
        "id": "2A-UGAQRGxAn"
      },
      "execution_count": null,
      "outputs": []
    },
    {
      "cell_type": "code",
      "source": [
        "def train(model, train_data, train_labels, val_data, val_labels, learning_rate, epochs, batch_size=2, max_seq_length=256):\n",
        "    train, val = SongGenreClassificationDataset(train_data, train_labels,\n",
        "                                                max_length=max_seq_length), SongGenreClassificationDataset(val_data, val_labels, max_length=max_seq_length)\n",
        "\n",
        "    train_dataloader = torch.utils.data.DataLoader(train, batch_size=batch_size, shuffle=True)\n",
        "    val_dataloader = torch.utils.data.DataLoader(val, batch_size=batch_size, shuffle=True)\n",
        "\n",
        "    # print(f\"train dataloader: {len(train_dataloader)}\")\n",
        "    \n",
        "    use_cuda = torch.cuda.is_available()\n",
        "    device = torch.device(\"cuda\" if use_cuda else \"cpu\")\n",
        "\n",
        "    print(f\"training on {device}\")\n",
        "    \n",
        "    loss_fn = nn.CrossEntropyLoss()\n",
        "    optimizer = AdamW(model.parameters(), lr=learning_rate)\n",
        "\n",
        "    running_train_loss = []\n",
        "    running_train_acc = []\n",
        "    running_val_loss = []\n",
        "    running_val_acc = []\n",
        "    \n",
        "    if use_cuda:\n",
        "        print('using cuda')\n",
        "        model = model.cuda()\n",
        "        loss_fn = loss_fn.cuda()\n",
        "\n",
        "    for epoch_num in range(epochs):\n",
        "        total_acc_train = 0\n",
        "        total_loss_train = 0\n",
        "        print('starting')\n",
        "        for i, (train_input, train_labels) in enumerate(tqdm(train_dataloader)):\n",
        "            # train_labels = train_labels.to(device)\n",
        "            if len(train_labels) > 1:\n",
        "              train_label_primary = train_labels[0].to(device)\n",
        "              train_label_secondary = train_labels[1].to(device)\n",
        "            else:\n",
        "              print('not val_labels')\n",
        "              train_label_primary = train_labels.to(device)\n",
        "            # train_label = train_label.to(device)\n",
        "            mask = train_input['attention_mask'].to(device)\n",
        "            input_id = train_input[\"input_ids\"].squeeze(1).to(device)\n",
        "            \n",
        "            model.zero_grad()\n",
        "\n",
        "            output = model(input_id, mask)\n",
        "\n",
        "            # batch_loss = loss_fn(output, train_label)\n",
        "            batch_loss_primary = loss_fn(output, train_label_primary)\n",
        "            \n",
        "\n",
        "            if len(train_labels) > 1:\n",
        "              batch_loss_secondary = loss_fn(output, train_label_secondary)\n",
        "              \n",
        "\n",
        "            total_loss_train += (max(batch_loss_primary.item(), batch_loss_secondary.item()))\n",
        "\n",
        "            prediction_matches_primary = output.argmax(dim=1) == train_label_primary \n",
        "            prediction_matches_secondary = output.argmax(dim=1) == train_label_secondary \n",
        "\n",
        "            acc = torch.maximum(prediction_matches_primary, prediction_matches_secondary).sum().item()\n",
        "            total_acc_train += acc\n",
        "\n",
        "            if batch_loss_primary.item() < batch_loss_secondary.item():\n",
        "              batch_loss_secondary.backward()\n",
        "            else:\n",
        "              batch_loss_primary.backward()\n",
        "            optimizer.step()\n",
        "            \n",
        "        total_acc_val = 0\n",
        "        total_loss_val = 0\n",
        "        \n",
        "        with torch.no_grad():\n",
        "            \n",
        "            for val_input, val_labels in val_dataloader:\n",
        "\n",
        "              if len(val_labels) > 1:\n",
        "                val_label_primary = val_labels[0].to(device)\n",
        "                val_label_secondary = val_labels[1].to(device)\n",
        "              else:\n",
        "                val_label_primary = val_labels.to(device)\n",
        "                val_label = val_label.to(device)\n",
        "\n",
        "              mask = val_input['attention_mask'].to(device)\n",
        "              input_id = val_input['input_ids'].squeeze(1).to(device)\n",
        "              \n",
        "              output = model(input_id, mask)\n",
        "              \n",
        "              batch_loss_primary = loss_fn(output, val_label_primary)\n",
        "            \n",
        "              if len(val_labels) > 1:\n",
        "                batch_loss_secondary = loss_fn(output, val_label_secondary)\n",
        "\n",
        "              total_loss_val += (max(batch_loss_primary.item(), batch_loss_secondary.item()))\n",
        "              # total_loss_val += batch_loss.item()\n",
        "\n",
        "              prediction_matches_primary = output.argmax(dim=1) == val_label_primary \n",
        "              prediction_matches_secondary = output.argmax(dim=1) == val_label_secondary \n",
        "              \n",
        "              acc = torch.maximum(prediction_matches_primary, prediction_matches_secondary).sum().item()\n",
        "              # acc = (output.argmax(dim=1)==val_label).sum().item()\n",
        "              total_acc_val += acc\n",
        "\n",
        "            print(\n",
        "            f\"Epochs: {epoch_num + 1} | Train Loss: {total_loss_train/len(train_data): .3f} \\\n",
        "            | Train Accuracy: {total_acc_train / len(train_data): .3f} \\\n",
        "            | Val Loss: {total_loss_val / len(val_data): .3f} \\\n",
        "            | Val Accuracy: {total_acc_val / len(val_data): .3f}\")\n",
        "\n",
        "            running_train_loss.append(total_loss_train/len(train_data))\n",
        "            running_train_acc.append(total_acc_train / len(train_data))\n",
        "            running_val_loss.append(total_loss_val / len(val_data))\n",
        "            running_val_acc.append(total_acc_val / len(val_data))\n",
        "            \n",
        "    return model, running_train_loss, running_train_acc, running_val_loss, running_val_acc"
      ],
      "metadata": {
        "id": "J9lEi2AMH3RJ"
      },
      "execution_count": null,
      "outputs": []
    },
    {
      "cell_type": "code",
      "source": [
        "EPOCHS = 4\n",
        "model = BERTClassifier(embedding_size=768, num_classes=8, max_seq_len=256, model_name=model_name)\n",
        "LR = 5e-6\n",
        "\n",
        "# train_data, train_labels, val_data, val_labels\n",
        "model, running_train_loss, running_train_acc, running_val_loss, running_val_acc = train(model, x_train, y_train, x_val, y_val, LR, EPOCHS)"
      ],
      "metadata": {
        "colab": {
          "base_uri": "https://localhost:8080/"
        },
        "id": "nniKshG7SjY3",
        "outputId": "1bd4896c-d0a8-4076-9e05-84f272b8c49b"
      },
      "execution_count": null,
      "outputs": [
        {
          "output_type": "stream",
          "name": "stdout",
          "text": [
            "training on cuda\n",
            "using cuda\n"
          ]
        },
        {
          "output_type": "stream",
          "name": "stderr",
          "text": [
            "/usr/local/lib/python3.8/dist-packages/transformers/optimization.py:306: FutureWarning: This implementation of AdamW is deprecated and will be removed in a future version. Use the PyTorch implementation torch.optim.AdamW instead, or set `no_deprecation_warning=True` to disable this warning\n",
            "  warnings.warn(\n"
          ]
        },
        {
          "output_type": "stream",
          "name": "stdout",
          "text": [
            "starting\n"
          ]
        },
        {
          "output_type": "stream",
          "name": "stderr",
          "text": [
            "100%|██████████| 4900/4900 [10:14<00:00,  7.97it/s]\n"
          ]
        },
        {
          "output_type": "stream",
          "name": "stdout",
          "text": [
            "Epochs: 1 | Train Loss:  0.778             | Train Accuracy:  0.520             | Val Loss:  0.727             | Val Accuracy:  0.573\n",
            "starting\n"
          ]
        },
        {
          "output_type": "stream",
          "name": "stderr",
          "text": [
            "100%|██████████| 4900/4900 [10:15<00:00,  7.96it/s]\n"
          ]
        },
        {
          "output_type": "stream",
          "name": "stdout",
          "text": [
            "Epochs: 2 | Train Loss:  0.472             | Train Accuracy:  0.812             | Val Loss:  0.762             | Val Accuracy:  0.585\n",
            "starting\n"
          ]
        },
        {
          "output_type": "stream",
          "name": "stderr",
          "text": [
            "100%|██████████| 4900/4900 [10:15<00:00,  7.96it/s]\n"
          ]
        },
        {
          "output_type": "stream",
          "name": "stdout",
          "text": [
            "Epochs: 3 | Train Loss:  0.342             | Train Accuracy:  0.975             | Val Loss:  0.752             | Val Accuracy:  0.604\n",
            "starting\n"
          ]
        },
        {
          "output_type": "stream",
          "name": "stderr",
          "text": [
            "100%|██████████| 4900/4900 [10:17<00:00,  7.94it/s]\n"
          ]
        },
        {
          "output_type": "stream",
          "name": "stdout",
          "text": [
            "Epochs: 4 | Train Loss:  0.258             | Train Accuracy:  0.996             | Val Loss:  0.769             | Val Accuracy:  0.600\n"
          ]
        }
      ]
    },
    {
      "cell_type": "code",
      "source": [
        "torch.save(model.state_dict(), \"distil_bert_classifier.pt\")"
      ],
      "metadata": {
        "id": "Stun6QDSt2XV"
      },
      "execution_count": null,
      "outputs": []
    },
    {
      "cell_type": "code",
      "source": [
        "def evaluate_multiple_correct(model, test_data, test_labels):\n",
        "\n",
        "    test = SongGenreClassificationDataset(test_data, test_labels)\n",
        "\n",
        "    test_dataloader = torch.utils.data.DataLoader(test, batch_size=2)\n",
        "\n",
        "    use_cuda = torch.cuda.is_available()\n",
        "    device = torch.device(\"cuda\" if use_cuda else \"cpu\")\n",
        "\n",
        "    if use_cuda:\n",
        "\n",
        "        model = model.cuda()\n",
        "\n",
        "        \n",
        "    # Tracking variables\n",
        "    predictions_labels = []\n",
        "    true_labels = []\n",
        "    \n",
        "    total_acc_test = 0\n",
        "    with torch.no_grad():\n",
        "\n",
        "        for test_input, test_labels in test_dataloader:\n",
        "\n",
        "            if len(test_labels) > 1:\n",
        "                test_label_primary = test_labels[0].to(device)\n",
        "                test_label_secondary = test_labels[1].to(device)\n",
        "                \n",
        "            else:\n",
        "                test_label_primary = test_labels.to(device)\n",
        "\n",
        "            mask = test_input['attention_mask'].to(device)\n",
        "            input_id = test_input['input_ids'].squeeze(1).to(device)\n",
        "\n",
        "            output = model(input_id, mask)\n",
        "\n",
        "            prediction_matches_primary = output.argmax(dim=1) == test_label_primary \n",
        "            prediction_matches_secondary = output.argmax(dim=1) == test_label_secondary \n",
        "              \n",
        "            acc = torch.maximum(prediction_matches_primary, prediction_matches_secondary).sum().item()\n",
        "            total_acc_test += acc\n",
        "            \n",
        "            # add original labels\n",
        "            test_label_primary = test_label_primary.cpu().numpy().flatten().tolist()\n",
        "            test_label_secondary = test_label_secondary.cpu().numpy().flatten().tolist()\n",
        "            output_preds = output.argmax(dim=1).cpu().numpy().flatten().tolist()\n",
        "\n",
        "            for i in range(len(test_label_primary)):\n",
        "                if test_label_primary[i] == output_preds[i]:\n",
        "                    true_labels.append(test_label_primary[i])\n",
        "                elif test_label_secondary[i] == output_preds[i]:\n",
        "                    true_labels.append(test_label_secondary[i])\n",
        "                else:\n",
        "                    true_labels.append(test_label_primary[i])\n",
        "\n",
        "            # true_labels += test_label_secondary.cpu().numpy().flatten().tolist()\n",
        "            # get predictions to list\n",
        "            predictions_labels += output.argmax(dim=1).cpu().numpy().flatten().tolist()\n",
        "    \n",
        "    print(f'Test Accuracy: {total_acc_test / len(test_data): .3f}')\n",
        "    return true_labels, predictions_labels"
      ],
      "metadata": {
        "id": "vBM1__-ft73V"
      },
      "execution_count": null,
      "outputs": []
    },
    {
      "cell_type": "code",
      "source": [
        "from sklearn.metrics import confusion_matrix\n",
        "from sklearn.metrics import ConfusionMatrixDisplay\n",
        "import matplotlib.pyplot as plt\n",
        "\n",
        "true_labels, pred_labels = evaluate_multiple_correct(model, x_val, y_val)\n",
        "fig, ax = plt.subplots(figsize=(8, 8))\n",
        "\n",
        "cm = confusion_matrix(y_true=true_labels, y_pred=pred_labels, labels=range(len(genre_labels)), normalize='true')\n",
        "disp = ConfusionMatrixDisplay(confusion_matrix=cm, display_labels=list(genre_labels.keys()))\n",
        "disp.plot(ax=ax, cmap='Blues')"
      ],
      "metadata": {
        "id": "NdFqi7h3t_jf",
        "colab": {
          "base_uri": "https://localhost:8080/",
          "height": 509
        },
        "outputId": "77547480-ce2f-48f0-c70d-4ee3e98409b8"
      },
      "execution_count": null,
      "outputs": [
        {
          "output_type": "stream",
          "name": "stdout",
          "text": [
            "Test Accuracy:  0.602\n"
          ]
        },
        {
          "output_type": "execute_result",
          "data": {
            "text/plain": [
              "<sklearn.metrics._plot.confusion_matrix.ConfusionMatrixDisplay at 0x7f376182ad90>"
            ]
          },
          "metadata": {},
          "execution_count": 32
        },
        {
          "output_type": "display_data",
          "data": {
            "text/plain": [
              "<Figure size 576x576 with 2 Axes>"
            ],
            "image/png": "[encoded data removed]"
          },
          "metadata": {
            "needs_background": "light"
          }
        }
      ]
    }
  ]
}