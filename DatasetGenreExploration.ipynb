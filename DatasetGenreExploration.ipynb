{
  "nbformat": 4,
  "nbformat_minor": 0,
  "metadata": {
    "colab": {
      "provenance": []
    },
    "kernelspec": {
      "name": "python3",
      "display_name": "Python 3"
    },
    "language_info": {
      "name": "python"
    }
  },
  "cells": [
    {
      "cell_type": "code",
      "execution_count": 1,
      "metadata": {
        "id": "KKBu6CXycaZW"
      },
      "outputs": [],
      "source": [
        "import pandas as pd"
      ]
    },
    {
      "cell_type": "markdown",
      "source": [
        "### Dataset 1"
      ],
      "metadata": {
        "id": "EmaSjLy0Gd4r"
      }
    },
    {
      "cell_type": "code",
      "source": [
        "df = pd.read_csv('spotify_songs.csv',error_bad_lines=False)"
      ],
      "metadata": {
        "colab": {
          "base_uri": "https://localhost:8080/"
        },
        "id": "j-n6rSHQfBoW",
        "outputId": "2253aef4-9d50-4b8c-ff15-03453cd71a3d"
      },
      "execution_count": 3,
      "outputs": [
        {
          "output_type": "stream",
          "name": "stderr",
          "text": [
            "/usr/local/lib/python3.7/dist-packages/IPython/core/interactiveshell.py:3326: FutureWarning: The error_bad_lines argument has been deprecated and will be removed in a future version.\n",
            "\n",
            "\n",
            "  exec(code_obj, self.user_global_ns, self.user_ns)\n"
          ]
        }
      ]
    },
    {
      "cell_type": "code",
      "source": [
        "df.head()"
      ],
      "metadata": {
        "colab": {
          "base_uri": "https://localhost:8080/",
          "height": 681
        },
        "id": "W47X8MTwfG4A",
        "outputId": "6e81da79-9f0c-412e-8e22-ec8c20d79da1"
      },
      "execution_count": 4,
      "outputs": [
        {
          "output_type": "execute_result",
          "data": {
            "text/plain": [
              "                 track_id                                         track_name  \\\n",
              "0  0017A6SJgTbfQVU2EtsPNo                                           Pangarap   \n",
              "1  004s3t0ONYlzxII9PLgU6z                                       I Feel Alive   \n",
              "2  00chLpzhgVjxs1zKC9UScL                                             Poison   \n",
              "3  00cqd6ZsSkLZqGMlQCR0Zo  Baby It's Cold Outside (feat. Christina Aguilera)   \n",
              "4  00emjlCv9azBN0fzuuyLqy                                         Dumb Litty   \n",
              "\n",
              "      track_artist                                             lyrics  \\\n",
              "0  Barbie's Cradle  Minsan pa Nang ako'y napalingon Hindi ko alam ...   \n",
              "1    Steady Rollin  The trees, are singing in the wind The sky blu...   \n",
              "2   Bell Biv DeVoe  NA Yeah, Spyderman and Freeze in full effect U...   \n",
              "3      CeeLo Green  I really can't stay Baby it's cold outside I'v...   \n",
              "4             KARD  Get up out of my business You don't keep me fr...   \n",
              "\n",
              "   track_popularity          track_album_id  \\\n",
              "0                41  1srJQ0njEQgd8w4XSqI4JQ   \n",
              "1                28  3z04Lb9Dsilqw68SHt6jLB   \n",
              "2                 0  6oZ6brjB8x3GoeSYdwJdPc   \n",
              "3                41  3ssspRe42CXkhPxdc12xcp   \n",
              "4                65  7h5X3xhh3peIK9Y0qI5hbK   \n",
              "\n",
              "                       track_album_name track_album_release_date  \\\n",
              "0                                  Trip               2001-01-01   \n",
              "1                           Love & Loss               2017-11-21   \n",
              "2                                  Gold               2005-01-01   \n",
              "3                  CeeLo's Magic Moment               2012-10-29   \n",
              "4  KARD 2nd Digital Single ‘Dumb Litty’               2019-09-22   \n",
              "\n",
              "                                       playlist_name             playlist_id  \\\n",
              "0                                 Pinoy Classic Rock  37i9dQZF1DWYDQ8wBxd7xt   \n",
              "1                                  Hard Rock Workout  3YouF0u7waJnolytf9JCXf   \n",
              "2  Back in the day - R&B, New Jack Swing, Swingbe...  3a9y4eeCJRmG9p4YKfqYIx   \n",
              "3                                     Christmas Soul  6FZYc2BvF7tColxO8PBShV   \n",
              "4                                  K-Party Dance Mix  37i9dQZF1DX4RDXswvP6Mj   \n",
              "\n",
              "   ... loudness mode  speechiness  acousticness  instrumentalness  liveness  \\\n",
              "0  ...  -10.068    1       0.0236       0.27900           0.01170    0.0887   \n",
              "1  ...   -4.739    1       0.0442       0.01170           0.00994    0.3470   \n",
              "2  ...   -7.504    0       0.2160       0.00432           0.00723    0.4890   \n",
              "3  ...   -5.819    0       0.0341       0.68900           0.00000    0.0664   \n",
              "4  ...   -1.993    1       0.0409       0.03700           0.00000    0.1380   \n",
              "\n",
              "   valence    tempo  duration_ms  language  \n",
              "0    0.566   97.091       235440        tl  \n",
              "1    0.404  135.225       373512        en  \n",
              "2    0.650  111.904       262467        en  \n",
              "3    0.405  118.593       243067        en  \n",
              "4    0.240  130.018       193160        en  \n",
              "\n",
              "[5 rows x 25 columns]"
            ],
            "text/html": [
              "\n",
              "  <div id=\"df-e75e1fb4-3ecf-49a7-9712-132c4ee2d8b7\">\n",
              "    <div class=\"colab-df-container\">\n",
              "      <div>\n",
              "<style scoped>\n",
              "    .dataframe tbody tr th:only-of-type {\n",
              "        vertical-align: middle;\n",
              "    }\n",
              "\n",
              "    .dataframe tbody tr th {\n",
              "        vertical-align: top;\n",
              "    }\n",
              "\n",
              "    .dataframe thead th {\n",
              "        text-align: right;\n",
              "    }\n",
              "</style>\n",
              "<table border=\"1\" class=\"dataframe\">\n",
              "  <thead>\n",
              "    <tr style=\"text-align: right;\">\n",
              "      <th></th>\n",
              "      <th>track_id</th>\n",
              "      <th>track_name</th>\n",
              "      <th>track_artist</th>\n",
              "      <th>lyrics</th>\n",
              "      <th>track_popularity</th>\n",
              "      <th>track_album_id</th>\n",
              "      <th>track_album_name</th>\n",
              "      <th>track_album_release_date</th>\n",
              "      <th>playlist_name</th>\n",
              "      <th>playlist_id</th>\n",
              "      <th>...</th>\n",
              "      <th>loudness</th>\n",
              "      <th>mode</th>\n",
              "      <th>speechiness</th>\n",
              "      <th>acousticness</th>\n",
              "      <th>instrumentalness</th>\n",
              "      <th>liveness</th>\n",
              "      <th>valence</th>\n",
              "      <th>tempo</th>\n",
              "      <th>duration_ms</th>\n",
              "      <th>language</th>\n",
              "    </tr>\n",
              "  </thead>\n",
              "  <tbody>\n",
              "    <tr>\n",
              "      <th>0</th>\n",
              "      <td>0017A6SJgTbfQVU2EtsPNo</td>\n",
              "      <td>Pangarap</td>\n",
              "      <td>Barbie's Cradle</td>\n",
              "      <td>Minsan pa Nang ako'y napalingon Hindi ko alam ...</td>\n",
              "      <td>41</td>\n",
              "      <td>1srJQ0njEQgd8w4XSqI4JQ</td>\n",
              "      <td>Trip</td>\n",
              "      <td>2001-01-01</td>\n",
              "      <td>Pinoy Classic Rock</td>\n",
              "      <td>37i9dQZF1DWYDQ8wBxd7xt</td>\n",
              "      <td>...</td>\n",
              "      <td>-10.068</td>\n",
              "      <td>1</td>\n",
              "      <td>0.0236</td>\n",
              "      <td>0.27900</td>\n",
              "      <td>0.01170</td>\n",
              "      <td>0.0887</td>\n",
              "      <td>0.566</td>\n",
              "      <td>97.091</td>\n",
              "      <td>235440</td>\n",
              "      <td>tl</td>\n",
              "    </tr>\n",
              "    <tr>\n",
              "      <th>1</th>\n",
              "      <td>004s3t0ONYlzxII9PLgU6z</td>\n",
              "      <td>I Feel Alive</td>\n",
              "      <td>Steady Rollin</td>\n",
              "      <td>The trees, are singing in the wind The sky blu...</td>\n",
              "      <td>28</td>\n",
              "      <td>3z04Lb9Dsilqw68SHt6jLB</td>\n",
              "      <td>Love &amp; Loss</td>\n",
              "      <td>2017-11-21</td>\n",
              "      <td>Hard Rock Workout</td>\n",
              "      <td>3YouF0u7waJnolytf9JCXf</td>\n",
              "      <td>...</td>\n",
              "      <td>-4.739</td>\n",
              "      <td>1</td>\n",
              "      <td>0.0442</td>\n",
              "      <td>0.01170</td>\n",
              "      <td>0.00994</td>\n",
              "      <td>0.3470</td>\n",
              "      <td>0.404</td>\n",
              "      <td>135.225</td>\n",
              "      <td>373512</td>\n",
              "      <td>en</td>\n",
              "    </tr>\n",
              "    <tr>\n",
              "      <th>2</th>\n",
              "      <td>00chLpzhgVjxs1zKC9UScL</td>\n",
              "      <td>Poison</td>\n",
              "      <td>Bell Biv DeVoe</td>\n",
              "      <td>NA Yeah, Spyderman and Freeze in full effect U...</td>\n",
              "      <td>0</td>\n",
              "      <td>6oZ6brjB8x3GoeSYdwJdPc</td>\n",
              "      <td>Gold</td>\n",
              "      <td>2005-01-01</td>\n",
              "      <td>Back in the day - R&amp;B, New Jack Swing, Swingbe...</td>\n",
              "      <td>3a9y4eeCJRmG9p4YKfqYIx</td>\n",
              "      <td>...</td>\n",
              "      <td>-7.504</td>\n",
              "      <td>0</td>\n",
              "      <td>0.2160</td>\n",
              "      <td>0.00432</td>\n",
              "      <td>0.00723</td>\n",
              "      <td>0.4890</td>\n",
              "      <td>0.650</td>\n",
              "      <td>111.904</td>\n",
              "      <td>262467</td>\n",
              "      <td>en</td>\n",
              "    </tr>\n",
              "    <tr>\n",
              "      <th>3</th>\n",
              "      <td>00cqd6ZsSkLZqGMlQCR0Zo</td>\n",
              "      <td>Baby It's Cold Outside (feat. Christina Aguilera)</td>\n",
              "      <td>CeeLo Green</td>\n",
              "      <td>I really can't stay Baby it's cold outside I'v...</td>\n",
              "      <td>41</td>\n",
              "      <td>3ssspRe42CXkhPxdc12xcp</td>\n",
              "      <td>CeeLo's Magic Moment</td>\n",
              "      <td>2012-10-29</td>\n",
              "      <td>Christmas Soul</td>\n",
              "      <td>6FZYc2BvF7tColxO8PBShV</td>\n",
              "      <td>...</td>\n",
              "      <td>-5.819</td>\n",
              "      <td>0</td>\n",
              "      <td>0.0341</td>\n",
              "      <td>0.68900</td>\n",
              "      <td>0.00000</td>\n",
              "      <td>0.0664</td>\n",
              "      <td>0.405</td>\n",
              "      <td>118.593</td>\n",
              "      <td>243067</td>\n",
              "      <td>en</td>\n",
              "    </tr>\n",
              "    <tr>\n",
              "      <th>4</th>\n",
              "      <td>00emjlCv9azBN0fzuuyLqy</td>\n",
              "      <td>Dumb Litty</td>\n",
              "      <td>KARD</td>\n",
              "      <td>Get up out of my business You don't keep me fr...</td>\n",
              "      <td>65</td>\n",
              "      <td>7h5X3xhh3peIK9Y0qI5hbK</td>\n",
              "      <td>KARD 2nd Digital Single ‘Dumb Litty’</td>\n",
              "      <td>2019-09-22</td>\n",
              "      <td>K-Party Dance Mix</td>\n",
              "      <td>37i9dQZF1DX4RDXswvP6Mj</td>\n",
              "      <td>...</td>\n",
              "      <td>-1.993</td>\n",
              "      <td>1</td>\n",
              "      <td>0.0409</td>\n",
              "      <td>0.03700</td>\n",
              "      <td>0.00000</td>\n",
              "      <td>0.1380</td>\n",
              "      <td>0.240</td>\n",
              "      <td>130.018</td>\n",
              "      <td>193160</td>\n",
              "      <td>en</td>\n",
              "    </tr>\n",
              "  </tbody>\n",
              "</table>\n",
              "<p>5 rows × 25 columns</p>\n",
              "</div>\n",
              "      <button class=\"colab-df-convert\" onclick=\"convertToInteractive('df-e75e1fb4-3ecf-49a7-9712-132c4ee2d8b7')\"\n",
              "              title=\"Convert this dataframe to an interactive table.\"\n",
              "              style=\"display:none;\">\n",
              "        \n",
              "  <svg xmlns=\"http://www.w3.org/2000/svg\" height=\"24px\"viewBox=\"0 0 24 24\"\n",
              "       width=\"24px\">\n",
              "    <path d=\"M0 0h24v24H0V0z\" fill=\"none\"/>\n",
              "    <path d=\"M18.56 5.44l.94 2.06.94-2.06 2.06-.94-2.06-.94-.94-2.06-.94 2.06-2.06.94zm-11 1L8.5 8.5l.94-2.06 2.06-.94-2.06-.94L8.5 2.5l-.94 2.06-2.06.94zm10 10l.94 2.06.94-2.06 2.06-.94-2.06-.94-.94-2.06-.94 2.06-2.06.94z\"/><path d=\"M17.41 7.96l-1.37-1.37c-.4-.4-.92-.59-1.43-.59-.52 0-1.04.2-1.43.59L10.3 9.45l-7.72 7.72c-.78.78-.78 2.05 0 2.83L4 21.41c.39.39.9.59 1.41.59.51 0 1.02-.2 1.41-.59l7.78-7.78 2.81-2.81c.8-.78.8-2.07 0-2.86zM5.41 20L4 18.59l7.72-7.72 1.47 1.35L5.41 20z\"/>\n",
              "  </svg>\n",
              "      </button>\n",
              "      \n",
              "  <style>\n",
              "    .colab-df-container {\n",
              "      display:flex;\n",
              "      flex-wrap:wrap;\n",
              "      gap: 12px;\n",
              "    }\n",
              "\n",
              "    .colab-df-convert {\n",
              "      background-color: #E8F0FE;\n",
              "      border: none;\n",
              "      border-radius: 50%;\n",
              "      cursor: pointer;\n",
              "      display: none;\n",
              "      fill: #1967D2;\n",
              "      height: 32px;\n",
              "      padding: 0 0 0 0;\n",
              "      width: 32px;\n",
              "    }\n",
              "\n",
              "    .colab-df-convert:hover {\n",
              "      background-color: #E2EBFA;\n",
              "      box-shadow: 0px 1px 2px rgba(60, 64, 67, 0.3), 0px 1px 3px 1px rgba(60, 64, 67, 0.15);\n",
              "      fill: #174EA6;\n",
              "    }\n",
              "\n",
              "    [theme=dark] .colab-df-convert {\n",
              "      background-color: #3B4455;\n",
              "      fill: #D2E3FC;\n",
              "    }\n",
              "\n",
              "    [theme=dark] .colab-df-convert:hover {\n",
              "      background-color: #434B5C;\n",
              "      box-shadow: 0px 1px 3px 1px rgba(0, 0, 0, 0.15);\n",
              "      filter: drop-shadow(0px 1px 2px rgba(0, 0, 0, 0.3));\n",
              "      fill: #FFFFFF;\n",
              "    }\n",
              "  </style>\n",
              "\n",
              "      <script>\n",
              "        const buttonEl =\n",
              "          document.querySelector('#df-e75e1fb4-3ecf-49a7-9712-132c4ee2d8b7 button.colab-df-convert');\n",
              "        buttonEl.style.display =\n",
              "          google.colab.kernel.accessAllowed ? 'block' : 'none';\n",
              "\n",
              "        async function convertToInteractive(key) {\n",
              "          const element = document.querySelector('#df-e75e1fb4-3ecf-49a7-9712-132c4ee2d8b7');\n",
              "          const dataTable =\n",
              "            await google.colab.kernel.invokeFunction('convertToInteractive',\n",
              "                                                     [key], {});\n",
              "          if (!dataTable) return;\n",
              "\n",
              "          const docLinkHtml = 'Like what you see? Visit the ' +\n",
              "            '<a target=\"_blank\" href=https://colab.research.google.com/notebooks/data_table.ipynb>data table notebook</a>'\n",
              "            + ' to learn more about interactive tables.';\n",
              "          element.innerHTML = '';\n",
              "          dataTable['output_type'] = 'display_data';\n",
              "          await google.colab.output.renderOutput(dataTable, element);\n",
              "          const docLink = document.createElement('div');\n",
              "          docLink.innerHTML = docLinkHtml;\n",
              "          element.appendChild(docLink);\n",
              "        }\n",
              "      </script>\n",
              "    </div>\n",
              "  </div>\n",
              "  "
            ]
          },
          "metadata": {},
          "execution_count": 4
        }
      ]
    },
    {
      "cell_type": "code",
      "source": [
        "pd.set_option('display.max_colwidth', 0)"
      ],
      "metadata": {
        "id": "MQ2m6pHPmtpm"
      },
      "execution_count": 18,
      "outputs": []
    },
    {
      "cell_type": "code",
      "source": [
        "df['playlist_genre'].value_counts()"
      ],
      "metadata": {
        "colab": {
          "base_uri": "https://localhost:8080/"
        },
        "id": "Ec5MJxiPhZl4",
        "outputId": "13f85ead-d5e7-44e9-c9bf-eb315c52a4f4"
      },
      "execution_count": 11,
      "outputs": [
        {
          "output_type": "execute_result",
          "data": {
            "text/plain": [
              "pop      3993\n",
              "rock     3521\n",
              "rap      3391\n",
              "r&b      3326\n",
              "latin    2178\n",
              "edm      2045\n",
              "Name: playlist_genre, dtype: int64"
            ]
          },
          "metadata": {},
          "execution_count": 11
        }
      ]
    },
    {
      "cell_type": "code",
      "source": [
        "df_english = df[df['language']=='en'].iloc[:,:11]"
      ],
      "metadata": {
        "id": "hMiIkHzPj_7e"
      },
      "execution_count": 16,
      "outputs": []
    },
    {
      "cell_type": "code",
      "source": [
        "df_english['playlist_genre'].value_counts()"
      ],
      "metadata": {
        "colab": {
          "base_uri": "https://localhost:8080/"
        },
        "id": "w7ayM_E2kK7o",
        "outputId": "2a6fa5be-c5b6-4fdb-9f7d-269f876bcabb"
      },
      "execution_count": 17,
      "outputs": [
        {
          "output_type": "execute_result",
          "data": {
            "text/plain": [
              "pop      3739\n",
              "rock     3388\n",
              "r&b      3161\n",
              "rap      2502\n",
              "edm      1758\n",
              "latin     857\n",
              "Name: playlist_genre, dtype: int64"
            ]
          },
          "metadata": {},
          "execution_count": 17
        }
      ]
    },
    {
      "cell_type": "markdown",
      "source": [
        "We'll just take the english songs to analyze, and will likely ignore the latin genre."
      ],
      "metadata": {
        "id": "cNCEAF_XHw6s"
      }
    },
    {
      "cell_type": "markdown",
      "source": [
        "## Dataset 2\n",
        "This dataset can have multiple genres within the 'Genres' column, so we'd like to split them into at least a Primary and Secondary Genre column to make training easier and to simplify the problem."
      ],
      "metadata": {
        "id": "nIWlJApOlTv1"
      }
    },
    {
      "cell_type": "code",
      "source": [
        "!unzip lyrics-data.csv.zip"
      ],
      "metadata": {
        "colab": {
          "base_uri": "https://localhost:8080/"
        },
        "id": "IM7L72iYksns",
        "outputId": "fb5fc322-b89f-48c8-ddc2-32048605fe1a"
      },
      "execution_count": 25,
      "outputs": [
        {
          "output_type": "stream",
          "name": "stdout",
          "text": [
            "Archive:  lyrics-data.csv.zip\n",
            "replace lyrics-data.csv? [y]es, [n]o, [A]ll, [N]one, [r]ename: y\n",
            "  inflating: lyrics-data.csv         \n"
          ]
        }
      ]
    },
    {
      "cell_type": "code",
      "source": [
        "\n",
        "df2 = pd.read_csv('lyrics-data.csv',on_bad_lines='skip')"
      ],
      "metadata": {
        "id": "6D-VSAEIqQ9K"
      },
      "execution_count": 27,
      "outputs": []
    },
    {
      "cell_type": "code",
      "source": [
        "df2.head()"
      ],
      "metadata": {
        "colab": {
          "base_uri": "https://localhost:8080/",
          "height": 545
        },
        "id": "lA0Pi3W4qWYF",
        "outputId": "89e7d55f-cf4f-447a-da38-999d1d49f89c"
      },
      "execution_count": 28,
      "outputs": [
        {
          "output_type": "execute_result",
          "data": {
            "text/plain": [
              "             ALink                            SName  \\\n",
              "0  /ivete-sangalo/  Arerê                             \n",
              "1  /ivete-sangalo/  Se Eu Não Te Amasse Tanto Assim   \n",
              "2  /ivete-sangalo/  Céu da Boca                       \n",
              "3  /ivete-sangalo/  Quando A Chuva Passar             \n",
              "4  /ivete-sangalo/  Sorte Grande                      \n",
              "\n",
              "                                                 SLink  \\\n",
              "0  /ivete-sangalo/arere.html                             \n",
              "1  /ivete-sangalo/se-eu-nao-te-amasse-tanto-assim.html   \n",
              "2  /ivete-sangalo/chupa-toda.html                        \n",
              "3  /ivete-sangalo/quando-a-chuva-passar.html             \n",
              "4  /ivete-sangalo/sorte-grande.html                      \n",
              "\n",
              "                                                                                                                                                                                                                                                                                                                                                                                                                                                                                                                                                                                                                                                                                                                                                                                                                                                                                                                                                                                                                                                                                                                                                                                       Lyric  \\\n",
              "0  Tudo o que eu quero nessa vida,\\nToda vida, é\\nÉ amar você\\nAmar você\\n\\nO seu amor é como uma chama acesa\\nQueima de prazer\\nDe prazer\\n\\nEu já falei com Deus que não vou te deixar\\nVou te levar pra onde for\\nQualquer lugar\\nJá fiz de tudo pra não te perder\\n\\nArerê,\\nUm lobby, um hobby, um love com você\\nArerê,\\nUm lobby, um hobby, um love com você\\n\\nCai, cai, cai, cai, cai pra cá\\nHey, hey, hey\\nTu-do,tu-do, vai rolar                                                                                                                                                                                                                                                                                                                                                                                                                                                                                                                                                                                                                                                                                                                                                   \n",
              "1  Meu coração\\nSem direção\\nVoando só por voar\\nSem saber onde chegar\\nSonhando em te encontrar\\nE as estrelas\\nQue hoje eu descobri\\nNo seu olhar\\nAs estrelas vão me guiar\\n\\nSe eu não te amasse tanto assim\\nTalvez perdesse os sonhos\\nDentro de mim\\nE vivesse na escuridão\\nSe eu não te amasse tanto assim\\nTalvez não visse flores\\nPor onde eu vi\\nDentro do meu coração\\n\\nHoje eu sei\\nEu te amei\\nNo vento de um temporal\\nMas fui mais\\nMuito além\\nDo tempo do vendaval\\nNos desejos\\nNum beijo\\nQue eu jamais provei igual\\nE as estrelas dão um sinal\\n\\nSe eu não te amasse tanto assim\\nTalvez perdesse os sonhos\\nDentro de mim\\nE vivesse na escuridão\\nSe eu não te amasse tanto assim\\nTalvez não visse flores\\nPor onde eu vi\\nDentro do meu coração...                                                                                                                                                                                                                                                                                                                                                                                                               \n",
              "2  É de babaixá!\\nÉ de balacubaca!\\nÉ de babaixá!\\nÉ de balacubaca!\\ntetetetere tere tete tere tetere\\n\\nEu quero beijar a sua boca louca\\nEu quero beijar a sua boca louca\\nEu vou enfiar uva no céu da sua boca\\nEu vou enfiar uva no céu da sua boca\\n\\nE aí?\\nChupa toda, disse toda\\nE aí?\\nChupa toda, disse toda\\n\\nÉ de babaixá!\\nÉ de balacubaca!\\nÉ de babaixá!\\nÉ de balacubaca!\\ntetetetere tere tete tere tetere\\n\\nEu quero beijar a sua boca louca\\nEu quero beijar a sua boca louca\\nEu vou enfiar uva no céu da sua boca\\nEu vou enfiar uva no céu da sua boca\\n\\nE aí?\\nChupa toda, disse toda\\nE aí?\\nChupa toda, disse toda\\n\\n                                                                                                                                                                                                                                                                                                                                                                                                                                                                                                                                            \n",
              "3  Quando a chuva passar\\n\\nPra quê falar\\nSe você não quer me ouvir?\\nFugir agora não resolve nada\\n\\nMas não vou chorar\\nSe você quiser partir\\nÀs vezes a distância ajuda\\n\\nE essa tempestade um dia vai acabar\\nSó quero te lembrar\\nDe quando a gente andava nas estrelas\\nNas horas lindas que passamos juntos\\nA gente só queria amar e amar e hoje eu tenho certeza\\n\\nA nossa história não termina agora\\nPorque essa tempestade um dia vai acabar\\n\\n(Refrão)\\nQuando a chuva passar\\nQuando o tempo abrir\\nAbra a janela e veja eu sou o sol\\nEu sou céu e mar\\nEu sou seu e fim\\nE o meu amor é imensidão\\n\\nSó quero te lembrar\\nDe quando a gente andava nas estrelas\\nNas horas lindas que passamos juntos\\nA gente só queria amar e amar\\nE hoje eu tenho certeza\\nA nossa história não termina agora\\nPorque essa tempestade um dia vai acabar\\n\\n(Refrão 2x)                                                                                                                                                                                                                                                                                                                \n",
              "4  A minha sorte grande foi você cair do céu\\nMinha paixão verdadeira...\\n\\nViver a emoção, ganhar teu coração\\nPra ser feliz a vida inteira\\n\\nMas é lindo teu sorriso, o brilho dos teus olhos\\nMeu anjo querubim\\n\\nDoces dos meus beijos, calor dos meus braços\\nPerfume de jasmim\\n\\nChegou no meu espaço mandando no pedaço\\nO amor que não é brincadeira\\nPegou me deu um laço,\\nDançou bem no compasso,\\nDe prazer levantou poeira\\n\\nPoeira, poeira, poeira\\nLevantou poeira\\n\\nA minha sorte grande foi você cair do céu\\nMinha paixão verdadeira...\\n\\nViver a emoção, ganhar teu coração\\nPra ser feliz a vida inteira\\n\\nMas é lindo teu sorriso, o brilho dos teus olhos\\nMeu anjo querubim\\n\\nDoces dos meus beijos, calor dos meus braços\\nPerfume de jasmim\\n\\nChegou no meu espaço mandando no pedaço\\nO amor que não é brincadeira\\nPegou me deu um laço,\\nDançou bem no compasso,\\nDe prazer levantou poeira\\n\\nPoeira, poeira, poeira\\nLevantou poeira\\n\\nChegou no meu espaço mandando no pedaço\\nO amor que não é brincadeira\\nPegou me deu um laço,\\nDançou bem no compasso,\\nDe prazer levantou..........Levantou poeira\\n\\nPoeira, poeira, poeira\\nLevantou poeira   \n",
              "\n",
              "  language  \n",
              "0  pt       \n",
              "1  pt       \n",
              "2  pt       \n",
              "3  pt       \n",
              "4  pt       "
            ],
            "text/html": [
              "\n",
              "  <div id=\"df-e9f5c5ec-89cc-4b7e-a141-dd64a1625df2\">\n",
              "    <div class=\"colab-df-container\">\n",
              "      <div>\n",
              "<style scoped>\n",
              "    .dataframe tbody tr th:only-of-type {\n",
              "        vertical-align: middle;\n",
              "    }\n",
              "\n",
              "    .dataframe tbody tr th {\n",
              "        vertical-align: top;\n",
              "    }\n",
              "\n",
              "    .dataframe thead th {\n",
              "        text-align: right;\n",
              "    }\n",
              "</style>\n",
              "<table border=\"1\" class=\"dataframe\">\n",
              "  <thead>\n",
              "    <tr style=\"text-align: right;\">\n",
              "      <th></th>\n",
              "      <th>ALink</th>\n",
              "      <th>SName</th>\n",
              "      <th>SLink</th>\n",
              "      <th>Lyric</th>\n",
              "      <th>language</th>\n",
              "    </tr>\n",
              "  </thead>\n",
              "  <tbody>\n",
              "    <tr>\n",
              "      <th>0</th>\n",
              "      <td>/ivete-sangalo/</td>\n",
              "      <td>Arerê</td>\n",
              "      <td>/ivete-sangalo/arere.html</td>\n",
              "      <td>Tudo o que eu quero nessa vida,\\nToda vida, é\\nÉ amar você\\nAmar você\\n\\nO seu amor é como uma chama acesa\\nQueima de prazer\\nDe prazer\\n\\nEu já falei com Deus que não vou te deixar\\nVou te levar pra onde for\\nQualquer lugar\\nJá fiz de tudo pra não te perder\\n\\nArerê,\\nUm lobby, um hobby, um love com você\\nArerê,\\nUm lobby, um hobby, um love com você\\n\\nCai, cai, cai, cai, cai pra cá\\nHey, hey, hey\\nTu-do,tu-do, vai rolar</td>\n",
              "      <td>pt</td>\n",
              "    </tr>\n",
              "    <tr>\n",
              "      <th>1</th>\n",
              "      <td>/ivete-sangalo/</td>\n",
              "      <td>Se Eu Não Te Amasse Tanto Assim</td>\n",
              "      <td>/ivete-sangalo/se-eu-nao-te-amasse-tanto-assim.html</td>\n",
              "      <td>Meu coração\\nSem direção\\nVoando só por voar\\nSem saber onde chegar\\nSonhando em te encontrar\\nE as estrelas\\nQue hoje eu descobri\\nNo seu olhar\\nAs estrelas vão me guiar\\n\\nSe eu não te amasse tanto assim\\nTalvez perdesse os sonhos\\nDentro de mim\\nE vivesse na escuridão\\nSe eu não te amasse tanto assim\\nTalvez não visse flores\\nPor onde eu vi\\nDentro do meu coração\\n\\nHoje eu sei\\nEu te amei\\nNo vento de um temporal\\nMas fui mais\\nMuito além\\nDo tempo do vendaval\\nNos desejos\\nNum beijo\\nQue eu jamais provei igual\\nE as estrelas dão um sinal\\n\\nSe eu não te amasse tanto assim\\nTalvez perdesse os sonhos\\nDentro de mim\\nE vivesse na escuridão\\nSe eu não te amasse tanto assim\\nTalvez não visse flores\\nPor onde eu vi\\nDentro do meu coração...</td>\n",
              "      <td>pt</td>\n",
              "    </tr>\n",
              "    <tr>\n",
              "      <th>2</th>\n",
              "      <td>/ivete-sangalo/</td>\n",
              "      <td>Céu da Boca</td>\n",
              "      <td>/ivete-sangalo/chupa-toda.html</td>\n",
              "      <td>É de babaixá!\\nÉ de balacubaca!\\nÉ de babaixá!\\nÉ de balacubaca!\\ntetetetere tere tete tere tetere\\n\\nEu quero beijar a sua boca louca\\nEu quero beijar a sua boca louca\\nEu vou enfiar uva no céu da sua boca\\nEu vou enfiar uva no céu da sua boca\\n\\nE aí?\\nChupa toda, disse toda\\nE aí?\\nChupa toda, disse toda\\n\\nÉ de babaixá!\\nÉ de balacubaca!\\nÉ de babaixá!\\nÉ de balacubaca!\\ntetetetere tere tete tere tetere\\n\\nEu quero beijar a sua boca louca\\nEu quero beijar a sua boca louca\\nEu vou enfiar uva no céu da sua boca\\nEu vou enfiar uva no céu da sua boca\\n\\nE aí?\\nChupa toda, disse toda\\nE aí?\\nChupa toda, disse toda\\n\\n</td>\n",
              "      <td>pt</td>\n",
              "    </tr>\n",
              "    <tr>\n",
              "      <th>3</th>\n",
              "      <td>/ivete-sangalo/</td>\n",
              "      <td>Quando A Chuva Passar</td>\n",
              "      <td>/ivete-sangalo/quando-a-chuva-passar.html</td>\n",
              "      <td>Quando a chuva passar\\n\\nPra quê falar\\nSe você não quer me ouvir?\\nFugir agora não resolve nada\\n\\nMas não vou chorar\\nSe você quiser partir\\nÀs vezes a distância ajuda\\n\\nE essa tempestade um dia vai acabar\\nSó quero te lembrar\\nDe quando a gente andava nas estrelas\\nNas horas lindas que passamos juntos\\nA gente só queria amar e amar e hoje eu tenho certeza\\n\\nA nossa história não termina agora\\nPorque essa tempestade um dia vai acabar\\n\\n(Refrão)\\nQuando a chuva passar\\nQuando o tempo abrir\\nAbra a janela e veja eu sou o sol\\nEu sou céu e mar\\nEu sou seu e fim\\nE o meu amor é imensidão\\n\\nSó quero te lembrar\\nDe quando a gente andava nas estrelas\\nNas horas lindas que passamos juntos\\nA gente só queria amar e amar\\nE hoje eu tenho certeza\\nA nossa história não termina agora\\nPorque essa tempestade um dia vai acabar\\n\\n(Refrão 2x)</td>\n",
              "      <td>pt</td>\n",
              "    </tr>\n",
              "    <tr>\n",
              "      <th>4</th>\n",
              "      <td>/ivete-sangalo/</td>\n",
              "      <td>Sorte Grande</td>\n",
              "      <td>/ivete-sangalo/sorte-grande.html</td>\n",
              "      <td>A minha sorte grande foi você cair do céu\\nMinha paixão verdadeira...\\n\\nViver a emoção, ganhar teu coração\\nPra ser feliz a vida inteira\\n\\nMas é lindo teu sorriso, o brilho dos teus olhos\\nMeu anjo querubim\\n\\nDoces dos meus beijos, calor dos meus braços\\nPerfume de jasmim\\n\\nChegou no meu espaço mandando no pedaço\\nO amor que não é brincadeira\\nPegou me deu um laço,\\nDançou bem no compasso,\\nDe prazer levantou poeira\\n\\nPoeira, poeira, poeira\\nLevantou poeira\\n\\nA minha sorte grande foi você cair do céu\\nMinha paixão verdadeira...\\n\\nViver a emoção, ganhar teu coração\\nPra ser feliz a vida inteira\\n\\nMas é lindo teu sorriso, o brilho dos teus olhos\\nMeu anjo querubim\\n\\nDoces dos meus beijos, calor dos meus braços\\nPerfume de jasmim\\n\\nChegou no meu espaço mandando no pedaço\\nO amor que não é brincadeira\\nPegou me deu um laço,\\nDançou bem no compasso,\\nDe prazer levantou poeira\\n\\nPoeira, poeira, poeira\\nLevantou poeira\\n\\nChegou no meu espaço mandando no pedaço\\nO amor que não é brincadeira\\nPegou me deu um laço,\\nDançou bem no compasso,\\nDe prazer levantou..........Levantou poeira\\n\\nPoeira, poeira, poeira\\nLevantou poeira</td>\n",
              "      <td>pt</td>\n",
              "    </tr>\n",
              "  </tbody>\n",
              "</table>\n",
              "</div>\n",
              "      <button class=\"colab-df-convert\" onclick=\"convertToInteractive('df-e9f5c5ec-89cc-4b7e-a141-dd64a1625df2')\"\n",
              "              title=\"Convert this dataframe to an interactive table.\"\n",
              "              style=\"display:none;\">\n",
              "        \n",
              "  <svg xmlns=\"http://www.w3.org/2000/svg\" height=\"24px\"viewBox=\"0 0 24 24\"\n",
              "       width=\"24px\">\n",
              "    <path d=\"M0 0h24v24H0V0z\" fill=\"none\"/>\n",
              "    <path d=\"M18.56 5.44l.94 2.06.94-2.06 2.06-.94-2.06-.94-.94-2.06-.94 2.06-2.06.94zm-11 1L8.5 8.5l.94-2.06 2.06-.94-2.06-.94L8.5 2.5l-.94 2.06-2.06.94zm10 10l.94 2.06.94-2.06 2.06-.94-2.06-.94-.94-2.06-.94 2.06-2.06.94z\"/><path d=\"M17.41 7.96l-1.37-1.37c-.4-.4-.92-.59-1.43-.59-.52 0-1.04.2-1.43.59L10.3 9.45l-7.72 7.72c-.78.78-.78 2.05 0 2.83L4 21.41c.39.39.9.59 1.41.59.51 0 1.02-.2 1.41-.59l7.78-7.78 2.81-2.81c.8-.78.8-2.07 0-2.86zM5.41 20L4 18.59l7.72-7.72 1.47 1.35L5.41 20z\"/>\n",
              "  </svg>\n",
              "      </button>\n",
              "      \n",
              "  <style>\n",
              "    .colab-df-container {\n",
              "      display:flex;\n",
              "      flex-wrap:wrap;\n",
              "      gap: 12px;\n",
              "    }\n",
              "\n",
              "    .colab-df-convert {\n",
              "      background-color: #E8F0FE;\n",
              "      border: none;\n",
              "      border-radius: 50%;\n",
              "      cursor: pointer;\n",
              "      display: none;\n",
              "      fill: #1967D2;\n",
              "      height: 32px;\n",
              "      padding: 0 0 0 0;\n",
              "      width: 32px;\n",
              "    }\n",
              "\n",
              "    .colab-df-convert:hover {\n",
              "      background-color: #E2EBFA;\n",
              "      box-shadow: 0px 1px 2px rgba(60, 64, 67, 0.3), 0px 1px 3px 1px rgba(60, 64, 67, 0.15);\n",
              "      fill: #174EA6;\n",
              "    }\n",
              "\n",
              "    [theme=dark] .colab-df-convert {\n",
              "      background-color: #3B4455;\n",
              "      fill: #D2E3FC;\n",
              "    }\n",
              "\n",
              "    [theme=dark] .colab-df-convert:hover {\n",
              "      background-color: #434B5C;\n",
              "      box-shadow: 0px 1px 3px 1px rgba(0, 0, 0, 0.15);\n",
              "      filter: drop-shadow(0px 1px 2px rgba(0, 0, 0, 0.3));\n",
              "      fill: #FFFFFF;\n",
              "    }\n",
              "  </style>\n",
              "\n",
              "      <script>\n",
              "        const buttonEl =\n",
              "          document.querySelector('#df-e9f5c5ec-89cc-4b7e-a141-dd64a1625df2 button.colab-df-convert');\n",
              "        buttonEl.style.display =\n",
              "          google.colab.kernel.accessAllowed ? 'block' : 'none';\n",
              "\n",
              "        async function convertToInteractive(key) {\n",
              "          const element = document.querySelector('#df-e9f5c5ec-89cc-4b7e-a141-dd64a1625df2');\n",
              "          const dataTable =\n",
              "            await google.colab.kernel.invokeFunction('convertToInteractive',\n",
              "                                                     [key], {});\n",
              "          if (!dataTable) return;\n",
              "\n",
              "          const docLinkHtml = 'Like what you see? Visit the ' +\n",
              "            '<a target=\"_blank\" href=https://colab.research.google.com/notebooks/data_table.ipynb>data table notebook</a>'\n",
              "            + ' to learn more about interactive tables.';\n",
              "          element.innerHTML = '';\n",
              "          dataTable['output_type'] = 'display_data';\n",
              "          await google.colab.output.renderOutput(dataTable, element);\n",
              "          const docLink = document.createElement('div');\n",
              "          docLink.innerHTML = docLinkHtml;\n",
              "          element.appendChild(docLink);\n",
              "        }\n",
              "      </script>\n",
              "    </div>\n",
              "  </div>\n",
              "  "
            ]
          },
          "metadata": {},
          "execution_count": 28
        }
      ]
    },
    {
      "cell_type": "code",
      "source": [
        "df_artists = pd.read_csv('artists-data.csv')"
      ],
      "metadata": {
        "id": "2N72PAWAsTC2"
      },
      "execution_count": 29,
      "outputs": []
    },
    {
      "cell_type": "code",
      "source": [
        "df_artists.rename(columns={'Link':'ALink'}, inplace=True)\n",
        "df_artists.head()"
      ],
      "metadata": {
        "colab": {
          "base_uri": "https://localhost:8080/",
          "height": 206
        },
        "id": "_KkDTnZDt6p3",
        "outputId": "2699751e-9de7-4818-dfd0-f1a270e08a69"
      },
      "execution_count": 44,
      "outputs": [
        {
          "output_type": "execute_result",
          "data": {
            "text/plain": [
              "                Artist                  Genres  Songs  Popularity  \\\n",
              "0  Ivete Sangalo        Pop; Axé; Romântico     313.0  4.4          \n",
              "1  Chiclete com Banana  Axé                     268.0  3.8          \n",
              "2  Banda Eva            Axé; Romântico; Reggae  215.0  2.3          \n",
              "3  É O Tchan            Axé                     129.0  1.6          \n",
              "4  Claudia Leitte       Pop; Axé; Romântico     167.0  1.5          \n",
              "\n",
              "                   ALink  \n",
              "0  /ivete-sangalo/        \n",
              "1  /chiclete-com-banana/  \n",
              "2  /banda-eva/            \n",
              "3  /e-o-tchan/            \n",
              "4  /claudia-leitte/       "
            ],
            "text/html": [
              "\n",
              "  <div id=\"df-d9f378e3-8c1e-466c-8b76-21a1d13e7b01\">\n",
              "    <div class=\"colab-df-container\">\n",
              "      <div>\n",
              "<style scoped>\n",
              "    .dataframe tbody tr th:only-of-type {\n",
              "        vertical-align: middle;\n",
              "    }\n",
              "\n",
              "    .dataframe tbody tr th {\n",
              "        vertical-align: top;\n",
              "    }\n",
              "\n",
              "    .dataframe thead th {\n",
              "        text-align: right;\n",
              "    }\n",
              "</style>\n",
              "<table border=\"1\" class=\"dataframe\">\n",
              "  <thead>\n",
              "    <tr style=\"text-align: right;\">\n",
              "      <th></th>\n",
              "      <th>Artist</th>\n",
              "      <th>Genres</th>\n",
              "      <th>Songs</th>\n",
              "      <th>Popularity</th>\n",
              "      <th>ALink</th>\n",
              "    </tr>\n",
              "  </thead>\n",
              "  <tbody>\n",
              "    <tr>\n",
              "      <th>0</th>\n",
              "      <td>Ivete Sangalo</td>\n",
              "      <td>Pop; Axé; Romântico</td>\n",
              "      <td>313.0</td>\n",
              "      <td>4.4</td>\n",
              "      <td>/ivete-sangalo/</td>\n",
              "    </tr>\n",
              "    <tr>\n",
              "      <th>1</th>\n",
              "      <td>Chiclete com Banana</td>\n",
              "      <td>Axé</td>\n",
              "      <td>268.0</td>\n",
              "      <td>3.8</td>\n",
              "      <td>/chiclete-com-banana/</td>\n",
              "    </tr>\n",
              "    <tr>\n",
              "      <th>2</th>\n",
              "      <td>Banda Eva</td>\n",
              "      <td>Axé; Romântico; Reggae</td>\n",
              "      <td>215.0</td>\n",
              "      <td>2.3</td>\n",
              "      <td>/banda-eva/</td>\n",
              "    </tr>\n",
              "    <tr>\n",
              "      <th>3</th>\n",
              "      <td>É O Tchan</td>\n",
              "      <td>Axé</td>\n",
              "      <td>129.0</td>\n",
              "      <td>1.6</td>\n",
              "      <td>/e-o-tchan/</td>\n",
              "    </tr>\n",
              "    <tr>\n",
              "      <th>4</th>\n",
              "      <td>Claudia Leitte</td>\n",
              "      <td>Pop; Axé; Romântico</td>\n",
              "      <td>167.0</td>\n",
              "      <td>1.5</td>\n",
              "      <td>/claudia-leitte/</td>\n",
              "    </tr>\n",
              "  </tbody>\n",
              "</table>\n",
              "</div>\n",
              "      <button class=\"colab-df-convert\" onclick=\"convertToInteractive('df-d9f378e3-8c1e-466c-8b76-21a1d13e7b01')\"\n",
              "              title=\"Convert this dataframe to an interactive table.\"\n",
              "              style=\"display:none;\">\n",
              "        \n",
              "  <svg xmlns=\"http://www.w3.org/2000/svg\" height=\"24px\"viewBox=\"0 0 24 24\"\n",
              "       width=\"24px\">\n",
              "    <path d=\"M0 0h24v24H0V0z\" fill=\"none\"/>\n",
              "    <path d=\"M18.56 5.44l.94 2.06.94-2.06 2.06-.94-2.06-.94-.94-2.06-.94 2.06-2.06.94zm-11 1L8.5 8.5l.94-2.06 2.06-.94-2.06-.94L8.5 2.5l-.94 2.06-2.06.94zm10 10l.94 2.06.94-2.06 2.06-.94-2.06-.94-.94-2.06-.94 2.06-2.06.94z\"/><path d=\"M17.41 7.96l-1.37-1.37c-.4-.4-.92-.59-1.43-.59-.52 0-1.04.2-1.43.59L10.3 9.45l-7.72 7.72c-.78.78-.78 2.05 0 2.83L4 21.41c.39.39.9.59 1.41.59.51 0 1.02-.2 1.41-.59l7.78-7.78 2.81-2.81c.8-.78.8-2.07 0-2.86zM5.41 20L4 18.59l7.72-7.72 1.47 1.35L5.41 20z\"/>\n",
              "  </svg>\n",
              "      </button>\n",
              "      \n",
              "  <style>\n",
              "    .colab-df-container {\n",
              "      display:flex;\n",
              "      flex-wrap:wrap;\n",
              "      gap: 12px;\n",
              "    }\n",
              "\n",
              "    .colab-df-convert {\n",
              "      background-color: #E8F0FE;\n",
              "      border: none;\n",
              "      border-radius: 50%;\n",
              "      cursor: pointer;\n",
              "      display: none;\n",
              "      fill: #1967D2;\n",
              "      height: 32px;\n",
              "      padding: 0 0 0 0;\n",
              "      width: 32px;\n",
              "    }\n",
              "\n",
              "    .colab-df-convert:hover {\n",
              "      background-color: #E2EBFA;\n",
              "      box-shadow: 0px 1px 2px rgba(60, 64, 67, 0.3), 0px 1px 3px 1px rgba(60, 64, 67, 0.15);\n",
              "      fill: #174EA6;\n",
              "    }\n",
              "\n",
              "    [theme=dark] .colab-df-convert {\n",
              "      background-color: #3B4455;\n",
              "      fill: #D2E3FC;\n",
              "    }\n",
              "\n",
              "    [theme=dark] .colab-df-convert:hover {\n",
              "      background-color: #434B5C;\n",
              "      box-shadow: 0px 1px 3px 1px rgba(0, 0, 0, 0.15);\n",
              "      filter: drop-shadow(0px 1px 2px rgba(0, 0, 0, 0.3));\n",
              "      fill: #FFFFFF;\n",
              "    }\n",
              "  </style>\n",
              "\n",
              "      <script>\n",
              "        const buttonEl =\n",
              "          document.querySelector('#df-d9f378e3-8c1e-466c-8b76-21a1d13e7b01 button.colab-df-convert');\n",
              "        buttonEl.style.display =\n",
              "          google.colab.kernel.accessAllowed ? 'block' : 'none';\n",
              "\n",
              "        async function convertToInteractive(key) {\n",
              "          const element = document.querySelector('#df-d9f378e3-8c1e-466c-8b76-21a1d13e7b01');\n",
              "          const dataTable =\n",
              "            await google.colab.kernel.invokeFunction('convertToInteractive',\n",
              "                                                     [key], {});\n",
              "          if (!dataTable) return;\n",
              "\n",
              "          const docLinkHtml = 'Like what you see? Visit the ' +\n",
              "            '<a target=\"_blank\" href=https://colab.research.google.com/notebooks/data_table.ipynb>data table notebook</a>'\n",
              "            + ' to learn more about interactive tables.';\n",
              "          element.innerHTML = '';\n",
              "          dataTable['output_type'] = 'display_data';\n",
              "          await google.colab.output.renderOutput(dataTable, element);\n",
              "          const docLink = document.createElement('div');\n",
              "          docLink.innerHTML = docLinkHtml;\n",
              "          element.appendChild(docLink);\n",
              "        }\n",
              "      </script>\n",
              "    </div>\n",
              "  </div>\n",
              "  "
            ]
          },
          "metadata": {},
          "execution_count": 44
        }
      ]
    },
    {
      "cell_type": "code",
      "source": [
        "df_merged = df2.merge(df_artists,on='ALink')\n",
        "df_merged_en = df_merged[df_merged['language']=='en']"
      ],
      "metadata": {
        "id": "uA7Un2CGuFTA"
      },
      "execution_count": 51,
      "outputs": []
    },
    {
      "cell_type": "code",
      "source": [
        "df_merged_en['Genres'].value_counts()[:50]"
      ],
      "metadata": {
        "colab": {
          "base_uri": "https://localhost:8080/"
        },
        "id": "5s-oRC54vSuB",
        "outputId": "50714615-d390-4c6d-d4a8-0804eeb3f06e"
      },
      "execution_count": 54,
      "outputs": [
        {
          "output_type": "execute_result",
          "data": {
            "text/plain": [
              "Country                             4774\n",
              "Rock                                4672\n",
              "Heavy Metal                         4394\n",
              "Indie                               4289\n",
              "Rap; Hip Hop                        3426\n",
              "Pop                                 2544\n",
              "Hip Hop; Rap; Black Music           2456\n",
              "Rock; Hard Rock; Heavy Metal        2130\n",
              "Rap                                 2012\n",
              "Heavy Metal; Rock; Hard Rock        1781\n",
              "Hip Hop; Rap                        1657\n",
              "Heavy Metal; Hard Rock; Rock        1507\n",
              "Indie; Rock                         1502\n",
              "Soul Music; R&B                     1485\n",
              "Gospel/Religioso                    1431\n",
              "Pop/Rock                            1374\n",
              "Jazz                                1356\n",
              "Punk Rock                           1310\n",
              "Rap; Hip Hop; Black Music           1293\n",
              "Reggae                              1255\n",
              "Hip Hop                             1112\n",
              "Hard Rock; Heavy Metal; Rock        1095\n",
              "Folk                                1078\n",
              "Blues                               1063\n",
              "Soft Rock                           1003\n",
              "Rock; Hard Rock                     924 \n",
              "Electronica                         911 \n",
              "Pop; Dance                          898 \n",
              "Gospel/Religioso; Pop/Rock; Rock    879 \n",
              "Pop/Rock; Pop                       847 \n",
              "Romântico                           829 \n",
              "Rock; Folk                          821 \n",
              "Jazz; Clássico; Romântico           819 \n",
              "Pop/Rock; Rock                      814 \n",
              "Pop; R&B; Black Music               805 \n",
              "Trilha Sonora; Pop/Rock; Pop        788 \n",
              "Indie; Rock; Rock Alternativo       781 \n",
              "Soft Rock; Romântico; Pop/Rock      776 \n",
              "R&B; Hip Hop                        755 \n",
              "Rock Alternativo; Indie; Rock       752 \n",
              "Rockabilly; Romântico; Rock         747 \n",
              "Hard Rock                           739 \n",
              "Rock; Blues                         727 \n",
              "Hardcore; Punk Rock                 722 \n",
              "Rock; Pop/Rock                      713 \n",
              "Hard Rock; Rock                     690 \n",
              "R&B; Black Music; Rap               689 \n",
              "Pop; Pop/Rock                       675 \n",
              "Dance; Pop; Pop/Rock                655 \n",
              "Trilha Sonora                       647 \n",
              "Name: Genres, dtype: int64"
            ]
          },
          "metadata": {},
          "execution_count": 54
        }
      ]
    },
    {
      "cell_type": "markdown",
      "source": [
        "It seems like there's a lot of combinations of genres with this dataset. Let's limit to using 8 possible genres: R&B, Pop, Rock, Hip Hop, Blues, Country, Indie, and EDM. The EDM songs will be sourced from the first dataset."
      ],
      "metadata": {
        "id": "pLOqqT06HLoR"
      }
    },
    {
      "cell_type": "code",
      "source": [
        "df_relevant_genres = df_merged_en.loc[df_merged_en['Genres'].str.startswith((\"R&B\",\"Pop\",\"Rock\",\"Hip Hop\",\"Blues\",\"Country\",\"Indie\",\"EDM\"),na=False),['SName','Artist','Lyric','Genres']]"
      ],
      "metadata": {
        "id": "eIkMTSEE84h6"
      },
      "execution_count": 91,
      "outputs": []
    },
    {
      "cell_type": "code",
      "source": [
        "df_relevant_genres['Genres'].value_counts()[:20]"
      ],
      "metadata": {
        "colab": {
          "base_uri": "https://localhost:8080/"
        },
        "id": "3j34qg6h-JUz",
        "outputId": "dae13c96-e971-40a6-dd3c-d11f35cafa58"
      },
      "execution_count": 95,
      "outputs": [
        {
          "output_type": "execute_result",
          "data": {
            "text/plain": [
              "Country                          4774\n",
              "Rock                             4672\n",
              "Indie                            4289\n",
              "Pop                              2544\n",
              "Hip Hop; Rap; Black Music        2456\n",
              "Rock; Hard Rock; Heavy Metal     2130\n",
              "Hip Hop; Rap                     1657\n",
              "Indie; Rock                      1502\n",
              "Pop/Rock                         1374\n",
              "Hip Hop                          1112\n",
              "Blues                            1063\n",
              "Rock; Hard Rock                  924 \n",
              "Pop; Dance                       898 \n",
              "Pop/Rock; Pop                    847 \n",
              "Rock; Folk                       821 \n",
              "Pop/Rock; Rock                   814 \n",
              "Pop; R&B; Black Music            805 \n",
              "Indie; Rock; Rock Alternativo    781 \n",
              "R&B; Hip Hop                     755 \n",
              "Rock Alternativo; Indie; Rock    752 \n",
              "Name: Genres, dtype: int64"
            ]
          },
          "metadata": {},
          "execution_count": 95
        }
      ]
    },
    {
      "cell_type": "code",
      "source": [
        "accepted_genres = [\"R&B\",\"Pop\",\"Rock\",\"Hip Hop\",\"Blues\",\"Country\",\"Indie\",\"EDM\"]\n",
        "\n",
        "def get_secondary_genres(row):\n",
        "  all_genres = row['Genres'].split(';')\n",
        "  # secondary_genres = all_genres[1:] if len(all_genres) > 1 else []\n",
        "  for i, g in enumerate(all_genres):\n",
        "    if i == 0:\n",
        "      row['Primary Genre'] = g\n",
        "    elif i > 0:\n",
        "      secondary = g.strip()\n",
        "      if secondary in accepted_genres:\n",
        "        row['Secondary Genre'] = secondary\n",
        "        return row\n",
        "  row['Secondary Genre'] = None\n",
        "  return row\n",
        "\n",
        "df_labelled = df_relevant_genres.apply(get_secondary_genres,axis=1)"
      ],
      "metadata": {
        "id": "9JWzzib5AIjl"
      },
      "execution_count": 108,
      "outputs": []
    },
    {
      "cell_type": "markdown",
      "source": [
        "Now we'll look at the class distribution for Dataset 2:"
      ],
      "metadata": {
        "id": "WqAPEuUAH7XP"
      }
    },
    {
      "cell_type": "code",
      "source": [
        "df_labelled['Primary Genre'].value_counts()"
      ],
      "metadata": {
        "colab": {
          "base_uri": "https://localhost:8080/"
        },
        "id": "Owhxnl6JEtF4",
        "outputId": "015e8e94-7442-4eec-e21b-192426b99422"
      },
      "execution_count": 110,
      "outputs": [
        {
          "output_type": "execute_result",
          "data": {
            "text/plain": [
              "Rock                25177\n",
              "Pop                 13759\n",
              "Indie               12998\n",
              "Pop/Rock            9019 \n",
              "Hip Hop             8412 \n",
              "Country             7377 \n",
              "Rock Alternativo    5555 \n",
              "R&B                 5309 \n",
              "Rockabilly          2495 \n",
              "Blues               2038 \n",
              "Pop/Punk            1179 \n",
              "Name: Primary Genre, dtype: int64"
            ]
          },
          "metadata": {},
          "execution_count": 110
        }
      ]
    },
    {
      "cell_type": "code",
      "source": [
        "df_labelled['Secondary Genre'].value_counts()"
      ],
      "metadata": {
        "colab": {
          "base_uri": "https://localhost:8080/"
        },
        "id": "9Dp8bYk1EyNA",
        "outputId": "70e88fdd-be2e-4842-82ca-b4fb50508e75"
      },
      "execution_count": 111,
      "outputs": [
        {
          "output_type": "execute_result",
          "data": {
            "text/plain": [
              "Rock       14387\n",
              "Pop        6741 \n",
              "R&B        4337 \n",
              "Indie      4187 \n",
              "Hip Hop    2211 \n",
              "Blues      1763 \n",
              "Country    1624 \n",
              "Name: Secondary Genre, dtype: int64"
            ]
          },
          "metadata": {},
          "execution_count": 111
        }
      ]
    },
    {
      "cell_type": "code",
      "source": [
        "# num_RnB = df_merged_en[df_merged_en['Genres'].str.startswith(r'R&B',na=False)].shape[0]\n",
        "# num_pop = df_merged_en[df_merged_en['Genres'].str.startswith(r'Pop',na=False)].shape[0]\n",
        "# num_rock = df_merged_en[df_merged_en['Genres'].str.startswith(r'Rock',na=False)].shape[0]\n",
        "# num_hiphop = df_merged_en[df_merged_en['Genres'].str.startswith(r'Hip Hop',na=False)].shape[0]\n",
        "# num_blues = df_merged_en[df_merged_en['Genres'].str.startswith(r'Blues',na=False)].shape[0]\n",
        "# num_country = df_merged_en[df_merged_en['Genres'].str.startswith(r'Country',na=False)].shape[0]\n",
        "# num_indie = df_merged_en[df_merged_en['Genres'].str.startswith(r'Indie',na=False)].shape[0]\n",
        "# num_edm = df_merged_en[df_merged_en['Genres'].str.startswith(r'EDM',na=False)].shape[0]\n",
        "# num_rap = df_merged_en[df_merged_en['Genres'].str.startswith(r'Rap',na=False)].shape[0]"
      ],
      "metadata": {
        "id": "TxjEAcUZsuDA"
      },
      "execution_count": 71,
      "outputs": []
    },
    {
      "cell_type": "code",
      "source": [
        "print(num_RnB)\n",
        "print(num_pop)\n",
        "print(num_rock)\n",
        "print(num_hiphop)\n",
        "print(num_blues)\n",
        "print(num_country)\n",
        "print(num_indie)\n",
        "print(num_edm)\n",
        "print(num_rap)"
      ],
      "metadata": {
        "colab": {
          "base_uri": "https://localhost:8080/"
        },
        "id": "j8kv1r5T5TSD",
        "outputId": "b0517f97-e533-4a82-95c3-513d8ec50b51"
      },
      "execution_count": 72,
      "outputs": [
        {
          "output_type": "stream",
          "name": "stdout",
          "text": [
            "5309\n",
            "23957\n",
            "33227\n",
            "8412\n",
            "2038\n",
            "7377\n",
            "12998\n",
            "0\n",
            "9589\n"
          ]
        }
      ]
    },
    {
      "cell_type": "code",
      "source": [],
      "metadata": {
        "id": "pXj6LO_o5yHY"
      },
      "execution_count": null,
      "outputs": []
    }
  ]
}