{
  "nbformat": 4,
  "nbformat_minor": 0,
  "metadata": {
    "colab": {
      "provenance": []
    },
    "kernelspec": {
      "name": "python3",
      "display_name": "Python 3"
    },
    "language_info": {
      "name": "python"
    }
  },
  "cells": [
    {
      "cell_type": "code",
      "execution_count": 1,
      "metadata": {
        "colab": {
          "base_uri": "https://localhost:8080/"
        },
        "id": "DmTUwTv6zJ_G",
        "outputId": "26cfcb68-4171-4535-ac32-55ec8f95a10a"
      },
      "outputs": [
        {
          "output_type": "stream",
          "name": "stderr",
          "text": [
            "[nltk_data] Downloading package stopwords to /root/nltk_data...\n",
            "[nltk_data]   Package stopwords is already up-to-date!\n",
            "[nltk_data] Downloading package punkt to /root/nltk_data...\n",
            "[nltk_data]   Package punkt is already up-to-date!\n"
          ]
        },
        {
          "output_type": "stream",
          "name": "stdout",
          "text": [
            "Drive already mounted at /content/drive; to attempt to forcibly remount, call drive.mount(\"/content/drive\", force_remount=True).\n",
            "/content/drive/.shortcut-targets-by-id/1fJllm6_aqmmawo8B6hq9rhewEDIBmSpR/ECE1786 Project/Dataset\n"
          ]
        }
      ],
      "source": [
        "import csv\n",
        "import pandas as pd\n",
        "import numpy as np\n",
        "\n",
        "from sklearn.model_selection import train_test_split\n",
        "from sklearn.feature_extraction.text import TfidfVectorizer\n",
        "from sklearn.feature_extraction.text import CountVectorizer\n",
        "from sklearn.feature_extraction.text import TfidfTransformer\n",
        "from sklearn.naive_bayes import MultinomialNB\n",
        "from sklearn.linear_model import LogisticRegression\n",
        "from sklearn.ensemble import RandomForestClassifier\n",
        "from sklearn.svm import LinearSVC\n",
        "from sklearn import metrics\n",
        "\n",
        "import nltk\n",
        "nltk.download('stopwords')\n",
        "nltk.download('punkt')\n",
        "from nltk.corpus import stopwords\n",
        "from nltk.tokenize import word_tokenize\n",
        "from io import StringIO\n",
        "from google.colab import drive\n",
        "drive.mount('/content/drive')\n",
        "%cd /content/drive/MyDrive/ECE1786 Project/Dataset/\n"
      ]
    },
    {
      "cell_type": "code",
      "source": [
        "#!unzip dataset_all_genres.csv.zip"
      ],
      "metadata": {
        "id": "YiWYBpXsLOHY"
      },
      "execution_count": 2,
      "outputs": []
    },
    {
      "cell_type": "code",
      "source": [
        "#track_name, lyrics, primary_genre, lyrics\n",
        "#read the csv file into dataframe but only keep the genres chosen for classification\n",
        "df = pd.read_csv('dataset_all_genres.csv',error_bad_lines=False)\n",
        "genres = [\"R&B\",\"Pop\",\"Rock\",\"Hip Hop\",\"Blues\",\"Country\",\"Indie\",\"EDM\"]\n",
        "df = df[df['primary_genre'].isin(genres)]"
      ],
      "metadata": {
        "colab": {
          "base_uri": "https://localhost:8080/"
        },
        "id": "pgZOIsgc1Xt4",
        "outputId": "dffaf1d1-77af-4295-d9d7-647df02e94b4"
      },
      "execution_count": 3,
      "outputs": [
        {
          "output_type": "stream",
          "name": "stderr",
          "text": [
            "/usr/local/lib/python3.7/dist-packages/IPython/core/interactiveshell.py:3326: FutureWarning: The error_bad_lines argument has been deprecated and will be removed in a future version.\n",
            "\n",
            "\n",
            "  exec(code_obj, self.user_global_ns, self.user_ns)\n"
          ]
        }
      ]
    },
    {
      "cell_type": "code",
      "source": [
        "df"
      ],
      "metadata": {
        "colab": {
          "base_uri": "https://localhost:8080/",
          "height": 423
        },
        "id": "tpBUy1KdGkON",
        "outputId": "f4821886-0e03-4529-c025-73f6b18ff8b9"
      },
      "execution_count": 4,
      "outputs": [
        {
          "output_type": "execute_result",
          "data": {
            "text/plain": [
              "                                              track_name  \\\n",
              "0                                       Careless Whisper   \n",
              "1      Could You Be Loved / Citação Musical do Rap: S...   \n",
              "2                                 Cruisin' (Part. Saulo)   \n",
              "3                                                   Easy   \n",
              "4                      For Your Babies (The Voice cover)   \n",
              "...                                                  ...   \n",
              "95071                                       I Wanna Know   \n",
              "95072                     Wildcard (feat. Sidnie Tipton)   \n",
              "95073                                     Andrew's Break   \n",
              "95074                          Do Bad Well (feat. Nevve)   \n",
              "95075                    Rising Like The Sun - Radio Mix   \n",
              "\n",
              "                                                  lyrics primary_genre  \\\n",
              "0      I feel so unsure\\nAs I take your hand and lead...           Pop   \n",
              "1      Don't let them fool, ya\\nOr even try to school...           Pop   \n",
              "2      Baby, let's cruise, away from here\\nDon't be c...           Pop   \n",
              "3      Know it sounds funny\\nBut, I just can't stand ...           Pop   \n",
              "4      You've got that look again\\nThe one I hoped I ...           Pop   \n",
              "...                                                  ...           ...   \n",
              "95071  There's a light on your skin, painted gold on ...           EDM   \n",
              "95072  I come around the turn and people stop and sta...           EDM   \n",
              "95073  I have never been aboard a steamer I am just c...           EDM   \n",
              "95074  Oh, my daddy taught me well There's some devil...           EDM   \n",
              "95075  Caught up in such a head rush, wide-eyed latel...           EDM   \n",
              "\n",
              "      secondary_genre  \n",
              "0                 NaN  \n",
              "1                 NaN  \n",
              "2                 NaN  \n",
              "3                 NaN  \n",
              "4                 NaN  \n",
              "...               ...  \n",
              "95071             NaN  \n",
              "95072             NaN  \n",
              "95073             NaN  \n",
              "95074             NaN  \n",
              "95075             NaN  \n",
              "\n",
              "[76828 rows x 4 columns]"
            ],
            "text/html": [
              "\n",
              "  <div id=\"df-ad5974e6-91f0-4d5d-b19a-4ad6c18aa0d4\">\n",
              "    <div class=\"colab-df-container\">\n",
              "      <div>\n",
              "<style scoped>\n",
              "    .dataframe tbody tr th:only-of-type {\n",
              "        vertical-align: middle;\n",
              "    }\n",
              "\n",
              "    .dataframe tbody tr th {\n",
              "        vertical-align: top;\n",
              "    }\n",
              "\n",
              "    .dataframe thead th {\n",
              "        text-align: right;\n",
              "    }\n",
              "</style>\n",
              "<table border=\"1\" class=\"dataframe\">\n",
              "  <thead>\n",
              "    <tr style=\"text-align: right;\">\n",
              "      <th></th>\n",
              "      <th>track_name</th>\n",
              "      <th>lyrics</th>\n",
              "      <th>primary_genre</th>\n",
              "      <th>secondary_genre</th>\n",
              "    </tr>\n",
              "  </thead>\n",
              "  <tbody>\n",
              "    <tr>\n",
              "      <th>0</th>\n",
              "      <td>Careless Whisper</td>\n",
              "      <td>I feel so unsure\\nAs I take your hand and lead...</td>\n",
              "      <td>Pop</td>\n",
              "      <td>NaN</td>\n",
              "    </tr>\n",
              "    <tr>\n",
              "      <th>1</th>\n",
              "      <td>Could You Be Loved / Citação Musical do Rap: S...</td>\n",
              "      <td>Don't let them fool, ya\\nOr even try to school...</td>\n",
              "      <td>Pop</td>\n",
              "      <td>NaN</td>\n",
              "    </tr>\n",
              "    <tr>\n",
              "      <th>2</th>\n",
              "      <td>Cruisin' (Part. Saulo)</td>\n",
              "      <td>Baby, let's cruise, away from here\\nDon't be c...</td>\n",
              "      <td>Pop</td>\n",
              "      <td>NaN</td>\n",
              "    </tr>\n",
              "    <tr>\n",
              "      <th>3</th>\n",
              "      <td>Easy</td>\n",
              "      <td>Know it sounds funny\\nBut, I just can't stand ...</td>\n",
              "      <td>Pop</td>\n",
              "      <td>NaN</td>\n",
              "    </tr>\n",
              "    <tr>\n",
              "      <th>4</th>\n",
              "      <td>For Your Babies (The Voice cover)</td>\n",
              "      <td>You've got that look again\\nThe one I hoped I ...</td>\n",
              "      <td>Pop</td>\n",
              "      <td>NaN</td>\n",
              "    </tr>\n",
              "    <tr>\n",
              "      <th>...</th>\n",
              "      <td>...</td>\n",
              "      <td>...</td>\n",
              "      <td>...</td>\n",
              "      <td>...</td>\n",
              "    </tr>\n",
              "    <tr>\n",
              "      <th>95071</th>\n",
              "      <td>I Wanna Know</td>\n",
              "      <td>There's a light on your skin, painted gold on ...</td>\n",
              "      <td>EDM</td>\n",
              "      <td>NaN</td>\n",
              "    </tr>\n",
              "    <tr>\n",
              "      <th>95072</th>\n",
              "      <td>Wildcard (feat. Sidnie Tipton)</td>\n",
              "      <td>I come around the turn and people stop and sta...</td>\n",
              "      <td>EDM</td>\n",
              "      <td>NaN</td>\n",
              "    </tr>\n",
              "    <tr>\n",
              "      <th>95073</th>\n",
              "      <td>Andrew's Break</td>\n",
              "      <td>I have never been aboard a steamer I am just c...</td>\n",
              "      <td>EDM</td>\n",
              "      <td>NaN</td>\n",
              "    </tr>\n",
              "    <tr>\n",
              "      <th>95074</th>\n",
              "      <td>Do Bad Well (feat. Nevve)</td>\n",
              "      <td>Oh, my daddy taught me well There's some devil...</td>\n",
              "      <td>EDM</td>\n",
              "      <td>NaN</td>\n",
              "    </tr>\n",
              "    <tr>\n",
              "      <th>95075</th>\n",
              "      <td>Rising Like The Sun - Radio Mix</td>\n",
              "      <td>Caught up in such a head rush, wide-eyed latel...</td>\n",
              "      <td>EDM</td>\n",
              "      <td>NaN</td>\n",
              "    </tr>\n",
              "  </tbody>\n",
              "</table>\n",
              "<p>76828 rows × 4 columns</p>\n",
              "</div>\n",
              "      <button class=\"colab-df-convert\" onclick=\"convertToInteractive('df-ad5974e6-91f0-4d5d-b19a-4ad6c18aa0d4')\"\n",
              "              title=\"Convert this dataframe to an interactive table.\"\n",
              "              style=\"display:none;\">\n",
              "        \n",
              "  <svg xmlns=\"http://www.w3.org/2000/svg\" height=\"24px\"viewBox=\"0 0 24 24\"\n",
              "       width=\"24px\">\n",
              "    <path d=\"M0 0h24v24H0V0z\" fill=\"none\"/>\n",
              "    <path d=\"M18.56 5.44l.94 2.06.94-2.06 2.06-.94-2.06-.94-.94-2.06-.94 2.06-2.06.94zm-11 1L8.5 8.5l.94-2.06 2.06-.94-2.06-.94L8.5 2.5l-.94 2.06-2.06.94zm10 10l.94 2.06.94-2.06 2.06-.94-2.06-.94-.94-2.06-.94 2.06-2.06.94z\"/><path d=\"M17.41 7.96l-1.37-1.37c-.4-.4-.92-.59-1.43-.59-.52 0-1.04.2-1.43.59L10.3 9.45l-7.72 7.72c-.78.78-.78 2.05 0 2.83L4 21.41c.39.39.9.59 1.41.59.51 0 1.02-.2 1.41-.59l7.78-7.78 2.81-2.81c.8-.78.8-2.07 0-2.86zM5.41 20L4 18.59l7.72-7.72 1.47 1.35L5.41 20z\"/>\n",
              "  </svg>\n",
              "      </button>\n",
              "      \n",
              "  <style>\n",
              "    .colab-df-container {\n",
              "      display:flex;\n",
              "      flex-wrap:wrap;\n",
              "      gap: 12px;\n",
              "    }\n",
              "\n",
              "    .colab-df-convert {\n",
              "      background-color: #E8F0FE;\n",
              "      border: none;\n",
              "      border-radius: 50%;\n",
              "      cursor: pointer;\n",
              "      display: none;\n",
              "      fill: #1967D2;\n",
              "      height: 32px;\n",
              "      padding: 0 0 0 0;\n",
              "      width: 32px;\n",
              "    }\n",
              "\n",
              "    .colab-df-convert:hover {\n",
              "      background-color: #E2EBFA;\n",
              "      box-shadow: 0px 1px 2px rgba(60, 64, 67, 0.3), 0px 1px 3px 1px rgba(60, 64, 67, 0.15);\n",
              "      fill: #174EA6;\n",
              "    }\n",
              "\n",
              "    [theme=dark] .colab-df-convert {\n",
              "      background-color: #3B4455;\n",
              "      fill: #D2E3FC;\n",
              "    }\n",
              "\n",
              "    [theme=dark] .colab-df-convert:hover {\n",
              "      background-color: #434B5C;\n",
              "      box-shadow: 0px 1px 3px 1px rgba(0, 0, 0, 0.15);\n",
              "      filter: drop-shadow(0px 1px 2px rgba(0, 0, 0, 0.3));\n",
              "      fill: #FFFFFF;\n",
              "    }\n",
              "  </style>\n",
              "\n",
              "      <script>\n",
              "        const buttonEl =\n",
              "          document.querySelector('#df-ad5974e6-91f0-4d5d-b19a-4ad6c18aa0d4 button.colab-df-convert');\n",
              "        buttonEl.style.display =\n",
              "          google.colab.kernel.accessAllowed ? 'block' : 'none';\n",
              "\n",
              "        async function convertToInteractive(key) {\n",
              "          const element = document.querySelector('#df-ad5974e6-91f0-4d5d-b19a-4ad6c18aa0d4');\n",
              "          const dataTable =\n",
              "            await google.colab.kernel.invokeFunction('convertToInteractive',\n",
              "                                                     [key], {});\n",
              "          if (!dataTable) return;\n",
              "\n",
              "          const docLinkHtml = 'Like what you see? Visit the ' +\n",
              "            '<a target=\"_blank\" href=https://colab.research.google.com/notebooks/data_table.ipynb>data table notebook</a>'\n",
              "            + ' to learn more about interactive tables.';\n",
              "          element.innerHTML = '';\n",
              "          dataTable['output_type'] = 'display_data';\n",
              "          await google.colab.output.renderOutput(dataTable, element);\n",
              "          const docLink = document.createElement('div');\n",
              "          docLink.innerHTML = docLinkHtml;\n",
              "          element.appendChild(docLink);\n",
              "        }\n",
              "      </script>\n",
              "    </div>\n",
              "  </div>\n",
              "  "
            ]
          },
          "metadata": {},
          "execution_count": 4
        }
      ]
    },
    {
      "cell_type": "code",
      "source": [
        "print(df.iloc[0])"
      ],
      "metadata": {
        "colab": {
          "base_uri": "https://localhost:8080/"
        },
        "id": "5eRBj0KxeGHM",
        "outputId": "7b186ad5-836a-4967-fa80-264e2c7bd590"
      },
      "execution_count": 5,
      "outputs": [
        {
          "output_type": "stream",
          "name": "stdout",
          "text": [
            "track_name                                          Careless Whisper\n",
            "lyrics             I feel so unsure\\nAs I take your hand and lead...\n",
            "primary_genre                                                    Pop\n",
            "secondary_genre                                                  NaN\n",
            "Name: 0, dtype: object\n"
          ]
        }
      ]
    },
    {
      "cell_type": "code",
      "source": [
        "df['primary_genre'].value_counts()"
      ],
      "metadata": {
        "colab": {
          "base_uri": "https://localhost:8080/"
        },
        "id": "6XkAxFg-Gga_",
        "outputId": "7af6175a-8334-4ca4-f738-66a6aef90025"
      },
      "execution_count": 6,
      "outputs": [
        {
          "output_type": "execute_result",
          "data": {
            "text/plain": [
              "Rock       25177\n",
              "Pop        13759\n",
              "Indie      12998\n",
              "Hip Hop     8412\n",
              "Country     7377\n",
              "R&B         5309\n",
              "Blues       2038\n",
              "EDM         1758\n",
              "Name: primary_genre, dtype: int64"
            ]
          },
          "metadata": {},
          "execution_count": 6
        }
      ]
    },
    {
      "cell_type": "code",
      "source": [
        "#just use 500 from each genre for the baseline model\n",
        "df_baseline = df.groupby('primary_genre').sample(n=500, random_state=200)"
      ],
      "metadata": {
        "id": "JyyjHGlkH2n7"
      },
      "execution_count": 7,
      "outputs": []
    },
    {
      "cell_type": "code",
      "source": [
        "#preprocess data\n",
        "stop_words = set(stopwords.words('english'))\n",
        "\n",
        "def preprocess_lyrics(lyrics, remove_stop_words = True):\n",
        "  #change words to lower case\n",
        "  word_tokens = word_tokenize(lyrics)\n",
        "  lyrics = [w for w in word_tokens if not w.lower() in stop_words]\n",
        "\n",
        "  if remove_stop_words:\n",
        "    filtered_lyrics = []\n",
        "    for w in word_tokens:\n",
        "      if w not in stop_words:\n",
        "        filtered_lyrics.append(w)\n",
        "    return \" \".join(filtered_lyrics)\n",
        "  else:\n",
        "    return word_tokens\n",
        "\n",
        "def preprocess_dataset(dataframe, remove_stop_words = True):\n",
        "  genres = []\n",
        "  lyrics = []\n",
        "  for index, row in dataframe.iterrows():\n",
        "    genres.append(row['primary_genre'])\n",
        "    lyrics.append(preprocess_lyrics(row['lyrics'], remove_stop_words))\n",
        "  return genres, lyrics\n",
        "  "
      ],
      "metadata": {
        "id": "SOW0zNuO-D6g"
      },
      "execution_count": 8,
      "outputs": []
    },
    {
      "cell_type": "code",
      "source": [
        "example = df_baseline['lyrics'].iloc[0]\n",
        "lyric = preprocess_lyrics(example)"
      ],
      "metadata": {
        "id": "A7kuLGDqKr_T"
      },
      "execution_count": 9,
      "outputs": []
    },
    {
      "cell_type": "code",
      "source": [
        "bs_genres, bs_lyrics = preprocess_dataset(df_baseline)"
      ],
      "metadata": {
        "id": "me-MrtqI1LKt"
      },
      "execution_count": 10,
      "outputs": []
    },
    {
      "cell_type": "code",
      "source": [
        "print(bs_lyrics[0])"
      ],
      "metadata": {
        "colab": {
          "base_uri": "https://localhost:8080/"
        },
        "id": "T3JhZ04gYfM9",
        "outputId": "acb8d0b1-b0ca-4180-902b-0b9bc7d2cae1"
      },
      "execution_count": 11,
      "outputs": [
        {
          "output_type": "stream",
          "name": "stdout",
          "text": [
            "Some people call junker Say I 'm loaded mind But I feel happy I feel good time Some say I use needle And say I sniff cocaine That 's best damn feeling That I 've ever seen So goodbye , goodbye whisky And long gin Just give reefer I wan na get high Well men crave chicken Some fellas crave steak But I 'll happy oh happy With slice yellow cake Some people call junker Say I 'm loaded time But I feel happy I feel good time\n"
          ]
        }
      ]
    },
    {
      "cell_type": "code",
      "source": [
        "bs_dict = {\"genres\": bs_genres, \"lyrics\": bs_lyrics}\n",
        "bs_df = pd.DataFrame(bs_dict)\n",
        "bs_df.head()"
      ],
      "metadata": {
        "colab": {
          "base_uri": "https://localhost:8080/",
          "height": 206
        },
        "id": "SZjsGoKlaHdI",
        "outputId": "72b70d25-e7fa-4b28-f8d8-c163c8fc6834"
      },
      "execution_count": 12,
      "outputs": [
        {
          "output_type": "execute_result",
          "data": {
            "text/plain": [
              "  genres                                             lyrics\n",
              "0  Blues  Some people call junker Say I 'm loaded mind B...\n",
              "1  Blues  It 's got leaky carburetor A rusted floor Four...\n",
              "2  Blues  I get weary evenin When suns goin . I get wear...\n",
              "3  Blues  Lord knows I 've tried To 's right One whole y...\n",
              "4  Blues  My baby gives love As good love I leave crying..."
            ],
            "text/html": [
              "\n",
              "  <div id=\"df-facbef80-76c2-4634-9e7f-cf765fe4eeea\">\n",
              "    <div class=\"colab-df-container\">\n",
              "      <div>\n",
              "<style scoped>\n",
              "    .dataframe tbody tr th:only-of-type {\n",
              "        vertical-align: middle;\n",
              "    }\n",
              "\n",
              "    .dataframe tbody tr th {\n",
              "        vertical-align: top;\n",
              "    }\n",
              "\n",
              "    .dataframe thead th {\n",
              "        text-align: right;\n",
              "    }\n",
              "</style>\n",
              "<table border=\"1\" class=\"dataframe\">\n",
              "  <thead>\n",
              "    <tr style=\"text-align: right;\">\n",
              "      <th></th>\n",
              "      <th>genres</th>\n",
              "      <th>lyrics</th>\n",
              "    </tr>\n",
              "  </thead>\n",
              "  <tbody>\n",
              "    <tr>\n",
              "      <th>0</th>\n",
              "      <td>Blues</td>\n",
              "      <td>Some people call junker Say I 'm loaded mind B...</td>\n",
              "    </tr>\n",
              "    <tr>\n",
              "      <th>1</th>\n",
              "      <td>Blues</td>\n",
              "      <td>It 's got leaky carburetor A rusted floor Four...</td>\n",
              "    </tr>\n",
              "    <tr>\n",
              "      <th>2</th>\n",
              "      <td>Blues</td>\n",
              "      <td>I get weary evenin When suns goin . I get wear...</td>\n",
              "    </tr>\n",
              "    <tr>\n",
              "      <th>3</th>\n",
              "      <td>Blues</td>\n",
              "      <td>Lord knows I 've tried To 's right One whole y...</td>\n",
              "    </tr>\n",
              "    <tr>\n",
              "      <th>4</th>\n",
              "      <td>Blues</td>\n",
              "      <td>My baby gives love As good love I leave crying...</td>\n",
              "    </tr>\n",
              "  </tbody>\n",
              "</table>\n",
              "</div>\n",
              "      <button class=\"colab-df-convert\" onclick=\"convertToInteractive('df-facbef80-76c2-4634-9e7f-cf765fe4eeea')\"\n",
              "              title=\"Convert this dataframe to an interactive table.\"\n",
              "              style=\"display:none;\">\n",
              "        \n",
              "  <svg xmlns=\"http://www.w3.org/2000/svg\" height=\"24px\"viewBox=\"0 0 24 24\"\n",
              "       width=\"24px\">\n",
              "    <path d=\"M0 0h24v24H0V0z\" fill=\"none\"/>\n",
              "    <path d=\"M18.56 5.44l.94 2.06.94-2.06 2.06-.94-2.06-.94-.94-2.06-.94 2.06-2.06.94zm-11 1L8.5 8.5l.94-2.06 2.06-.94-2.06-.94L8.5 2.5l-.94 2.06-2.06.94zm10 10l.94 2.06.94-2.06 2.06-.94-2.06-.94-.94-2.06-.94 2.06-2.06.94z\"/><path d=\"M17.41 7.96l-1.37-1.37c-.4-.4-.92-.59-1.43-.59-.52 0-1.04.2-1.43.59L10.3 9.45l-7.72 7.72c-.78.78-.78 2.05 0 2.83L4 21.41c.39.39.9.59 1.41.59.51 0 1.02-.2 1.41-.59l7.78-7.78 2.81-2.81c.8-.78.8-2.07 0-2.86zM5.41 20L4 18.59l7.72-7.72 1.47 1.35L5.41 20z\"/>\n",
              "  </svg>\n",
              "      </button>\n",
              "      \n",
              "  <style>\n",
              "    .colab-df-container {\n",
              "      display:flex;\n",
              "      flex-wrap:wrap;\n",
              "      gap: 12px;\n",
              "    }\n",
              "\n",
              "    .colab-df-convert {\n",
              "      background-color: #E8F0FE;\n",
              "      border: none;\n",
              "      border-radius: 50%;\n",
              "      cursor: pointer;\n",
              "      display: none;\n",
              "      fill: #1967D2;\n",
              "      height: 32px;\n",
              "      padding: 0 0 0 0;\n",
              "      width: 32px;\n",
              "    }\n",
              "\n",
              "    .colab-df-convert:hover {\n",
              "      background-color: #E2EBFA;\n",
              "      box-shadow: 0px 1px 2px rgba(60, 64, 67, 0.3), 0px 1px 3px 1px rgba(60, 64, 67, 0.15);\n",
              "      fill: #174EA6;\n",
              "    }\n",
              "\n",
              "    [theme=dark] .colab-df-convert {\n",
              "      background-color: #3B4455;\n",
              "      fill: #D2E3FC;\n",
              "    }\n",
              "\n",
              "    [theme=dark] .colab-df-convert:hover {\n",
              "      background-color: #434B5C;\n",
              "      box-shadow: 0px 1px 3px 1px rgba(0, 0, 0, 0.15);\n",
              "      filter: drop-shadow(0px 1px 2px rgba(0, 0, 0, 0.3));\n",
              "      fill: #FFFFFF;\n",
              "    }\n",
              "  </style>\n",
              "\n",
              "      <script>\n",
              "        const buttonEl =\n",
              "          document.querySelector('#df-facbef80-76c2-4634-9e7f-cf765fe4eeea button.colab-df-convert');\n",
              "        buttonEl.style.display =\n",
              "          google.colab.kernel.accessAllowed ? 'block' : 'none';\n",
              "\n",
              "        async function convertToInteractive(key) {\n",
              "          const element = document.querySelector('#df-facbef80-76c2-4634-9e7f-cf765fe4eeea');\n",
              "          const dataTable =\n",
              "            await google.colab.kernel.invokeFunction('convertToInteractive',\n",
              "                                                     [key], {});\n",
              "          if (!dataTable) return;\n",
              "\n",
              "          const docLinkHtml = 'Like what you see? Visit the ' +\n",
              "            '<a target=\"_blank\" href=https://colab.research.google.com/notebooks/data_table.ipynb>data table notebook</a>'\n",
              "            + ' to learn more about interactive tables.';\n",
              "          element.innerHTML = '';\n",
              "          dataTable['output_type'] = 'display_data';\n",
              "          await google.colab.output.renderOutput(dataTable, element);\n",
              "          const docLink = document.createElement('div');\n",
              "          docLink.innerHTML = docLinkHtml;\n",
              "          element.appendChild(docLink);\n",
              "        }\n",
              "      </script>\n",
              "    </div>\n",
              "  </div>\n",
              "  "
            ]
          },
          "metadata": {},
          "execution_count": 12
        }
      ]
    },
    {
      "cell_type": "code",
      "source": [
        "#add genre id to convert genre to labels\n",
        "bs_df['genre_id'] = bs_df['genres'].factorize()[0]\n",
        "genre_id_df = bs_df[['genres', 'genre_id']].drop_duplicates().sort_values('genre_id')\n",
        "genre_to_id = dict(genre_id_df.values)\n",
        "id_to_genre = dict(genre_id_df[['genre_id', 'genres']].values)\n",
        "bs_df.head()"
      ],
      "metadata": {
        "colab": {
          "base_uri": "https://localhost:8080/",
          "height": 206
        },
        "id": "XGxTOJYgamzY",
        "outputId": "6e844258-531e-40fc-b14f-2f56827c37b0"
      },
      "execution_count": 13,
      "outputs": [
        {
          "output_type": "execute_result",
          "data": {
            "text/plain": [
              "  genres                                             lyrics  genre_id\n",
              "0  Blues  Some people call junker Say I 'm loaded mind B...         0\n",
              "1  Blues  It 's got leaky carburetor A rusted floor Four...         0\n",
              "2  Blues  I get weary evenin When suns goin . I get wear...         0\n",
              "3  Blues  Lord knows I 've tried To 's right One whole y...         0\n",
              "4  Blues  My baby gives love As good love I leave crying...         0"
            ],
            "text/html": [
              "\n",
              "  <div id=\"df-ab2f1d02-698c-4fc0-a937-c06024cf0813\">\n",
              "    <div class=\"colab-df-container\">\n",
              "      <div>\n",
              "<style scoped>\n",
              "    .dataframe tbody tr th:only-of-type {\n",
              "        vertical-align: middle;\n",
              "    }\n",
              "\n",
              "    .dataframe tbody tr th {\n",
              "        vertical-align: top;\n",
              "    }\n",
              "\n",
              "    .dataframe thead th {\n",
              "        text-align: right;\n",
              "    }\n",
              "</style>\n",
              "<table border=\"1\" class=\"dataframe\">\n",
              "  <thead>\n",
              "    <tr style=\"text-align: right;\">\n",
              "      <th></th>\n",
              "      <th>genres</th>\n",
              "      <th>lyrics</th>\n",
              "      <th>genre_id</th>\n",
              "    </tr>\n",
              "  </thead>\n",
              "  <tbody>\n",
              "    <tr>\n",
              "      <th>0</th>\n",
              "      <td>Blues</td>\n",
              "      <td>Some people call junker Say I 'm loaded mind B...</td>\n",
              "      <td>0</td>\n",
              "    </tr>\n",
              "    <tr>\n",
              "      <th>1</th>\n",
              "      <td>Blues</td>\n",
              "      <td>It 's got leaky carburetor A rusted floor Four...</td>\n",
              "      <td>0</td>\n",
              "    </tr>\n",
              "    <tr>\n",
              "      <th>2</th>\n",
              "      <td>Blues</td>\n",
              "      <td>I get weary evenin When suns goin . I get wear...</td>\n",
              "      <td>0</td>\n",
              "    </tr>\n",
              "    <tr>\n",
              "      <th>3</th>\n",
              "      <td>Blues</td>\n",
              "      <td>Lord knows I 've tried To 's right One whole y...</td>\n",
              "      <td>0</td>\n",
              "    </tr>\n",
              "    <tr>\n",
              "      <th>4</th>\n",
              "      <td>Blues</td>\n",
              "      <td>My baby gives love As good love I leave crying...</td>\n",
              "      <td>0</td>\n",
              "    </tr>\n",
              "  </tbody>\n",
              "</table>\n",
              "</div>\n",
              "      <button class=\"colab-df-convert\" onclick=\"convertToInteractive('df-ab2f1d02-698c-4fc0-a937-c06024cf0813')\"\n",
              "              title=\"Convert this dataframe to an interactive table.\"\n",
              "              style=\"display:none;\">\n",
              "        \n",
              "  <svg xmlns=\"http://www.w3.org/2000/svg\" height=\"24px\"viewBox=\"0 0 24 24\"\n",
              "       width=\"24px\">\n",
              "    <path d=\"M0 0h24v24H0V0z\" fill=\"none\"/>\n",
              "    <path d=\"M18.56 5.44l.94 2.06.94-2.06 2.06-.94-2.06-.94-.94-2.06-.94 2.06-2.06.94zm-11 1L8.5 8.5l.94-2.06 2.06-.94-2.06-.94L8.5 2.5l-.94 2.06-2.06.94zm10 10l.94 2.06.94-2.06 2.06-.94-2.06-.94-.94-2.06-.94 2.06-2.06.94z\"/><path d=\"M17.41 7.96l-1.37-1.37c-.4-.4-.92-.59-1.43-.59-.52 0-1.04.2-1.43.59L10.3 9.45l-7.72 7.72c-.78.78-.78 2.05 0 2.83L4 21.41c.39.39.9.59 1.41.59.51 0 1.02-.2 1.41-.59l7.78-7.78 2.81-2.81c.8-.78.8-2.07 0-2.86zM5.41 20L4 18.59l7.72-7.72 1.47 1.35L5.41 20z\"/>\n",
              "  </svg>\n",
              "      </button>\n",
              "      \n",
              "  <style>\n",
              "    .colab-df-container {\n",
              "      display:flex;\n",
              "      flex-wrap:wrap;\n",
              "      gap: 12px;\n",
              "    }\n",
              "\n",
              "    .colab-df-convert {\n",
              "      background-color: #E8F0FE;\n",
              "      border: none;\n",
              "      border-radius: 50%;\n",
              "      cursor: pointer;\n",
              "      display: none;\n",
              "      fill: #1967D2;\n",
              "      height: 32px;\n",
              "      padding: 0 0 0 0;\n",
              "      width: 32px;\n",
              "    }\n",
              "\n",
              "    .colab-df-convert:hover {\n",
              "      background-color: #E2EBFA;\n",
              "      box-shadow: 0px 1px 2px rgba(60, 64, 67, 0.3), 0px 1px 3px 1px rgba(60, 64, 67, 0.15);\n",
              "      fill: #174EA6;\n",
              "    }\n",
              "\n",
              "    [theme=dark] .colab-df-convert {\n",
              "      background-color: #3B4455;\n",
              "      fill: #D2E3FC;\n",
              "    }\n",
              "\n",
              "    [theme=dark] .colab-df-convert:hover {\n",
              "      background-color: #434B5C;\n",
              "      box-shadow: 0px 1px 3px 1px rgba(0, 0, 0, 0.15);\n",
              "      filter: drop-shadow(0px 1px 2px rgba(0, 0, 0, 0.3));\n",
              "      fill: #FFFFFF;\n",
              "    }\n",
              "  </style>\n",
              "\n",
              "      <script>\n",
              "        const buttonEl =\n",
              "          document.querySelector('#df-ab2f1d02-698c-4fc0-a937-c06024cf0813 button.colab-df-convert');\n",
              "        buttonEl.style.display =\n",
              "          google.colab.kernel.accessAllowed ? 'block' : 'none';\n",
              "\n",
              "        async function convertToInteractive(key) {\n",
              "          const element = document.querySelector('#df-ab2f1d02-698c-4fc0-a937-c06024cf0813');\n",
              "          const dataTable =\n",
              "            await google.colab.kernel.invokeFunction('convertToInteractive',\n",
              "                                                     [key], {});\n",
              "          if (!dataTable) return;\n",
              "\n",
              "          const docLinkHtml = 'Like what you see? Visit the ' +\n",
              "            '<a target=\"_blank\" href=https://colab.research.google.com/notebooks/data_table.ipynb>data table notebook</a>'\n",
              "            + ' to learn more about interactive tables.';\n",
              "          element.innerHTML = '';\n",
              "          dataTable['output_type'] = 'display_data';\n",
              "          await google.colab.output.renderOutput(dataTable, element);\n",
              "          const docLink = document.createElement('div');\n",
              "          docLink.innerHTML = docLinkHtml;\n",
              "          element.appendChild(docLink);\n",
              "        }\n",
              "      </script>\n",
              "    </div>\n",
              "  </div>\n",
              "  "
            ]
          },
          "metadata": {},
          "execution_count": 13
        }
      ]
    },
    {
      "cell_type": "code",
      "source": [
        "#TFIDF- IDF BASELINE MODEL\n",
        "def tfidf (df):\n",
        "  tfidf = TfidfVectorizer(analyzer='word',stop_words = 'english')\n",
        "  features = tfidf.fit_transform(df.lyrics).toarray()\n",
        "  labels = df.genre_id\n",
        "  return features, labels"
      ],
      "metadata": {
        "id": "qpR8j17nOaKJ"
      },
      "execution_count": 14,
      "outputs": []
    },
    {
      "cell_type": "code",
      "source": [
        "features, labels = tfidf(bs_df)"
      ],
      "metadata": {
        "id": "nSeCJbhLOt6z"
      },
      "execution_count": 15,
      "outputs": []
    },
    {
      "cell_type": "code",
      "source": [
        "x_train, x_test, y_train, y_test = train_test_split(features, labels,  stratify=labels, random_state = 200)"
      ],
      "metadata": {
        "id": "3kMYLnEjZAcW"
      },
      "execution_count": 16,
      "outputs": []
    },
    {
      "cell_type": "code",
      "source": [
        "#Random Forests\n",
        "rfc = RandomForestClassifier(n_estimators=300, random_state=200)\n",
        "rfc.fit(x_train, y_train)\n",
        "y_pred = rfc.predict(x_test)\n",
        "print(\"Accuracy:\",metrics.accuracy_score(y_test, y_pred))\n",
        "print(metrics.classification_report(y_test, y_pred, target_names=bs_df['genres'].unique()))"
      ],
      "metadata": {
        "colab": {
          "base_uri": "https://localhost:8080/"
        },
        "id": "3OtKakK8z4OP",
        "outputId": "44adc13d-def1-46bf-89e1-fc1b140efe0b"
      },
      "execution_count": 17,
      "outputs": [
        {
          "output_type": "stream",
          "name": "stdout",
          "text": [
            "Accuracy: 0.406\n",
            "              precision    recall  f1-score   support\n",
            "\n",
            "       Blues       0.41      0.67      0.51       125\n",
            "     Country       0.48      0.44      0.46       125\n",
            "         EDM       0.29      0.77      0.42       125\n",
            "     Hip Hop       0.63      0.72      0.67       125\n",
            "       Indie       0.36      0.14      0.20       125\n",
            "         Pop       0.36      0.18      0.24       125\n",
            "         R&B       0.48      0.23      0.31       125\n",
            "        Rock       0.34      0.10      0.16       125\n",
            "\n",
            "    accuracy                           0.41      1000\n",
            "   macro avg       0.42      0.41      0.37      1000\n",
            "weighted avg       0.42      0.41      0.37      1000\n",
            "\n"
          ]
        }
      ]
    },
    {
      "cell_type": "code",
      "source": [
        "#Multinomial Naive Bayes\n",
        "mnb = MultinomialNB().fit(x_train, y_train)\n",
        "y_pred = mnb.predict(x_test)\n",
        "print(\"Accuracy:\",metrics.accuracy_score(y_test, y_pred))\n",
        "print(metrics.classification_report(y_test, y_pred, target_names=bs_df['genres'].unique()))"
      ],
      "metadata": {
        "colab": {
          "base_uri": "https://localhost:8080/"
        },
        "id": "cgMT5OCiP05V",
        "outputId": "982b3ea0-1963-4555-9766-fab06cf95bd5"
      },
      "execution_count": 18,
      "outputs": [
        {
          "output_type": "stream",
          "name": "stdout",
          "text": [
            "Accuracy: 0.363\n",
            "              precision    recall  f1-score   support\n",
            "\n",
            "       Blues       0.59      0.54      0.56       125\n",
            "     Country       0.38      0.50      0.43       125\n",
            "         EDM       0.58      0.25      0.35       125\n",
            "     Hip Hop       0.44      0.78      0.56       125\n",
            "       Indie       0.41      0.06      0.10       125\n",
            "         Pop       0.21      0.35      0.26       125\n",
            "         R&B       0.26      0.37      0.31       125\n",
            "        Rock       0.15      0.06      0.08       125\n",
            "\n",
            "    accuracy                           0.36      1000\n",
            "   macro avg       0.38      0.36      0.33      1000\n",
            "weighted avg       0.38      0.36      0.33      1000\n",
            "\n"
          ]
        }
      ]
    },
    {
      "cell_type": "code",
      "source": [
        "#Linear Support Vector Classifier\n",
        "lsvc = LinearSVC().fit(x_train, y_train)\n",
        "y_pred = lsvc.predict(x_test)\n",
        "print(\"Accuracy:\",metrics.accuracy_score(y_test, y_pred))\n",
        "print(metrics.classification_report(y_test, y_pred, target_names=bs_df['genres'].unique()))"
      ],
      "metadata": {
        "colab": {
          "base_uri": "https://localhost:8080/"
        },
        "id": "RwyeepQLRCNk",
        "outputId": "bf4e1593-7afb-419d-dcae-41b6363b6d31"
      },
      "execution_count": 19,
      "outputs": [
        {
          "output_type": "stream",
          "name": "stdout",
          "text": [
            "Accuracy: 0.377\n",
            "              precision    recall  f1-score   support\n",
            "\n",
            "       Blues       0.48      0.54      0.51       125\n",
            "     Country       0.40      0.43      0.41       125\n",
            "         EDM       0.37      0.50      0.43       125\n",
            "     Hip Hop       0.63      0.62      0.63       125\n",
            "       Indie       0.31      0.26      0.28       125\n",
            "         Pop       0.24      0.22      0.23       125\n",
            "         R&B       0.32      0.27      0.30       125\n",
            "        Rock       0.19      0.16      0.18       125\n",
            "\n",
            "    accuracy                           0.38      1000\n",
            "   macro avg       0.37      0.38      0.37      1000\n",
            "weighted avg       0.37      0.38      0.37      1000\n",
            "\n"
          ]
        }
      ]
    },
    {
      "cell_type": "code",
      "source": [
        "#Logistic Regression\n",
        "logreg = LogisticRegression(random_state=200)\n",
        "logreg.fit(x_train, y_train)\n",
        "y_pred = logreg.predict(x_test)\n",
        "print(\"Accuracy:\",metrics.accuracy_score(y_test, y_pred))\n",
        "print(metrics.classification_report(y_test, y_pred, target_names=bs_df['genres'].unique()))"
      ],
      "metadata": {
        "colab": {
          "base_uri": "https://localhost:8080/"
        },
        "id": "QfPZYxqXRJqB",
        "outputId": "794858ee-d3ea-4424-c401-6ac482670da2"
      },
      "execution_count": 20,
      "outputs": [
        {
          "output_type": "stream",
          "name": "stdout",
          "text": [
            "Accuracy: 0.406\n",
            "              precision    recall  f1-score   support\n",
            "\n",
            "       Blues       0.53      0.55      0.54       125\n",
            "     Country       0.42      0.44      0.43       125\n",
            "         EDM       0.44      0.49      0.46       125\n",
            "     Hip Hop       0.66      0.64      0.65       125\n",
            "       Indie       0.30      0.42      0.35       125\n",
            "         Pop       0.30      0.24      0.27       125\n",
            "         R&B       0.37      0.27      0.31       125\n",
            "        Rock       0.22      0.20      0.21       125\n",
            "\n",
            "    accuracy                           0.41      1000\n",
            "   macro avg       0.40      0.41      0.40      1000\n",
            "weighted avg       0.40      0.41      0.40      1000\n",
            "\n"
          ]
        }
      ]
    },
    {
      "cell_type": "code",
      "source": [
        "from sklearn.metrics import confusion_matrix\n",
        "from sklearn.metrics import ConfusionMatrixDisplay\n",
        "import matplotlib.pyplot as plt\n",
        "genre_labels = {'Blues': 0, 'Country': 1, 'EDM': 2, 'Hip Hop': 3, 'Indie': 4, 'Pop': 5, 'R&B': 6, 'Rock': 7}\n",
        "fig, ax = plt.subplots(figsize=(8, 8))\n",
        "\n",
        "cm = confusion_matrix(y_true=y_test, y_pred=y_pred, labels=range(len(genre_labels)), normalize='true')\n",
        "disp = ConfusionMatrixDisplay(confusion_matrix=cm, display_labels=list(genre_labels.keys()))\n",
        "disp.plot(ax=ax, cmap='Blues')"
      ],
      "metadata": {
        "colab": {
          "base_uri": "https://localhost:8080/",
          "height": 484
        },
        "id": "XPXZkXwAMXup",
        "outputId": "c1d81e6d-868b-45d4-b9b5-6402309313ef"
      },
      "execution_count": 23,
      "outputs": [
        {
          "output_type": "execute_result",
          "data": {
            "text/plain": [
              "<sklearn.metrics._plot.confusion_matrix.ConfusionMatrixDisplay at 0x7f81e6e9b210>"
            ]
          },
          "metadata": {},
          "execution_count": 23
        },
        {
          "output_type": "display_data",
          "data": {
            "text/plain": [
              "<Figure size 576x576 with 2 Axes>"
            ],
            "image/png": "[encoded data removed]"
          },
          "metadata": {
            "needs_background": "light"
          }
        }
      ]
    }
  ]
}