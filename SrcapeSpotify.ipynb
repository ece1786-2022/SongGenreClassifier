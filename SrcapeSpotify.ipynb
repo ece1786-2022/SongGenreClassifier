{
  "nbformat": 4,
  "nbformat_minor": 0,
  "metadata": {
    "colab": {
      "provenance": []
    },
    "kernelspec": {
      "name": "python3",
      "display_name": "Python 3"
    },
    "language_info": {
      "name": "python"
    }
  },
  "cells": [
    {
      "cell_type": "code",
      "execution_count": null,
      "metadata": {
        "colab": {
          "base_uri": "https://localhost:8080/"
        },
        "id": "G_51bkSHQRhp",
        "outputId": "08f19487-bd82-461b-bb8b-7a03cfe78868"
      },
      "outputs": [
        {
          "output_type": "stream",
          "name": "stdout",
          "text": [
            "Looking in indexes: https://pypi.org/simple, https://us-python.pkg.dev/colab-wheels/public/simple/\n",
            "Collecting spotipy\n",
            "  Downloading spotipy-2.21.0-py3-none-any.whl (28 kB)\n",
            "Collecting redis>=3.5.3\n",
            "  Downloading redis-4.3.4-py3-none-any.whl (246 kB)\n",
            "\u001b[K     |████████████████████████████████| 246 kB 57.1 MB/s \n",
            "\u001b[?25hCollecting requests>=2.25.0\n",
            "  Downloading requests-2.28.1-py3-none-any.whl (62 kB)\n",
            "\u001b[K     |████████████████████████████████| 62 kB 1.9 MB/s \n",
            "\u001b[?25hRequirement already satisfied: six>=1.15.0 in /usr/local/lib/python3.7/dist-packages (from spotipy) (1.15.0)\n",
            "Collecting urllib3>=1.26.0\n",
            "  Downloading urllib3-1.26.12-py2.py3-none-any.whl (140 kB)\n",
            "\u001b[K     |████████████████████████████████| 140 kB 92.7 MB/s \n",
            "\u001b[?25hRequirement already satisfied: typing-extensions in /usr/local/lib/python3.7/dist-packages (from redis>=3.5.3->spotipy) (4.1.1)\n",
            "Requirement already satisfied: async-timeout>=4.0.2 in /usr/local/lib/python3.7/dist-packages (from redis>=3.5.3->spotipy) (4.0.2)\n",
            "Requirement already satisfied: importlib-metadata>=1.0 in /usr/local/lib/python3.7/dist-packages (from redis>=3.5.3->spotipy) (4.13.0)\n",
            "Collecting deprecated>=1.2.3\n",
            "  Downloading Deprecated-1.2.13-py2.py3-none-any.whl (9.6 kB)\n",
            "Requirement already satisfied: packaging>=20.4 in /usr/local/lib/python3.7/dist-packages (from redis>=3.5.3->spotipy) (21.3)\n",
            "Requirement already satisfied: wrapt<2,>=1.10 in /usr/local/lib/python3.7/dist-packages (from deprecated>=1.2.3->redis>=3.5.3->spotipy) (1.14.1)\n",
            "Requirement already satisfied: zipp>=0.5 in /usr/local/lib/python3.7/dist-packages (from importlib-metadata>=1.0->redis>=3.5.3->spotipy) (3.10.0)\n",
            "Requirement already satisfied: pyparsing!=3.0.5,>=2.0.2 in /usr/local/lib/python3.7/dist-packages (from packaging>=20.4->redis>=3.5.3->spotipy) (3.0.9)\n",
            "Requirement already satisfied: charset-normalizer<3,>=2 in /usr/local/lib/python3.7/dist-packages (from requests>=2.25.0->spotipy) (2.1.1)\n",
            "Requirement already satisfied: certifi>=2017.4.17 in /usr/local/lib/python3.7/dist-packages (from requests>=2.25.0->spotipy) (2022.9.24)\n",
            "Requirement already satisfied: idna<4,>=2.5 in /usr/local/lib/python3.7/dist-packages (from requests>=2.25.0->spotipy) (2.10)\n",
            "Installing collected packages: urllib3, deprecated, requests, redis, spotipy\n",
            "  Attempting uninstall: urllib3\n",
            "    Found existing installation: urllib3 1.24.3\n",
            "    Uninstalling urllib3-1.24.3:\n",
            "      Successfully uninstalled urllib3-1.24.3\n",
            "  Attempting uninstall: requests\n",
            "    Found existing installation: requests 2.23.0\n",
            "    Uninstalling requests-2.23.0:\n",
            "      Successfully uninstalled requests-2.23.0\n",
            "Successfully installed deprecated-1.2.13 redis-4.3.4 requests-2.28.1 spotipy-2.21.0 urllib3-1.26.12\n",
            "Looking in indexes: https://pypi.org/simple, https://us-python.pkg.dev/colab-wheels/public/simple/\n",
            "Collecting lyricsgenius\n",
            "  Downloading lyricsgenius-3.0.1-py3-none-any.whl (59 kB)\n",
            "\u001b[K     |████████████████████████████████| 59 kB 6.8 MB/s \n",
            "\u001b[?25hRequirement already satisfied: beautifulsoup4>=4.6.0 in /usr/local/lib/python3.7/dist-packages (from lyricsgenius) (4.6.3)\n",
            "Requirement already satisfied: requests>=2.20.0 in /usr/local/lib/python3.7/dist-packages (from lyricsgenius) (2.28.1)\n",
            "Requirement already satisfied: certifi>=2017.4.17 in /usr/local/lib/python3.7/dist-packages (from requests>=2.20.0->lyricsgenius) (2022.9.24)\n",
            "Requirement already satisfied: urllib3<1.27,>=1.21.1 in /usr/local/lib/python3.7/dist-packages (from requests>=2.20.0->lyricsgenius) (1.26.12)\n",
            "Requirement already satisfied: idna<4,>=2.5 in /usr/local/lib/python3.7/dist-packages (from requests>=2.20.0->lyricsgenius) (2.10)\n",
            "Requirement already satisfied: charset-normalizer<3,>=2 in /usr/local/lib/python3.7/dist-packages (from requests>=2.20.0->lyricsgenius) (2.1.1)\n",
            "Installing collected packages: lyricsgenius\n",
            "Successfully installed lyricsgenius-3.0.1\n"
          ]
        }
      ],
      "source": [
        "%pip install spotipy"
      ]
    },
    {
      "cell_type": "code",
      "source": [
        "import spotipy\n",
        "from spotipy.oauth2 import SpotifyClientCredentials\n",
        "from lyricsgenius import Genius\n",
        "from lyricsgenius import PublicAPI\n",
        "import csv\n",
        "import os\n",
        "\n",
        "from google.colab import drive\n",
        "drive.mount('/content/drive')\n",
        "%cd /content/drive/MyDrive/ECE1786/Datasets"
      ],
      "metadata": {
        "id": "q_783Rk3RCBi",
        "colab": {
          "base_uri": "https://localhost:8080/"
        },
        "outputId": "7ba18b52-5a62-4af2-cac2-26ed1bcff6a9"
      },
      "execution_count": null,
      "outputs": [
        {
          "output_type": "stream",
          "name": "stdout",
          "text": [
            "Mounted at /content/drive\n",
            "/content/drive/MyDrive/ECE1786/Datasets\n"
          ]
        }
      ]
    },
    {
      "cell_type": "code",
      "source": [
        "client_id = \"cdc5186d70e145758411ec1832069022\"\n",
        "client_secret = \"f67c6f9dec544a63bb9e54fed6f4314b\""
      ],
      "metadata": {
        "id": "3yvwXnGPQ0Qn"
      },
      "execution_count": null,
      "outputs": []
    },
    {
      "cell_type": "code",
      "source": [
        "sp = spotipy.Spotify(auth_manager=SpotifyClientCredentials(client_id=client_id,\n",
        "                                                           client_secret=client_secret))"
      ],
      "metadata": {
        "id": "UZfzcfrTQn6h"
      },
      "execution_count": null,
      "outputs": []
    },
    {
      "cell_type": "code",
      "source": [
        "def query(genre, limit):\n",
        "  songs = []\n",
        "  for i in range(0, limit, 50):\n",
        "    results = sp.search(q='genre:' + genre, type='track',market='GB',limit=50, offset=i)\n",
        "    for idx, track in enumerate(results['tracks']['items']):\n",
        "      /\n",
        "      artist = track['artists'][0]['name']\n",
        "      song = track['name']\n",
        "      songs.append((artist, album, song))\n",
        "  return songs\n",
        "\n",
        "def remove_dupes(songs):\n",
        "  return list(set(songs))\n",
        "\n",
        "def create_csv(songs, genre):\n",
        "  #first need to convert each element in the list to a list to have a list of lists\n",
        "  new_songs = []\n",
        "  fields = [\"artist\", \"album\", \"song_name\"]\n",
        "  for song in songs:\n",
        "    new_songs.append(list(song))\n",
        "\n",
        "  print(genre + \" \" + str(len(new_songs)))\n",
        "  \n",
        "  file_name = genre + \"_dataset.csv\"\n",
        "\n",
        "  if os.path.exists(file_name):\n",
        "    os.remove(file_name)\n",
        "\n",
        "  with open(file_name, \"w\") as f:\n",
        "    write = csv.writer(f)\n",
        "    write.writerow(fields)\n",
        "    write.writerows(new_songs)\n",
        "\n",
        "def generate(genres, limit):\n",
        "  for genre in genres:\n",
        "    songs = query(genre, limit)\n",
        "    songs = remove_dupes(songs)\n",
        "    create_csv(songs, genre)\n",
        "  return\n"
      ],
      "metadata": {
        "id": "HHwdSibHuFQu"
      },
      "execution_count": null,
      "outputs": []
    },
    {
      "cell_type": "markdown",
      "source": [
        "genres: pop, rock, hip hop, electronic, jazz, blues, classical, country, heavy metal, latin, folk, "
      ],
      "metadata": {
        "id": "2K8VO2EFqLBk"
      }
    },
    {
      "cell_type": "code",
      "source": [
        "# genres = [\"pop\", \"rock\", \"hip hop\", \"house\", \"edm\", \"jazz\", \"blues\", \"classical\", \"country\", \"r&b\", \"latin\", \"k-pop\", \"folk\"]\n",
        "genres = [\"hip hop\"]\n",
        "generate(genres, 600)"
      ],
      "metadata": {
        "id": "MmAhENo84bBg",
        "colab": {
          "base_uri": "https://localhost:8080/"
        },
        "outputId": "55b21e73-0af0-4995-e95f-52cc4ae47d7c"
      },
      "execution_count": null,
      "outputs": [
        {
          "output_type": "stream",
          "name": "stdout",
          "text": [
            "hip hop 595\n"
          ]
        }
      ]
    }
  ]
}