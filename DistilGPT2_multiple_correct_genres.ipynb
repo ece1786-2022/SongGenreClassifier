{
  "nbformat": 4,
  "nbformat_minor": 0,
  "metadata": {
    "colab": {
      "provenance": []
    },
    "kernelspec": {
      "name": "python3",
      "display_name": "Python 3"
    },
    "language_info": {
      "name": "python"
    },
    "accelerator": "GPU",
    "gpuClass": "standard",
    "widgets": {
      "application/vnd.jupyter.widget-state+json": {
        "7f880de5f34e4197a4c8bd0028276fa2": {
          "model_module": "@jupyter-widgets/controls",
          "model_name": "HBoxModel",
          "model_module_version": "1.5.0",
          "state": {
            "_dom_classes": [],
            "_model_module": "@jupyter-widgets/controls",
            "_model_module_version": "1.5.0",
            "_model_name": "HBoxModel",
            "_view_count": null,
            "_view_module": "@jupyter-widgets/controls",
            "_view_module_version": "1.5.0",
            "_view_name": "HBoxView",
            "box_style": "",
            "children": [
              "IPY_MODEL_13a3e9aabae5450bba152a1e97f7685b",
              "IPY_MODEL_a099bdb8a4004ab99d90fdf5349c50c0",
              "IPY_MODEL_a3daa1d0da3244869567a940c2106745"
            ],
            "layout": "IPY_MODEL_a130b68bf10f4f99837c2d021565a6a4"
          }
        },
        "13a3e9aabae5450bba152a1e97f7685b": {
          "model_module": "@jupyter-widgets/controls",
          "model_name": "HTMLModel",
          "model_module_version": "1.5.0",
          "state": {
            "_dom_classes": [],
            "_model_module": "@jupyter-widgets/controls",
            "_model_module_version": "1.5.0",
            "_model_name": "HTMLModel",
            "_view_count": null,
            "_view_module": "@jupyter-widgets/controls",
            "_view_module_version": "1.5.0",
            "_view_name": "HTMLView",
            "description": "",
            "description_tooltip": null,
            "layout": "IPY_MODEL_3e1f89a5f1da487bb26d520ae872bbb9",
            "placeholder": "​",
            "style": "IPY_MODEL_bd37506e7e8e4d009d2aae7a4f30cf7d",
            "value": "Downloading: 100%"
          }
        },
        "a099bdb8a4004ab99d90fdf5349c50c0": {
          "model_module": "@jupyter-widgets/controls",
          "model_name": "FloatProgressModel",
          "model_module_version": "1.5.0",
          "state": {
            "_dom_classes": [],
            "_model_module": "@jupyter-widgets/controls",
            "_model_module_version": "1.5.0",
            "_model_name": "FloatProgressModel",
            "_view_count": null,
            "_view_module": "@jupyter-widgets/controls",
            "_view_module_version": "1.5.0",
            "_view_name": "ProgressView",
            "bar_style": "success",
            "description": "",
            "description_tooltip": null,
            "layout": "IPY_MODEL_c07c92b8d6ce438db64f58db70279342",
            "max": 1042301,
            "min": 0,
            "orientation": "horizontal",
            "style": "IPY_MODEL_6e918cd173ba45b09e126b78c21142c8",
            "value": 1042301
          }
        },
        "a3daa1d0da3244869567a940c2106745": {
          "model_module": "@jupyter-widgets/controls",
          "model_name": "HTMLModel",
          "model_module_version": "1.5.0",
          "state": {
            "_dom_classes": [],
            "_model_module": "@jupyter-widgets/controls",
            "_model_module_version": "1.5.0",
            "_model_name": "HTMLModel",
            "_view_count": null,
            "_view_module": "@jupyter-widgets/controls",
            "_view_module_version": "1.5.0",
            "_view_name": "HTMLView",
            "description": "",
            "description_tooltip": null,
            "layout": "IPY_MODEL_152a8c68964b48eaa83629785668b8d1",
            "placeholder": "​",
            "style": "IPY_MODEL_e87a3de006ed4cb29e1eff27be7672cb",
            "value": " 1.04M/1.04M [00:03&lt;00:00, 301kB/s]"
          }
        },
        "a130b68bf10f4f99837c2d021565a6a4": {
          "model_module": "@jupyter-widgets/base",
          "model_name": "LayoutModel",
          "model_module_version": "1.2.0",
          "state": {
            "_model_module": "@jupyter-widgets/base",
            "_model_module_version": "1.2.0",
            "_model_name": "LayoutModel",
            "_view_count": null,
            "_view_module": "@jupyter-widgets/base",
            "_view_module_version": "1.2.0",
            "_view_name": "LayoutView",
            "align_content": null,
            "align_items": null,
            "align_self": null,
            "border": null,
            "bottom": null,
            "display": null,
            "flex": null,
            "flex_flow": null,
            "grid_area": null,
            "grid_auto_columns": null,
            "grid_auto_flow": null,
            "grid_auto_rows": null,
            "grid_column": null,
            "grid_gap": null,
            "grid_row": null,
            "grid_template_areas": null,
            "grid_template_columns": null,
            "grid_template_rows": null,
            "height": null,
            "justify_content": null,
            "justify_items": null,
            "left": null,
            "margin": null,
            "max_height": null,
            "max_width": null,
            "min_height": null,
            "min_width": null,
            "object_fit": null,
            "object_position": null,
            "order": null,
            "overflow": null,
            "overflow_x": null,
            "overflow_y": null,
            "padding": null,
            "right": null,
            "top": null,
            "visibility": null,
            "width": null
          }
        },
        "3e1f89a5f1da487bb26d520ae872bbb9": {
          "model_module": "@jupyter-widgets/base",
          "model_name": "LayoutModel",
          "model_module_version": "1.2.0",
          "state": {
            "_model_module": "@jupyter-widgets/base",
            "_model_module_version": "1.2.0",
            "_model_name": "LayoutModel",
            "_view_count": null,
            "_view_module": "@jupyter-widgets/base",
            "_view_module_version": "1.2.0",
            "_view_name": "LayoutView",
            "align_content": null,
            "align_items": null,
            "align_self": null,
            "border": null,
            "bottom": null,
            "display": null,
            "flex": null,
            "flex_flow": null,
            "grid_area": null,
            "grid_auto_columns": null,
            "grid_auto_flow": null,
            "grid_auto_rows": null,
            "grid_column": null,
            "grid_gap": null,
            "grid_row": null,
            "grid_template_areas": null,
            "grid_template_columns": null,
            "grid_template_rows": null,
            "height": null,
            "justify_content": null,
            "justify_items": null,
            "left": null,
            "margin": null,
            "max_height": null,
            "max_width": null,
            "min_height": null,
            "min_width": null,
            "object_fit": null,
            "object_position": null,
            "order": null,
            "overflow": null,
            "overflow_x": null,
            "overflow_y": null,
            "padding": null,
            "right": null,
            "top": null,
            "visibility": null,
            "width": null
          }
        },
        "bd37506e7e8e4d009d2aae7a4f30cf7d": {
          "model_module": "@jupyter-widgets/controls",
          "model_name": "DescriptionStyleModel",
          "model_module_version": "1.5.0",
          "state": {
            "_model_module": "@jupyter-widgets/controls",
            "_model_module_version": "1.5.0",
            "_model_name": "DescriptionStyleModel",
            "_view_count": null,
            "_view_module": "@jupyter-widgets/base",
            "_view_module_version": "1.2.0",
            "_view_name": "StyleView",
            "description_width": ""
          }
        },
        "c07c92b8d6ce438db64f58db70279342": {
          "model_module": "@jupyter-widgets/base",
          "model_name": "LayoutModel",
          "model_module_version": "1.2.0",
          "state": {
            "_model_module": "@jupyter-widgets/base",
            "_model_module_version": "1.2.0",
            "_model_name": "LayoutModel",
            "_view_count": null,
            "_view_module": "@jupyter-widgets/base",
            "_view_module_version": "1.2.0",
            "_view_name": "LayoutView",
            "align_content": null,
            "align_items": null,
            "align_self": null,
            "border": null,
            "bottom": null,
            "display": null,
            "flex": null,
            "flex_flow": null,
            "grid_area": null,
            "grid_auto_columns": null,
            "grid_auto_flow": null,
            "grid_auto_rows": null,
            "grid_column": null,
            "grid_gap": null,
            "grid_row": null,
            "grid_template_areas": null,
            "grid_template_columns": null,
            "grid_template_rows": null,
            "height": null,
            "justify_content": null,
            "justify_items": null,
            "left": null,
            "margin": null,
            "max_height": null,
            "max_width": null,
            "min_height": null,
            "min_width": null,
            "object_fit": null,
            "object_position": null,
            "order": null,
            "overflow": null,
            "overflow_x": null,
            "overflow_y": null,
            "padding": null,
            "right": null,
            "top": null,
            "visibility": null,
            "width": null
          }
        },
        "6e918cd173ba45b09e126b78c21142c8": {
          "model_module": "@jupyter-widgets/controls",
          "model_name": "ProgressStyleModel",
          "model_module_version": "1.5.0",
          "state": {
            "_model_module": "@jupyter-widgets/controls",
            "_model_module_version": "1.5.0",
            "_model_name": "ProgressStyleModel",
            "_view_count": null,
            "_view_module": "@jupyter-widgets/base",
            "_view_module_version": "1.2.0",
            "_view_name": "StyleView",
            "bar_color": null,
            "description_width": ""
          }
        },
        "152a8c68964b48eaa83629785668b8d1": {
          "model_module": "@jupyter-widgets/base",
          "model_name": "LayoutModel",
          "model_module_version": "1.2.0",
          "state": {
            "_model_module": "@jupyter-widgets/base",
            "_model_module_version": "1.2.0",
            "_model_name": "LayoutModel",
            "_view_count": null,
            "_view_module": "@jupyter-widgets/base",
            "_view_module_version": "1.2.0",
            "_view_name": "LayoutView",
            "align_content": null,
            "align_items": null,
            "align_self": null,
            "border": null,
            "bottom": null,
            "display": null,
            "flex": null,
            "flex_flow": null,
            "grid_area": null,
            "grid_auto_columns": null,
            "grid_auto_flow": null,
            "grid_auto_rows": null,
            "grid_column": null,
            "grid_gap": null,
            "grid_row": null,
            "grid_template_areas": null,
            "grid_template_columns": null,
            "grid_template_rows": null,
            "height": null,
            "justify_content": null,
            "justify_items": null,
            "left": null,
            "margin": null,
            "max_height": null,
            "max_width": null,
            "min_height": null,
            "min_width": null,
            "object_fit": null,
            "object_position": null,
            "order": null,
            "overflow": null,
            "overflow_x": null,
            "overflow_y": null,
            "padding": null,
            "right": null,
            "top": null,
            "visibility": null,
            "width": null
          }
        },
        "e87a3de006ed4cb29e1eff27be7672cb": {
          "model_module": "@jupyter-widgets/controls",
          "model_name": "DescriptionStyleModel",
          "model_module_version": "1.5.0",
          "state": {
            "_model_module": "@jupyter-widgets/controls",
            "_model_module_version": "1.5.0",
            "_model_name": "DescriptionStyleModel",
            "_view_count": null,
            "_view_module": "@jupyter-widgets/base",
            "_view_module_version": "1.2.0",
            "_view_name": "StyleView",
            "description_width": ""
          }
        },
        "fd7cc7927d784dc8bb27a5e622d12180": {
          "model_module": "@jupyter-widgets/controls",
          "model_name": "HBoxModel",
          "model_module_version": "1.5.0",
          "state": {
            "_dom_classes": [],
            "_model_module": "@jupyter-widgets/controls",
            "_model_module_version": "1.5.0",
            "_model_name": "HBoxModel",
            "_view_count": null,
            "_view_module": "@jupyter-widgets/controls",
            "_view_module_version": "1.5.0",
            "_view_name": "HBoxView",
            "box_style": "",
            "children": [
              "IPY_MODEL_041502e4f2e2435ebb7e083878106c39",
              "IPY_MODEL_1580ad7d7be34af686aaf1d2ce96e0d9",
              "IPY_MODEL_5aa30ff0db474967a62ae935a41d9db1"
            ],
            "layout": "IPY_MODEL_5d883ca02bde4f549ca7b4be7bab0de5"
          }
        },
        "041502e4f2e2435ebb7e083878106c39": {
          "model_module": "@jupyter-widgets/controls",
          "model_name": "HTMLModel",
          "model_module_version": "1.5.0",
          "state": {
            "_dom_classes": [],
            "_model_module": "@jupyter-widgets/controls",
            "_model_module_version": "1.5.0",
            "_model_name": "HTMLModel",
            "_view_count": null,
            "_view_module": "@jupyter-widgets/controls",
            "_view_module_version": "1.5.0",
            "_view_name": "HTMLView",
            "description": "",
            "description_tooltip": null,
            "layout": "IPY_MODEL_0b9a5720e8c3473f991217f6ef51644b",
            "placeholder": "​",
            "style": "IPY_MODEL_fd426555a74249aa9cc58b698155ce9a",
            "value": "Downloading: 100%"
          }
        },
        "1580ad7d7be34af686aaf1d2ce96e0d9": {
          "model_module": "@jupyter-widgets/controls",
          "model_name": "FloatProgressModel",
          "model_module_version": "1.5.0",
          "state": {
            "_dom_classes": [],
            "_model_module": "@jupyter-widgets/controls",
            "_model_module_version": "1.5.0",
            "_model_name": "FloatProgressModel",
            "_view_count": null,
            "_view_module": "@jupyter-widgets/controls",
            "_view_module_version": "1.5.0",
            "_view_name": "ProgressView",
            "bar_style": "success",
            "description": "",
            "description_tooltip": null,
            "layout": "IPY_MODEL_9cbc554cd88f4c33bd1b37bc5bf5c1b0",
            "max": 456318,
            "min": 0,
            "orientation": "horizontal",
            "style": "IPY_MODEL_ab8d08ee07344185965cb3e68b61a1d4",
            "value": 456318
          }
        },
        "5aa30ff0db474967a62ae935a41d9db1": {
          "model_module": "@jupyter-widgets/controls",
          "model_name": "HTMLModel",
          "model_module_version": "1.5.0",
          "state": {
            "_dom_classes": [],
            "_model_module": "@jupyter-widgets/controls",
            "_model_module_version": "1.5.0",
            "_model_name": "HTMLModel",
            "_view_count": null,
            "_view_module": "@jupyter-widgets/controls",
            "_view_module_version": "1.5.0",
            "_view_name": "HTMLView",
            "description": "",
            "description_tooltip": null,
            "layout": "IPY_MODEL_9f0eb0158b3c44089a1528621b48f9e8",
            "placeholder": "​",
            "style": "IPY_MODEL_4ae2ab3e30c94c9789e7ef57e6df6515",
            "value": " 456k/456k [00:01&lt;00:00, 479kB/s]"
          }
        },
        "5d883ca02bde4f549ca7b4be7bab0de5": {
          "model_module": "@jupyter-widgets/base",
          "model_name": "LayoutModel",
          "model_module_version": "1.2.0",
          "state": {
            "_model_module": "@jupyter-widgets/base",
            "_model_module_version": "1.2.0",
            "_model_name": "LayoutModel",
            "_view_count": null,
            "_view_module": "@jupyter-widgets/base",
            "_view_module_version": "1.2.0",
            "_view_name": "LayoutView",
            "align_content": null,
            "align_items": null,
            "align_self": null,
            "border": null,
            "bottom": null,
            "display": null,
            "flex": null,
            "flex_flow": null,
            "grid_area": null,
            "grid_auto_columns": null,
            "grid_auto_flow": null,
            "grid_auto_rows": null,
            "grid_column": null,
            "grid_gap": null,
            "grid_row": null,
            "grid_template_areas": null,
            "grid_template_columns": null,
            "grid_template_rows": null,
            "height": null,
            "justify_content": null,
            "justify_items": null,
            "left": null,
            "margin": null,
            "max_height": null,
            "max_width": null,
            "min_height": null,
            "min_width": null,
            "object_fit": null,
            "object_position": null,
            "order": null,
            "overflow": null,
            "overflow_x": null,
            "overflow_y": null,
            "padding": null,
            "right": null,
            "top": null,
            "visibility": null,
            "width": null
          }
        },
        "0b9a5720e8c3473f991217f6ef51644b": {
          "model_module": "@jupyter-widgets/base",
          "model_name": "LayoutModel",
          "model_module_version": "1.2.0",
          "state": {
            "_model_module": "@jupyter-widgets/base",
            "_model_module_version": "1.2.0",
            "_model_name": "LayoutModel",
            "_view_count": null,
            "_view_module": "@jupyter-widgets/base",
            "_view_module_version": "1.2.0",
            "_view_name": "LayoutView",
            "align_content": null,
            "align_items": null,
            "align_self": null,
            "border": null,
            "bottom": null,
            "display": null,
            "flex": null,
            "flex_flow": null,
            "grid_area": null,
            "grid_auto_columns": null,
            "grid_auto_flow": null,
            "grid_auto_rows": null,
            "grid_column": null,
            "grid_gap": null,
            "grid_row": null,
            "grid_template_areas": null,
            "grid_template_columns": null,
            "grid_template_rows": null,
            "height": null,
            "justify_content": null,
            "justify_items": null,
            "left": null,
            "margin": null,
            "max_height": null,
            "max_width": null,
            "min_height": null,
            "min_width": null,
            "object_fit": null,
            "object_position": null,
            "order": null,
            "overflow": null,
            "overflow_x": null,
            "overflow_y": null,
            "padding": null,
            "right": null,
            "top": null,
            "visibility": null,
            "width": null
          }
        },
        "fd426555a74249aa9cc58b698155ce9a": {
          "model_module": "@jupyter-widgets/controls",
          "model_name": "DescriptionStyleModel",
          "model_module_version": "1.5.0",
          "state": {
            "_model_module": "@jupyter-widgets/controls",
            "_model_module_version": "1.5.0",
            "_model_name": "DescriptionStyleModel",
            "_view_count": null,
            "_view_module": "@jupyter-widgets/base",
            "_view_module_version": "1.2.0",
            "_view_name": "StyleView",
            "description_width": ""
          }
        },
        "9cbc554cd88f4c33bd1b37bc5bf5c1b0": {
          "model_module": "@jupyter-widgets/base",
          "model_name": "LayoutModel",
          "model_module_version": "1.2.0",
          "state": {
            "_model_module": "@jupyter-widgets/base",
            "_model_module_version": "1.2.0",
            "_model_name": "LayoutModel",
            "_view_count": null,
            "_view_module": "@jupyter-widgets/base",
            "_view_module_version": "1.2.0",
            "_view_name": "LayoutView",
            "align_content": null,
            "align_items": null,
            "align_self": null,
            "border": null,
            "bottom": null,
            "display": null,
            "flex": null,
            "flex_flow": null,
            "grid_area": null,
            "grid_auto_columns": null,
            "grid_auto_flow": null,
            "grid_auto_rows": null,
            "grid_column": null,
            "grid_gap": null,
            "grid_row": null,
            "grid_template_areas": null,
            "grid_template_columns": null,
            "grid_template_rows": null,
            "height": null,
            "justify_content": null,
            "justify_items": null,
            "left": null,
            "margin": null,
            "max_height": null,
            "max_width": null,
            "min_height": null,
            "min_width": null,
            "object_fit": null,
            "object_position": null,
            "order": null,
            "overflow": null,
            "overflow_x": null,
            "overflow_y": null,
            "padding": null,
            "right": null,
            "top": null,
            "visibility": null,
            "width": null
          }
        },
        "ab8d08ee07344185965cb3e68b61a1d4": {
          "model_module": "@jupyter-widgets/controls",
          "model_name": "ProgressStyleModel",
          "model_module_version": "1.5.0",
          "state": {
            "_model_module": "@jupyter-widgets/controls",
            "_model_module_version": "1.5.0",
            "_model_name": "ProgressStyleModel",
            "_view_count": null,
            "_view_module": "@jupyter-widgets/base",
            "_view_module_version": "1.2.0",
            "_view_name": "StyleView",
            "bar_color": null,
            "description_width": ""
          }
        },
        "9f0eb0158b3c44089a1528621b48f9e8": {
          "model_module": "@jupyter-widgets/base",
          "model_name": "LayoutModel",
          "model_module_version": "1.2.0",
          "state": {
            "_model_module": "@jupyter-widgets/base",
            "_model_module_version": "1.2.0",
            "_model_name": "LayoutModel",
            "_view_count": null,
            "_view_module": "@jupyter-widgets/base",
            "_view_module_version": "1.2.0",
            "_view_name": "LayoutView",
            "align_content": null,
            "align_items": null,
            "align_self": null,
            "border": null,
            "bottom": null,
            "display": null,
            "flex": null,
            "flex_flow": null,
            "grid_area": null,
            "grid_auto_columns": null,
            "grid_auto_flow": null,
            "grid_auto_rows": null,
            "grid_column": null,
            "grid_gap": null,
            "grid_row": null,
            "grid_template_areas": null,
            "grid_template_columns": null,
            "grid_template_rows": null,
            "height": null,
            "justify_content": null,
            "justify_items": null,
            "left": null,
            "margin": null,
            "max_height": null,
            "max_width": null,
            "min_height": null,
            "min_width": null,
            "object_fit": null,
            "object_position": null,
            "order": null,
            "overflow": null,
            "overflow_x": null,
            "overflow_y": null,
            "padding": null,
            "right": null,
            "top": null,
            "visibility": null,
            "width": null
          }
        },
        "4ae2ab3e30c94c9789e7ef57e6df6515": {
          "model_module": "@jupyter-widgets/controls",
          "model_name": "DescriptionStyleModel",
          "model_module_version": "1.5.0",
          "state": {
            "_model_module": "@jupyter-widgets/controls",
            "_model_module_version": "1.5.0",
            "_model_name": "DescriptionStyleModel",
            "_view_count": null,
            "_view_module": "@jupyter-widgets/base",
            "_view_module_version": "1.2.0",
            "_view_name": "StyleView",
            "description_width": ""
          }
        },
        "bee39fb241ea421ba8fcc1db68efc1fa": {
          "model_module": "@jupyter-widgets/controls",
          "model_name": "HBoxModel",
          "model_module_version": "1.5.0",
          "state": {
            "_dom_classes": [],
            "_model_module": "@jupyter-widgets/controls",
            "_model_module_version": "1.5.0",
            "_model_name": "HBoxModel",
            "_view_count": null,
            "_view_module": "@jupyter-widgets/controls",
            "_view_module_version": "1.5.0",
            "_view_name": "HBoxView",
            "box_style": "",
            "children": [
              "IPY_MODEL_106a8de96af04778b8b1b546425aba40",
              "IPY_MODEL_338f62cf60c2460b85b4a2e996cc61d5",
              "IPY_MODEL_817f62863f3e4cb2a50c27e4183c187e"
            ],
            "layout": "IPY_MODEL_f9cce8b54d634f339f5089cfc7f73406"
          }
        },
        "106a8de96af04778b8b1b546425aba40": {
          "model_module": "@jupyter-widgets/controls",
          "model_name": "HTMLModel",
          "model_module_version": "1.5.0",
          "state": {
            "_dom_classes": [],
            "_model_module": "@jupyter-widgets/controls",
            "_model_module_version": "1.5.0",
            "_model_name": "HTMLModel",
            "_view_count": null,
            "_view_module": "@jupyter-widgets/controls",
            "_view_module_version": "1.5.0",
            "_view_name": "HTMLView",
            "description": "",
            "description_tooltip": null,
            "layout": "IPY_MODEL_11545c9c77714c2ba715208b0ac714d9",
            "placeholder": "​",
            "style": "IPY_MODEL_2c82ae38d7dc4c699c47d1d331832811",
            "value": "Downloading: 100%"
          }
        },
        "338f62cf60c2460b85b4a2e996cc61d5": {
          "model_module": "@jupyter-widgets/controls",
          "model_name": "FloatProgressModel",
          "model_module_version": "1.5.0",
          "state": {
            "_dom_classes": [],
            "_model_module": "@jupyter-widgets/controls",
            "_model_module_version": "1.5.0",
            "_model_name": "FloatProgressModel",
            "_view_count": null,
            "_view_module": "@jupyter-widgets/controls",
            "_view_module_version": "1.5.0",
            "_view_name": "ProgressView",
            "bar_style": "success",
            "description": "",
            "description_tooltip": null,
            "layout": "IPY_MODEL_b5d8516673474ff38b480a9ebeec8461",
            "max": 762,
            "min": 0,
            "orientation": "horizontal",
            "style": "IPY_MODEL_a1113a2898884c509baf34d356ec6839",
            "value": 762
          }
        },
        "817f62863f3e4cb2a50c27e4183c187e": {
          "model_module": "@jupyter-widgets/controls",
          "model_name": "HTMLModel",
          "model_module_version": "1.5.0",
          "state": {
            "_dom_classes": [],
            "_model_module": "@jupyter-widgets/controls",
            "_model_module_version": "1.5.0",
            "_model_name": "HTMLModel",
            "_view_count": null,
            "_view_module": "@jupyter-widgets/controls",
            "_view_module_version": "1.5.0",
            "_view_name": "HTMLView",
            "description": "",
            "description_tooltip": null,
            "layout": "IPY_MODEL_dd6cbebd383a4317b1c9f373aa91f965",
            "placeholder": "​",
            "style": "IPY_MODEL_33f25a9249e24139bcaca9c4cfd51232",
            "value": " 762/762 [00:00&lt;00:00, 25.1kB/s]"
          }
        },
        "f9cce8b54d634f339f5089cfc7f73406": {
          "model_module": "@jupyter-widgets/base",
          "model_name": "LayoutModel",
          "model_module_version": "1.2.0",
          "state": {
            "_model_module": "@jupyter-widgets/base",
            "_model_module_version": "1.2.0",
            "_model_name": "LayoutModel",
            "_view_count": null,
            "_view_module": "@jupyter-widgets/base",
            "_view_module_version": "1.2.0",
            "_view_name": "LayoutView",
            "align_content": null,
            "align_items": null,
            "align_self": null,
            "border": null,
            "bottom": null,
            "display": null,
            "flex": null,
            "flex_flow": null,
            "grid_area": null,
            "grid_auto_columns": null,
            "grid_auto_flow": null,
            "grid_auto_rows": null,
            "grid_column": null,
            "grid_gap": null,
            "grid_row": null,
            "grid_template_areas": null,
            "grid_template_columns": null,
            "grid_template_rows": null,
            "height": null,
            "justify_content": null,
            "justify_items": null,
            "left": null,
            "margin": null,
            "max_height": null,
            "max_width": null,
            "min_height": null,
            "min_width": null,
            "object_fit": null,
            "object_position": null,
            "order": null,
            "overflow": null,
            "overflow_x": null,
            "overflow_y": null,
            "padding": null,
            "right": null,
            "top": null,
            "visibility": null,
            "width": null
          }
        },
        "11545c9c77714c2ba715208b0ac714d9": {
          "model_module": "@jupyter-widgets/base",
          "model_name": "LayoutModel",
          "model_module_version": "1.2.0",
          "state": {
            "_model_module": "@jupyter-widgets/base",
            "_model_module_version": "1.2.0",
            "_model_name": "LayoutModel",
            "_view_count": null,
            "_view_module": "@jupyter-widgets/base",
            "_view_module_version": "1.2.0",
            "_view_name": "LayoutView",
            "align_content": null,
            "align_items": null,
            "align_self": null,
            "border": null,
            "bottom": null,
            "display": null,
            "flex": null,
            "flex_flow": null,
            "grid_area": null,
            "grid_auto_columns": null,
            "grid_auto_flow": null,
            "grid_auto_rows": null,
            "grid_column": null,
            "grid_gap": null,
            "grid_row": null,
            "grid_template_areas": null,
            "grid_template_columns": null,
            "grid_template_rows": null,
            "height": null,
            "justify_content": null,
            "justify_items": null,
            "left": null,
            "margin": null,
            "max_height": null,
            "max_width": null,
            "min_height": null,
            "min_width": null,
            "object_fit": null,
            "object_position": null,
            "order": null,
            "overflow": null,
            "overflow_x": null,
            "overflow_y": null,
            "padding": null,
            "right": null,
            "top": null,
            "visibility": null,
            "width": null
          }
        },
        "2c82ae38d7dc4c699c47d1d331832811": {
          "model_module": "@jupyter-widgets/controls",
          "model_name": "DescriptionStyleModel",
          "model_module_version": "1.5.0",
          "state": {
            "_model_module": "@jupyter-widgets/controls",
            "_model_module_version": "1.5.0",
            "_model_name": "DescriptionStyleModel",
            "_view_count": null,
            "_view_module": "@jupyter-widgets/base",
            "_view_module_version": "1.2.0",
            "_view_name": "StyleView",
            "description_width": ""
          }
        },
        "b5d8516673474ff38b480a9ebeec8461": {
          "model_module": "@jupyter-widgets/base",
          "model_name": "LayoutModel",
          "model_module_version": "1.2.0",
          "state": {
            "_model_module": "@jupyter-widgets/base",
            "_model_module_version": "1.2.0",
            "_model_name": "LayoutModel",
            "_view_count": null,
            "_view_module": "@jupyter-widgets/base",
            "_view_module_version": "1.2.0",
            "_view_name": "LayoutView",
            "align_content": null,
            "align_items": null,
            "align_self": null,
            "border": null,
            "bottom": null,
            "display": null,
            "flex": null,
            "flex_flow": null,
            "grid_area": null,
            "grid_auto_columns": null,
            "grid_auto_flow": null,
            "grid_auto_rows": null,
            "grid_column": null,
            "grid_gap": null,
            "grid_row": null,
            "grid_template_areas": null,
            "grid_template_columns": null,
            "grid_template_rows": null,
            "height": null,
            "justify_content": null,
            "justify_items": null,
            "left": null,
            "margin": null,
            "max_height": null,
            "max_width": null,
            "min_height": null,
            "min_width": null,
            "object_fit": null,
            "object_position": null,
            "order": null,
            "overflow": null,
            "overflow_x": null,
            "overflow_y": null,
            "padding": null,
            "right": null,
            "top": null,
            "visibility": null,
            "width": null
          }
        },
        "a1113a2898884c509baf34d356ec6839": {
          "model_module": "@jupyter-widgets/controls",
          "model_name": "ProgressStyleModel",
          "model_module_version": "1.5.0",
          "state": {
            "_model_module": "@jupyter-widgets/controls",
            "_model_module_version": "1.5.0",
            "_model_name": "ProgressStyleModel",
            "_view_count": null,
            "_view_module": "@jupyter-widgets/base",
            "_view_module_version": "1.2.0",
            "_view_name": "StyleView",
            "bar_color": null,
            "description_width": ""
          }
        },
        "dd6cbebd383a4317b1c9f373aa91f965": {
          "model_module": "@jupyter-widgets/base",
          "model_name": "LayoutModel",
          "model_module_version": "1.2.0",
          "state": {
            "_model_module": "@jupyter-widgets/base",
            "_model_module_version": "1.2.0",
            "_model_name": "LayoutModel",
            "_view_count": null,
            "_view_module": "@jupyter-widgets/base",
            "_view_module_version": "1.2.0",
            "_view_name": "LayoutView",
            "align_content": null,
            "align_items": null,
            "align_self": null,
            "border": null,
            "bottom": null,
            "display": null,
            "flex": null,
            "flex_flow": null,
            "grid_area": null,
            "grid_auto_columns": null,
            "grid_auto_flow": null,
            "grid_auto_rows": null,
            "grid_column": null,
            "grid_gap": null,
            "grid_row": null,
            "grid_template_areas": null,
            "grid_template_columns": null,
            "grid_template_rows": null,
            "height": null,
            "justify_content": null,
            "justify_items": null,
            "left": null,
            "margin": null,
            "max_height": null,
            "max_width": null,
            "min_height": null,
            "min_width": null,
            "object_fit": null,
            "object_position": null,
            "order": null,
            "overflow": null,
            "overflow_x": null,
            "overflow_y": null,
            "padding": null,
            "right": null,
            "top": null,
            "visibility": null,
            "width": null
          }
        },
        "33f25a9249e24139bcaca9c4cfd51232": {
          "model_module": "@jupyter-widgets/controls",
          "model_name": "DescriptionStyleModel",
          "model_module_version": "1.5.0",
          "state": {
            "_model_module": "@jupyter-widgets/controls",
            "_model_module_version": "1.5.0",
            "_model_name": "DescriptionStyleModel",
            "_view_count": null,
            "_view_module": "@jupyter-widgets/base",
            "_view_module_version": "1.2.0",
            "_view_name": "StyleView",
            "description_width": ""
          }
        }
      }
    }
  },
  "cells": [
    {
      "cell_type": "code",
      "source": [
        "!pip install transformers"
      ],
      "metadata": {
        "colab": {
          "base_uri": "https://localhost:8080/"
        },
        "id": "GRArJkab0-Nk",
        "outputId": "674fb2f7-aa1d-40d4-fb6a-a91e5757da6c"
      },
      "execution_count": null,
      "outputs": [
        {
          "output_type": "stream",
          "name": "stdout",
          "text": [
            "Looking in indexes: https://pypi.org/simple, https://us-python.pkg.dev/colab-wheels/public/simple/\n",
            "Collecting transformers\n",
            "  Downloading transformers-4.25.1-py3-none-any.whl (5.8 MB)\n",
            "\u001b[K     |████████████████████████████████| 5.8 MB 13.0 MB/s \n",
            "\u001b[?25hRequirement already satisfied: numpy>=1.17 in /usr/local/lib/python3.8/dist-packages (from transformers) (1.21.6)\n",
            "Collecting huggingface-hub<1.0,>=0.10.0\n",
            "  Downloading huggingface_hub-0.11.1-py3-none-any.whl (182 kB)\n",
            "\u001b[K     |████████████████████████████████| 182 kB 62.2 MB/s \n",
            "\u001b[?25hRequirement already satisfied: requests in /usr/local/lib/python3.8/dist-packages (from transformers) (2.23.0)\n",
            "Requirement already satisfied: pyyaml>=5.1 in /usr/local/lib/python3.8/dist-packages (from transformers) (6.0)\n",
            "Requirement already satisfied: packaging>=20.0 in /usr/local/lib/python3.8/dist-packages (from transformers) (21.3)\n",
            "Requirement already satisfied: tqdm>=4.27 in /usr/local/lib/python3.8/dist-packages (from transformers) (4.64.1)\n",
            "Requirement already satisfied: filelock in /usr/local/lib/python3.8/dist-packages (from transformers) (3.8.0)\n",
            "Requirement already satisfied: regex!=2019.12.17 in /usr/local/lib/python3.8/dist-packages (from transformers) (2022.6.2)\n",
            "Collecting tokenizers!=0.11.3,<0.14,>=0.11.1\n",
            "  Downloading tokenizers-0.13.2-cp38-cp38-manylinux_2_17_x86_64.manylinux2014_x86_64.whl (7.6 MB)\n",
            "\u001b[K     |████████████████████████████████| 7.6 MB 57.7 MB/s \n",
            "\u001b[?25hRequirement already satisfied: typing-extensions>=3.7.4.3 in /usr/local/lib/python3.8/dist-packages (from huggingface-hub<1.0,>=0.10.0->transformers) (4.1.1)\n",
            "Requirement already satisfied: pyparsing!=3.0.5,>=2.0.2 in /usr/local/lib/python3.8/dist-packages (from packaging>=20.0->transformers) (3.0.9)\n",
            "Requirement already satisfied: chardet<4,>=3.0.2 in /usr/local/lib/python3.8/dist-packages (from requests->transformers) (3.0.4)\n",
            "Requirement already satisfied: idna<3,>=2.5 in /usr/local/lib/python3.8/dist-packages (from requests->transformers) (2.10)\n",
            "Requirement already satisfied: certifi>=2017.4.17 in /usr/local/lib/python3.8/dist-packages (from requests->transformers) (2022.9.24)\n",
            "Requirement already satisfied: urllib3!=1.25.0,!=1.25.1,<1.26,>=1.21.1 in /usr/local/lib/python3.8/dist-packages (from requests->transformers) (1.24.3)\n",
            "Installing collected packages: tokenizers, huggingface-hub, transformers\n",
            "Successfully installed huggingface-hub-0.11.1 tokenizers-0.13.2 transformers-4.25.1\n"
          ]
        }
      ]
    },
    {
      "cell_type": "code",
      "execution_count": null,
      "metadata": {
        "id": "o3FSApfSjofF"
      },
      "outputs": [],
      "source": [
        "import torch \n",
        "import numpy as np\n",
        "\n",
        "from nltk.tokenize import sent_tokenize \n",
        "\n",
        "import pandas as pd\n",
        "from pathlib import Path \n",
        "from sklearn.model_selection import train_test_split\n",
        "from torch.utils.data import Dataset\n",
        "from torch.utils.data.dataloader import DataLoader\n",
        "from torch import nn\n",
        "\n",
        "from transformers import AutoTokenizer, GPT2Tokenizer, GPT2ForSequenceClassification, GPT2Model"
      ]
    },
    {
      "cell_type": "code",
      "source": [
        "!unzip dataset_all_genres.csv.zip"
      ],
      "metadata": {
        "colab": {
          "base_uri": "https://localhost:8080/"
        },
        "id": "e0eHV59EAKxb",
        "outputId": "1d8ad2e3-fc27-4311-836b-1c4a84628cc7"
      },
      "execution_count": null,
      "outputs": [
        {
          "output_type": "stream",
          "name": "stdout",
          "text": [
            "Archive:  dataset_all_genres.csv.zip\n",
            "  inflating: dataset_all_genres.csv  \n"
          ]
        }
      ]
    },
    {
      "cell_type": "code",
      "source": [
        "df = pd.read_csv('dataset_all_genres.csv')\n",
        "df['primary_genre'].value_counts()"
      ],
      "metadata": {
        "colab": {
          "base_uri": "https://localhost:8080/"
        },
        "id": "4yJMzqktAM9O",
        "outputId": "e68d9672-6f4d-4c0a-aa96-00274e93ac0c"
      },
      "execution_count": null,
      "outputs": [
        {
          "output_type": "execute_result",
          "data": {
            "text/plain": [
              "Rock       25177\n",
              "Pop        13759\n",
              "Indie      12998\n",
              "Hip Hop     8412\n",
              "Country     7377\n",
              "R&B         5309\n",
              "Blues       2038\n",
              "EDM         1758\n",
              "Name: primary_genre, dtype: int64"
            ]
          },
          "metadata": {},
          "execution_count": 10
        }
      ]
    },
    {
      "cell_type": "code",
      "source": [
        "df.shape"
      ],
      "metadata": {
        "colab": {
          "base_uri": "https://localhost:8080/"
        },
        "id": "JJTKxRyrCmIJ",
        "outputId": "4f47d658-d898-4b42-f5a4-c1ee4f433309"
      },
      "execution_count": null,
      "outputs": [
        {
          "output_type": "execute_result",
          "data": {
            "text/plain": [
              "(95076, 4)"
            ]
          },
          "metadata": {},
          "execution_count": 11
        }
      ]
    },
    {
      "cell_type": "code",
      "source": [
        "df_sampled = df.groupby('primary_genre').sample(n=1750, random_state=200)"
      ],
      "metadata": {
        "id": "nnVdEhKyAt_S"
      },
      "execution_count": null,
      "outputs": []
    },
    {
      "cell_type": "code",
      "source": [
        "model_name = \"distilgpt2\"\n",
        "\n",
        "tokenizer = GPT2Tokenizer.from_pretrained(model_name)\n",
        "tokenizer.padding_side = \"right\"\n",
        "tokenizer.pad_token = tokenizer.eos_token\n"
      ],
      "metadata": {
        "colab": {
          "base_uri": "https://localhost:8080/",
          "height": 113,
          "referenced_widgets": [
            "7f880de5f34e4197a4c8bd0028276fa2",
            "13a3e9aabae5450bba152a1e97f7685b",
            "a099bdb8a4004ab99d90fdf5349c50c0",
            "a3daa1d0da3244869567a940c2106745",
            "a130b68bf10f4f99837c2d021565a6a4",
            "3e1f89a5f1da487bb26d520ae872bbb9",
            "bd37506e7e8e4d009d2aae7a4f30cf7d",
            "c07c92b8d6ce438db64f58db70279342",
            "6e918cd173ba45b09e126b78c21142c8",
            "152a8c68964b48eaa83629785668b8d1",
            "e87a3de006ed4cb29e1eff27be7672cb",
            "fd7cc7927d784dc8bb27a5e622d12180",
            "041502e4f2e2435ebb7e083878106c39",
            "1580ad7d7be34af686aaf1d2ce96e0d9",
            "5aa30ff0db474967a62ae935a41d9db1",
            "5d883ca02bde4f549ca7b4be7bab0de5",
            "0b9a5720e8c3473f991217f6ef51644b",
            "fd426555a74249aa9cc58b698155ce9a",
            "9cbc554cd88f4c33bd1b37bc5bf5c1b0",
            "ab8d08ee07344185965cb3e68b61a1d4",
            "9f0eb0158b3c44089a1528621b48f9e8",
            "4ae2ab3e30c94c9789e7ef57e6df6515",
            "bee39fb241ea421ba8fcc1db68efc1fa",
            "106a8de96af04778b8b1b546425aba40",
            "338f62cf60c2460b85b4a2e996cc61d5",
            "817f62863f3e4cb2a50c27e4183c187e",
            "f9cce8b54d634f339f5089cfc7f73406",
            "11545c9c77714c2ba715208b0ac714d9",
            "2c82ae38d7dc4c699c47d1d331832811",
            "b5d8516673474ff38b480a9ebeec8461",
            "a1113a2898884c509baf34d356ec6839",
            "dd6cbebd383a4317b1c9f373aa91f965",
            "33f25a9249e24139bcaca9c4cfd51232"
          ]
        },
        "id": "CVlkuzPM0zj7",
        "outputId": "a1e0a729-ccdf-48ab-d520-3409280f264c"
      },
      "execution_count": null,
      "outputs": [
        {
          "output_type": "display_data",
          "data": {
            "text/plain": [
              "Downloading:   0%|          | 0.00/1.04M [00:00<?, ?B/s]"
            ],
            "application/vnd.jupyter.widget-view+json": {
              "version_major": 2,
              "version_minor": 0,
              "model_id": "7f880de5f34e4197a4c8bd0028276fa2"
            }
          },
          "metadata": {}
        },
        {
          "output_type": "display_data",
          "data": {
            "text/plain": [
              "Downloading:   0%|          | 0.00/456k [00:00<?, ?B/s]"
            ],
            "application/vnd.jupyter.widget-view+json": {
              "version_major": 2,
              "version_minor": 0,
              "model_id": "fd7cc7927d784dc8bb27a5e622d12180"
            }
          },
          "metadata": {}
        },
        {
          "output_type": "display_data",
          "data": {
            "text/plain": [
              "Downloading:   0%|          | 0.00/762 [00:00<?, ?B/s]"
            ],
            "application/vnd.jupyter.widget-view+json": {
              "version_major": 2,
              "version_minor": 0,
              "model_id": "bee39fb241ea421ba8fcc1db68efc1fa"
            }
          },
          "metadata": {}
        }
      ]
    },
    {
      "cell_type": "code",
      "source": [
        "class GPT2Classifier(nn.Module):\n",
        "  def __init__(self, embedding_size, num_classes,max_seq_len, gpt_model_name):\n",
        "    super(GPT2Classifier,self).__init__()\n",
        "    self.gpt2 = GPT2Model.from_pretrained(gpt_model_name)\n",
        "    # self.classifier_head = nn.Linear(embedding_size*max_seq_len, num_classes)    \n",
        "    self.classifier_head = nn.Sequential(\n",
        "                                nn.Linear(embedding_size*max_seq_len, 768),\n",
        "                                nn.ReLU(),\n",
        "                                nn.Dropout(0.1),\n",
        "                                nn.Linear(768, num_classes)\n",
        "                              )\n",
        "\n",
        "      \n",
        "  def forward(self, input_id, mask):\n",
        "    gpt_out, _ = self.gpt2(input_ids=input_id, attention_mask=mask, return_dict=False)\n",
        "    batch_size = gpt_out.shape[0]\n",
        "    linear_output = self.classifier_head(gpt_out.view(batch_size,-1))\n",
        "    return linear_output"
      ],
      "metadata": {
        "id": "e9UUubsx6lfe"
      },
      "execution_count": null,
      "outputs": []
    },
    {
      "cell_type": "code",
      "source": [
        "df_sampled['primary_genre'].value_counts()"
      ],
      "metadata": {
        "colab": {
          "base_uri": "https://localhost:8080/"
        },
        "id": "_TGtZDSXLNeo",
        "outputId": "04d3f480-627c-4415-b97a-7f3eb0dae43f"
      },
      "execution_count": null,
      "outputs": [
        {
          "output_type": "execute_result",
          "data": {
            "text/plain": [
              "Blues      1750\n",
              "Country    1750\n",
              "EDM        1750\n",
              "Hip Hop    1750\n",
              "Indie      1750\n",
              "Pop        1750\n",
              "R&B        1750\n",
              "Rock       1750\n",
              "Name: primary_genre, dtype: int64"
            ]
          },
          "metadata": {},
          "execution_count": 15
        }
      ]
    },
    {
      "cell_type": "code",
      "source": [
        "\"\"\"\n",
        "Prepare the dataset to finetune a transformer model\n",
        "\"\"\" \n",
        "genre_labels = {'Blues': 0, 'Country': 1, 'EDM': 2, 'Hip Hop': 3, 'Indie': 4, 'Pop': 5, 'R&B': 6, 'Rock': 7}\n",
        "\n",
        "class SongGenreClassificationDataset(Dataset):\n",
        "    \n",
        "    def __init__(self, texts, genres, max_length=128):\n",
        "        if 'secondary_genre' in genres.columns:\n",
        "          self.primary_labels = [genre_labels[genre] for genre in genres['primary_genre']]\n",
        "          self.secondary_labels = [genre_labels[genre] if pd.notna(genre) else -1 for genre in genres['secondary_genre']]\n",
        "        else:\n",
        "          self.primary_labels = [genre_labels[genre] for genre in genres]\n",
        "          self.secondary_labels = [-1 for genre in genres]\n",
        "          # Tokenize\n",
        "        self.tokenizer = tokenizer\n",
        "        self.lyrics = []\n",
        "\n",
        "        for text in texts:\n",
        "          text = text.replace(\"\\n\\n\", \"$$^^$$\").replace(\"\\n\", \" \").replace(\"$$^^$$\", \"\\n\")\n",
        "          self.lyrics.append(self.tokenizer(text, padding='max_length', max_length=max_length, truncation=True, return_tensors=\"pt\"))      \n",
        "\n",
        "    def __len__(self):\n",
        "        return len(self.primary_labels)\n",
        "\n",
        "    def __getitem__(self, idx):\n",
        "        \"\"\"\n",
        "        The output should be a tuple x and y, both as pytorch tensors.\n",
        "        Please refer to the `run()` method in the mingpt/trainer.py script for \n",
        "        how the x and y are going to be used.\n",
        "        \"\"\"\n",
        "        x = self.lyrics[idx]\n",
        "        if len(self.secondary_labels) > 0:\n",
        "          primary = self.primary_labels[idx]\n",
        "          secondary = self.secondary_labels[idx]\n",
        "          if secondary == -1:\n",
        "            secondary = primary\n",
        "          y = (primary, secondary)\n",
        "        else:\n",
        "          y = self.primary_labels[idx]\n",
        "        return (x, y)\n",
        "\n",
        "    "
      ],
      "metadata": {
        "id": "_l28BE7Kt-ha"
      },
      "execution_count": null,
      "outputs": []
    },
    {
      "cell_type": "code",
      "source": [
        "from torch.optim import Adam\n",
        "from tqdm import tqdm\n",
        "\n",
        "x_train, x_test, y_train, y_test = train_test_split(df_sampled['lyrics'], df_sampled[['primary_genre', 'secondary_genre']], test_size=0.3, random_state = 200)\n",
        "x_val, x_test, y_val, y_test = train_test_split(x_test, y_test, test_size=0.5, random_state = 200)\n",
        "\n",
        "def train_multiple_correct_labels(model, train_data, train_labels, val_data, val_labels, learning_rate, epochs, batch_size=2, max_seq_length=128):\n",
        "    train, val = SongGenreClassificationDataset(train_data, train_labels,\n",
        "                                                max_length=max_seq_length), SongGenreClassificationDataset(val_data, val_labels, max_length=max_seq_length)\n",
        "\n",
        "    train_dataloader = torch.utils.data.DataLoader(train, batch_size=batch_size, shuffle=True)\n",
        "    val_dataloader = torch.utils.data.DataLoader(val, batch_size=batch_size, shuffle=True)\n",
        "\n",
        "    # print(f\"train dataloader: {len(train_dataloader)}\")\n",
        "    \n",
        "    use_cuda = torch.cuda.is_available()\n",
        "    device = torch.device(\"cuda\" if use_cuda else \"cpu\")\n",
        "\n",
        "    print(f\"training on {device}\")\n",
        "    \n",
        "    loss_fn = nn.CrossEntropyLoss()\n",
        "    optimizer = Adam(model.parameters(), lr=learning_rate)\n",
        "\n",
        "    running_train_loss = []\n",
        "    running_train_acc = []\n",
        "    running_val_loss = []\n",
        "    running_val_acc = []\n",
        "    \n",
        "    if use_cuda:\n",
        "        print('using cuda')\n",
        "        model = model.cuda()\n",
        "        loss_fn = loss_fn.cuda()\n",
        "\n",
        "    for epoch_num in range(epochs):\n",
        "        total_acc_train = 0\n",
        "        total_loss_train = 0\n",
        "        print('starting')\n",
        "        for i, (train_input, train_labels) in enumerate(tqdm(train_dataloader)):\n",
        "            # train_labels = train_labels.to(device)\n",
        "            if len(train_labels) > 1:\n",
        "              train_label_primary = train_labels[0].to(device)\n",
        "              train_label_secondary = train_labels[1].to(device)\n",
        "            else:\n",
        "              print('not val_labels')\n",
        "              train_label_primary = train_labels.to(device)\n",
        "            # train_label = train_label.to(device)\n",
        "            mask = train_input['attention_mask'].to(device)\n",
        "            input_id = train_input[\"input_ids\"].squeeze(1).to(device)\n",
        "            \n",
        "            model.zero_grad()\n",
        "\n",
        "            output = model(input_id, mask)\n",
        "\n",
        "            # batch_loss = loss_fn(output, train_label)\n",
        "            batch_loss_primary = loss_fn(output, train_label_primary)\n",
        "            \n",
        "\n",
        "            if len(train_labels) > 1:\n",
        "              batch_loss_secondary = loss_fn(output, train_label_secondary)\n",
        "              \n",
        "\n",
        "            total_loss_train += (max(batch_loss_primary.item(), batch_loss_secondary.item()))\n",
        "\n",
        "            prediction_matches_primary = output.argmax(dim=1) == train_label_primary \n",
        "            prediction_matches_secondary = output.argmax(dim=1) == train_label_secondary \n",
        "\n",
        "            acc = torch.maximum(prediction_matches_primary, prediction_matches_secondary).sum().item()\n",
        "            total_acc_train += acc\n",
        "\n",
        "            if batch_loss_primary.item() < batch_loss_secondary.item():\n",
        "              batch_loss_secondary.backward()\n",
        "            else:\n",
        "              batch_loss_primary.backward()\n",
        "            optimizer.step()\n",
        "            \n",
        "        total_acc_val = 0\n",
        "        total_loss_val = 0\n",
        "        \n",
        "        with torch.no_grad():\n",
        "            \n",
        "            for val_input, val_labels in val_dataloader:\n",
        "\n",
        "              if len(val_labels) > 1:\n",
        "                val_label_primary = val_labels[0].to(device)\n",
        "                val_label_secondary = val_labels[1].to(device)\n",
        "              else:\n",
        "                val_label_primary = val_labels.to(device)\n",
        "                val_label = val_label.to(device)\n",
        "\n",
        "              mask = val_input['attention_mask'].to(device)\n",
        "              input_id = val_input['input_ids'].squeeze(1).to(device)\n",
        "              \n",
        "              output = model(input_id, mask)\n",
        "              \n",
        "              batch_loss_primary = loss_fn(output, val_label_primary)\n",
        "            \n",
        "              if len(val_labels) > 1:\n",
        "                batch_loss_secondary = loss_fn(output, val_label_secondary)\n",
        "\n",
        "              total_loss_val += (max(batch_loss_primary.item(), batch_loss_secondary.item()))\n",
        "              # total_loss_val += batch_loss.item()\n",
        "\n",
        "              prediction_matches_primary = output.argmax(dim=1) == val_label_primary \n",
        "              prediction_matches_secondary = output.argmax(dim=1) == val_label_secondary \n",
        "              \n",
        "              acc = torch.maximum(prediction_matches_primary, prediction_matches_secondary).sum().item()\n",
        "              # acc = (output.argmax(dim=1)==val_label).sum().item()\n",
        "              total_acc_val += acc\n",
        "\n",
        "            print(\n",
        "            f\"Epochs: {epoch_num + 1} | Train Loss: {total_loss_train/len(train_data): .3f} \\\n",
        "            | Train Accuracy: {total_acc_train / len(train_data): .3f} \\\n",
        "            | Val Loss: {total_loss_val / len(val_data): .3f} \\\n",
        "            | Val Accuracy: {total_acc_val / len(val_data): .3f}\")\n",
        "\n",
        "            running_train_loss.append(total_loss_train/len(train_data))\n",
        "            running_train_acc.append(total_acc_train / len(train_data))\n",
        "            running_val_loss.append(total_loss_val / len(val_data))\n",
        "            running_val_acc.append(total_acc_val / len(val_data))\n",
        "            \n",
        "    return model, running_train_loss, running_train_acc, running_val_loss, running_val_acc"
      ],
      "metadata": {
        "id": "Ko2KTpC_8lkv"
      },
      "execution_count": null,
      "outputs": []
    },
    {
      "cell_type": "markdown",
      "source": [
        "Train the model:"
      ],
      "metadata": {
        "id": "0lQuUcnGQw7o"
      }
    },
    {
      "cell_type": "code",
      "source": [
        "EPOCHS = 3\n",
        "model_multiple_correct_labels = GPT2Classifier(embedding_size=768, num_classes=8, max_seq_len=128, gpt_model_name=model_name)\n",
        "LR = 1e-5\n",
        "\n",
        "trained_model_correct_labels, tr_loss, tr_acc, v_loss, v_acc = train_multiple_correct_labels(model_multiple_correct_labels, x_train, y_train, x_val, y_val, LR, EPOCHS)\n"
      ],
      "metadata": {
        "colab": {
          "base_uri": "https://localhost:8080/"
        },
        "id": "3rJF9DVG_Bco",
        "outputId": "cc19e35b-c01e-48c8-d119-75ef2e70cc2e"
      },
      "execution_count": null,
      "outputs": [
        {
          "output_type": "stream",
          "name": "stderr",
          "text": [
            "Some weights of the model checkpoint at distilgpt2 were not used when initializing GPT2Model: ['lm_head.weight']\n",
            "- This IS expected if you are initializing GPT2Model from the checkpoint of a model trained on another task or with another architecture (e.g. initializing a BertForSequenceClassification model from a BertForPreTraining model).\n",
            "- This IS NOT expected if you are initializing GPT2Model from the checkpoint of a model that you expect to be exactly identical (initializing a BertForSequenceClassification model from a BertForSequenceClassification model).\n"
          ]
        },
        {
          "output_type": "stream",
          "name": "stdout",
          "text": [
            "training on cuda\n",
            "using cuda\n",
            "starting\n"
          ]
        },
        {
          "output_type": "stream",
          "name": "stderr",
          "text": [
            "100%|██████████| 4900/4900 [07:27<00:00, 10.95it/s]\n"
          ]
        },
        {
          "output_type": "stream",
          "name": "stdout",
          "text": [
            "Epochs: 1 | Train Loss:  0.772             | Train Accuracy:  0.521             | Val Loss:  0.682             | Val Accuracy:  0.595\n",
            "starting\n"
          ]
        },
        {
          "output_type": "stream",
          "name": "stderr",
          "text": [
            "100%|██████████| 4900/4900 [07:28<00:00, 10.94it/s]\n"
          ]
        },
        {
          "output_type": "stream",
          "name": "stdout",
          "text": [
            "Epochs: 2 | Train Loss:  0.503             | Train Accuracy:  0.776             | Val Loss:  0.691             | Val Accuracy:  0.612\n",
            "starting\n"
          ]
        },
        {
          "output_type": "stream",
          "name": "stderr",
          "text": [
            "100%|██████████| 4900/4900 [07:28<00:00, 10.93it/s]\n"
          ]
        },
        {
          "output_type": "stream",
          "name": "stdout",
          "text": [
            "Epochs: 3 | Train Loss:  0.356             | Train Accuracy:  0.957             | Val Loss:  0.749             | Val Accuracy:  0.606\n"
          ]
        }
      ]
    },
    {
      "cell_type": "code",
      "source": [
        "def evaluate_multiple_correct(model, test_data, test_labels):\n",
        "\n",
        "    test = SongGenreClassificationDataset(test_data, test_labels)\n",
        "\n",
        "    test_dataloader = torch.utils.data.DataLoader(test, batch_size=2)\n",
        "\n",
        "    use_cuda = torch.cuda.is_available()\n",
        "    device = torch.device(\"cuda\" if use_cuda else \"cpu\")\n",
        "\n",
        "    if use_cuda:\n",
        "\n",
        "        model = model.cuda()\n",
        "\n",
        "        \n",
        "    # Tracking variables\n",
        "    predictions_labels = []\n",
        "    true_labels = []\n",
        "    \n",
        "    total_acc_test = 0\n",
        "    with torch.no_grad():\n",
        "\n",
        "        for test_input, test_labels in test_dataloader:\n",
        "\n",
        "            if len(test_labels) > 1:\n",
        "                test_label_primary = test_labels[0].to(device)\n",
        "                test_label_secondary = test_labels[1].to(device)\n",
        "                \n",
        "            else:\n",
        "                test_label_primary = test_labels.to(device)\n",
        "\n",
        "            mask = test_input['attention_mask'].to(device)\n",
        "            input_id = test_input['input_ids'].squeeze(1).to(device)\n",
        "\n",
        "            output = model(input_id, mask)\n",
        "\n",
        "            prediction_matches_primary = output.argmax(dim=1) == test_label_primary \n",
        "            prediction_matches_secondary = output.argmax(dim=1) == test_label_secondary \n",
        "              \n",
        "            acc = torch.maximum(prediction_matches_primary, prediction_matches_secondary).sum().item()\n",
        "            total_acc_test += acc\n",
        "            \n",
        "            # add original labels\n",
        "            test_label_primary = test_label_primary.cpu().numpy().flatten().tolist()\n",
        "            test_label_secondary = test_label_secondary.cpu().numpy().flatten().tolist()\n",
        "            output_preds = output.argmax(dim=1).cpu().numpy().flatten().tolist()\n",
        "\n",
        "            for i in range(len(test_label_primary)):\n",
        "                if test_label_primary[i] == output_preds[i]:\n",
        "                    true_labels.append(test_label_primary[i])\n",
        "                elif test_label_secondary[i] == output_preds[i]:\n",
        "                    true_labels.append(test_label_secondary[i])\n",
        "                else:\n",
        "                    true_labels.append(test_label_primary[i])\n",
        "\n",
        "            # true_labels += test_label_secondary.cpu().numpy().flatten().tolist()\n",
        "            # get predictions to list\n",
        "            predictions_labels += output.argmax(dim=1).cpu().numpy().flatten().tolist()\n",
        "    \n",
        "    print(f'Test Accuracy: {total_acc_test / len(test_data): .3f}')\n",
        "    return true_labels, predictions_labels\n",
        "    \n",
        "# true_labels, pred_labels = evaluate(model, x_test, y_test)\n"
      ],
      "metadata": {
        "id": "9nhNqUgD6kk_"
      },
      "execution_count": null,
      "outputs": []
    },
    {
      "cell_type": "code",
      "source": [
        "from sklearn.metrics import confusion_matrix\n",
        "from sklearn.metrics import ConfusionMatrixDisplay\n",
        "import matplotlib.pyplot as plt\n",
        "\n",
        "true_labels, pred_labels = evaluate_multiple_correct(trained_model_correct_labels, x_val, y_val)\n",
        "fig, ax = plt.subplots(figsize=(8, 8))\n",
        "\n",
        "\n",
        "cm = confusion_matrix(y_true=true_labels, y_pred=pred_labels, labels=range(len(genre_labels)), normalize='true')\n",
        "disp = ConfusionMatrixDisplay(confusion_matrix=cm, display_labels=list(genre_labels.keys()))\n",
        "disp.plot(ax=ax, cmap='Blues')"
      ],
      "metadata": {
        "colab": {
          "base_uri": "https://localhost:8080/",
          "height": 508
        },
        "id": "VGImtpKR8CHr",
        "outputId": "caff016c-2f58-4e51-9d7b-caedefd93799"
      },
      "execution_count": null,
      "outputs": [
        {
          "output_type": "stream",
          "name": "stdout",
          "text": [
            "Test Accuracy:  0.616\n"
          ]
        },
        {
          "output_type": "execute_result",
          "data": {
            "text/plain": [
              "<sklearn.metrics._plot.confusion_matrix.ConfusionMatrixDisplay at 0x7fb53016dd60>"
            ]
          },
          "metadata": {},
          "execution_count": 54
        },
        {
          "output_type": "display_data",
          "data": {
            "text/plain": [
              "<Figure size 576x576 with 2 Axes>"
            ],
            "image/png": "[encoded data removed]"
          },
          "metadata": {
            "needs_background": "light"
          }
        }
      ]
    },
    {
      "cell_type": "markdown",
      "source": [
        "### Try without pop genre"
      ],
      "metadata": {
        "id": "rqhm_Rw9TxpT"
      }
    },
    {
      "cell_type": "code",
      "source": [
        "# remove the pop genre to see if performance is better\n",
        "df_no_pop = df_sampled[df_sampled['primary_genre']!= 'Pop']\n",
        "\n",
        "x_train_no_pop, x_test_no_pop, y_train_no_pop, y_test_no_pop = train_test_split(df_no_pop['lyrics'], df_no_pop[['primary_genre', 'secondary_genre']], test_size=0.3, random_state = 200)\n",
        "x_val_no_pop, x_test_no_pop, y_val_no_pop, y_test_no_pop = train_test_split(x_test_no_pop, y_test_no_pop, test_size=0.5, random_state = 200)"
      ],
      "metadata": {
        "id": "iY9eOpdMTwxR"
      },
      "execution_count": null,
      "outputs": []
    },
    {
      "cell_type": "code",
      "source": [
        "EPOCHS = 3\n",
        "model_multiple_correct_labels_no_pop = GPT2Classifier(embedding_size=768, num_classes=8, max_seq_len=128, gpt_model_name=model_name)\n",
        "LR = 1e-5\n",
        "\n",
        "trained_model_correct_labels_no_pop, tr_loss_no_pop, tr_acc_no_pop, v_loss_no_pop, v_acc_no_pop = train_multiple_correct_labels(\n",
        "    model_multiple_correct_labels_no_pop, x_train_no_pop, y_train_no_pop, x_val_no_pop, y_val_no_pop, LR, EPOCHS)\n"
      ],
      "metadata": {
        "colab": {
          "base_uri": "https://localhost:8080/"
        },
        "id": "c7OWtpN8UXJC",
        "outputId": "8c9c1137-f182-4275-bbd3-6743c37a143f"
      },
      "execution_count": null,
      "outputs": [
        {
          "output_type": "stream",
          "name": "stderr",
          "text": [
            "Some weights of the model checkpoint at distilgpt2 were not used when initializing GPT2Model: ['lm_head.weight']\n",
            "- This IS expected if you are initializing GPT2Model from the checkpoint of a model trained on another task or with another architecture (e.g. initializing a BertForSequenceClassification model from a BertForPreTraining model).\n",
            "- This IS NOT expected if you are initializing GPT2Model from the checkpoint of a model that you expect to be exactly identical (initializing a BertForSequenceClassification model from a BertForSequenceClassification model).\n"
          ]
        },
        {
          "output_type": "stream",
          "name": "stdout",
          "text": [
            "training on cuda\n",
            "using cuda\n",
            "starting\n"
          ]
        },
        {
          "output_type": "stream",
          "name": "stderr",
          "text": [
            "100%|██████████| 4288/4288 [06:31<00:00, 10.96it/s]\n"
          ]
        },
        {
          "output_type": "stream",
          "name": "stdout",
          "text": [
            "Epochs: 1 | Train Loss:  0.741             | Train Accuracy:  0.555             | Val Loss:  0.679             | Val Accuracy:  0.594\n",
            "starting\n"
          ]
        },
        {
          "output_type": "stream",
          "name": "stderr",
          "text": [
            "100%|██████████| 4288/4288 [06:30<00:00, 10.99it/s]\n"
          ]
        },
        {
          "output_type": "stream",
          "name": "stdout",
          "text": [
            "Epochs: 2 | Train Loss:  0.459             | Train Accuracy:  0.811             | Val Loss:  0.727             | Val Accuracy:  0.599\n",
            "starting\n"
          ]
        },
        {
          "output_type": "stream",
          "name": "stderr",
          "text": [
            "100%|██████████| 4288/4288 [06:29<00:00, 11.00it/s]\n"
          ]
        },
        {
          "output_type": "stream",
          "name": "stdout",
          "text": [
            "Epochs: 3 | Train Loss:  0.338             | Train Accuracy:  0.958             | Val Loss:  0.693             | Val Accuracy:  0.653\n"
          ]
        }
      ]
    },
    {
      "cell_type": "code",
      "source": [
        "true_labels, pred_labels = evaluate_multiple_correct(trained_model_correct_labels_no_pop, x_val_no_pop, y_val_no_pop)\n",
        "fig, ax = plt.subplots(figsize=(8, 8))\n",
        "\n",
        "cm = confusion_matrix(y_true=true_labels, y_pred=pred_labels, labels=range(len(genre_labels)), normalize='true')\n",
        "disp = ConfusionMatrixDisplay(confusion_matrix=cm, display_labels=list(genre_labels.keys()))\n",
        "disp.plot(ax=ax, cmap='Blues')"
      ],
      "metadata": {
        "colab": {
          "base_uri": "https://localhost:8080/",
          "height": 508
        },
        "id": "HGg6FeXDZ9TC",
        "outputId": "faff8b35-90e0-441b-96b9-25251bccdb2a"
      },
      "execution_count": null,
      "outputs": [
        {
          "output_type": "stream",
          "name": "stdout",
          "text": [
            "Test Accuracy:  0.643\n"
          ]
        },
        {
          "output_type": "execute_result",
          "data": {
            "text/plain": [
              "<sklearn.metrics._plot.confusion_matrix.ConfusionMatrixDisplay at 0x7fb530a1a070>"
            ]
          },
          "metadata": {},
          "execution_count": 67
        },
        {
          "output_type": "display_data",
          "data": {
            "text/plain": [
              "<Figure size 576x576 with 2 Axes>"
            ],
            "image/png": "[encoded data removed]"
          },
          "metadata": {
            "needs_background": "light"
          }
        }
      ]
    },
    {
      "cell_type": "markdown",
      "source": [
        "### Try without indie genre"
      ],
      "metadata": {
        "id": "z_1fXbTGacIi"
      }
    },
    {
      "cell_type": "code",
      "source": [
        "# remove the indie genre to see if performance is better\n",
        "df_no_indie = df_sampled[df_sampled['primary_genre']!= 'Indie']\n",
        "\n",
        "x_train_no_indie, x_test_no_indie, y_train_no_indie, y_test_no_indie = train_test_split(df_no_indie['lyrics'], df_no_indie[['primary_genre', 'secondary_genre']], test_size=0.3, random_state = 200)\n",
        "x_val_no_indie, x_test_no_indie, y_val_no_indie, y_test_no_indie = train_test_split(x_test_no_indie, y_test_no_indie, test_size=0.5, random_state = 200)"
      ],
      "metadata": {
        "id": "xGhBPfloafFZ"
      },
      "execution_count": null,
      "outputs": []
    },
    {
      "cell_type": "code",
      "source": [
        "EPOCHS = 3\n",
        "model_multiple_correct_labels_no_indie = GPT2Classifier(embedding_size=768, num_classes=8, max_seq_len=128, gpt_model_name=model_name)\n",
        "LR = 1e-5\n",
        "\n",
        "trained_model_correct_labels_no_indie, tr_loss_no_indie, tr_acc_no_indie, v_loss_no_indie, v_acc_no_indie = train_multiple_correct_labels(\n",
        "    model_multiple_correct_labels_no_indie, x_train_no_indie, y_train_no_indie, x_val_no_indie, y_val_no_indie, LR, EPOCHS)\n",
        "\n",
        "# show confusion matrix\n",
        "true_labels, pred_labels = evaluate_multiple_correct(trained_model_correct_labels_no_indie, x_val_no_indie, y_val_no_indie)\n",
        "fig, ax = plt.subplots(figsize=(8, 8))\n",
        "\n",
        "cm = confusion_matrix(y_true=true_labels, y_pred=pred_labels, labels=range(len(genre_labels)), normalize='true')\n",
        "disp = ConfusionMatrixDisplay(confusion_matrix=cm, display_labels=list(genre_labels.keys()))\n",
        "disp.plot(ax=ax, cmap='Blues')\n"
      ],
      "metadata": {
        "colab": {
          "base_uri": "https://localhost:8080/",
          "height": 776
        },
        "id": "xnGaRDYuawLV",
        "outputId": "295c356b-686a-455d-e0cf-dd69013727be"
      },
      "execution_count": null,
      "outputs": [
        {
          "output_type": "stream",
          "name": "stderr",
          "text": [
            "Some weights of the model checkpoint at distilgpt2 were not used when initializing GPT2Model: ['lm_head.weight']\n",
            "- This IS expected if you are initializing GPT2Model from the checkpoint of a model trained on another task or with another architecture (e.g. initializing a BertForSequenceClassification model from a BertForPreTraining model).\n",
            "- This IS NOT expected if you are initializing GPT2Model from the checkpoint of a model that you expect to be exactly identical (initializing a BertForSequenceClassification model from a BertForSequenceClassification model).\n"
          ]
        },
        {
          "output_type": "stream",
          "name": "stdout",
          "text": [
            "training on cuda\n",
            "using cuda\n",
            "starting\n"
          ]
        },
        {
          "output_type": "stream",
          "name": "stderr",
          "text": [
            "100%|██████████| 4288/4288 [06:29<00:00, 11.00it/s]\n"
          ]
        },
        {
          "output_type": "stream",
          "name": "stdout",
          "text": [
            "Epochs: 1 | Train Loss:  0.727             | Train Accuracy:  0.555             | Val Loss:  0.652             | Val Accuracy:  0.634\n",
            "starting\n"
          ]
        },
        {
          "output_type": "stream",
          "name": "stderr",
          "text": [
            "100%|██████████| 4288/4288 [06:30<00:00, 10.98it/s]\n"
          ]
        },
        {
          "output_type": "stream",
          "name": "stdout",
          "text": [
            "Epochs: 2 | Train Loss:  0.459             | Train Accuracy:  0.793             | Val Loss:  0.685             | Val Accuracy:  0.621\n",
            "starting\n"
          ]
        },
        {
          "output_type": "stream",
          "name": "stderr",
          "text": [
            "100%|██████████| 4288/4288 [06:31<00:00, 10.95it/s]\n"
          ]
        },
        {
          "output_type": "stream",
          "name": "stdout",
          "text": [
            "Epochs: 3 | Train Loss:  0.322             | Train Accuracy:  0.960             | Val Loss:  0.677             | Val Accuracy:  0.647\n",
            "Test Accuracy:  0.641\n"
          ]
        },
        {
          "output_type": "execute_result",
          "data": {
            "text/plain": [
              "<sklearn.metrics._plot.confusion_matrix.ConfusionMatrixDisplay at 0x7fb5383bb2e0>"
            ]
          },
          "metadata": {},
          "execution_count": 69
        },
        {
          "output_type": "display_data",
          "data": {
            "text/plain": [
              "<Figure size 576x576 with 2 Axes>"
            ],
            "image/png": "[encoded data removed]"
          },
          "metadata": {
            "needs_background": "light"
          }
        }
      ]
    },
    {
      "cell_type": "code",
      "source": [
        "torch.save(trained_model_correct_labels_no_indie.state_dict(), \"gpt2-text-classifier-model-no-indie.pt\")"
      ],
      "metadata": {
        "id": "X-9YGBsSflXn"
      },
      "execution_count": null,
      "outputs": []
    },
    {
      "cell_type": "code",
      "source": [
        "!zip gpt2-text-classifier-model-no-indie.pt.zip gpt2-text-classifier-model-no-indie.pt "
      ],
      "metadata": {
        "colab": {
          "base_uri": "https://localhost:8080/"
        },
        "id": "7bZPuX_sgfdU",
        "outputId": "e18c729f-ed1a-4aa5-e84b-96ec403906d0"
      },
      "execution_count": null,
      "outputs": [
        {
          "output_type": "stream",
          "name": "stdout",
          "text": [
            "  adding: gpt2-text-classifier-model-no-indie.pt (deflated 8%)\n"
          ]
        }
      ]
    },
    {
      "cell_type": "markdown",
      "source": [
        "### Try without indie and pop genres"
      ],
      "metadata": {
        "id": "SGq4HSabgqHL"
      }
    },
    {
      "cell_type": "code",
      "source": [
        "# remove the pop and indie genres to see if performance is better\n",
        "df_no_indie_pop = df_sampled[~df_sampled['primary_genre'].isin(['Indie', 'Pop']) & ~df_sampled['secondary_genre'].isin(['Indie', 'Pop'])]\n",
        "\n",
        "x_train_no_indie_pop, x_test_no_indie_pop, y_train_no_indie_pop, y_test_no_indie_pop = train_test_split(df_no_indie_pop['lyrics'], df_no_indie_pop[['primary_genre', 'secondary_genre']], test_size=0.3, random_state = 200)\n",
        "x_val_no_indie_pop, x_test_no_indie_pop, y_val_no_indie_pop, y_test_no_indie_pop = train_test_split(x_test_no_indie_pop, y_test_no_indie_pop, test_size=0.5, random_state = 200)\n",
        "\n",
        "# x_train_no_indie, x_test_no_indie, y_train_no_indie, y_test_no_indie = train_test_split(df_no_indie['lyrics'], df_no_indie[['primary_genre', 'secondary_genre']], test_size=0.3, random_state = 200)\n",
        "# x_val_no_indie, x_test_no_indie, y_val_no_indie, y_test_no_indie = train_test_split(x_test_no_indie, y_test_no_indie, test_size=0.5, random_state = 200)"
      ],
      "metadata": {
        "id": "jK5jASESgtK2"
      },
      "execution_count": null,
      "outputs": []
    },
    {
      "cell_type": "code",
      "source": [
        "df_no_indie_pop['primary_genre'].value_counts()"
      ],
      "metadata": {
        "colab": {
          "base_uri": "https://localhost:8080/"
        },
        "id": "mm_5jdS6g_J_",
        "outputId": "3b602d01-170f-48a1-97ee-de5085179bd1"
      },
      "execution_count": null,
      "outputs": [
        {
          "output_type": "execute_result",
          "data": {
            "text/plain": [
              "Blues      1750\n",
              "EDM        1750\n",
              "Country    1638\n",
              "Hip Hop    1636\n",
              "Rock       1570\n",
              "R&B        1421\n",
              "Name: primary_genre, dtype: int64"
            ]
          },
          "metadata": {},
          "execution_count": 85
        }
      ]
    },
    {
      "cell_type": "code",
      "source": [
        "EPOCHS = 3\n",
        "model_multiple_correct_labels_no_indie_pop = GPT2Classifier(embedding_size=768, num_classes=8, max_seq_len=128, gpt_model_name=model_name)\n",
        "LR = 1e-5\n",
        "\n",
        "trained_model_correct_labels_no_indie_pop, tr_loss_no_indie_pop, tr_acc_no_indie_pop, v_loss_no_indie_pop, v_acc_no_indie = train_multiple_correct_labels(\n",
        "    model_multiple_correct_labels_no_indie_pop, x_train_no_indie_pop, y_train_no_indie_pop, x_val_no_indie_pop, y_val_no_indie_pop, LR, EPOCHS)\n",
        "\n",
        "# show confusion matrix\n",
        "true_labels, pred_labels = evaluate_multiple_correct(trained_model_correct_labels_no_indie_pop, x_val_no_indie_pop, y_val_no_indie_pop)\n",
        "fig, ax = plt.subplots(figsize=(8, 8))\n",
        "\n",
        "cm = confusion_matrix(y_true=true_labels, y_pred=pred_labels, labels=range(len(genre_labels)), normalize='true')\n",
        "disp = ConfusionMatrixDisplay(confusion_matrix=cm, display_labels=list(genre_labels.keys()))\n",
        "disp.plot(ax=ax, cmap='Blues')\n"
      ],
      "metadata": {
        "colab": {
          "base_uri": "https://localhost:8080/",
          "height": 776
        },
        "id": "nMfRdPslhpsc",
        "outputId": "3bf54031-4cdf-4ae3-ed07-639340d012e6"
      },
      "execution_count": null,
      "outputs": [
        {
          "output_type": "stream",
          "name": "stderr",
          "text": [
            "Some weights of the model checkpoint at distilgpt2 were not used when initializing GPT2Model: ['lm_head.weight']\n",
            "- This IS expected if you are initializing GPT2Model from the checkpoint of a model trained on another task or with another architecture (e.g. initializing a BertForSequenceClassification model from a BertForPreTraining model).\n",
            "- This IS NOT expected if you are initializing GPT2Model from the checkpoint of a model that you expect to be exactly identical (initializing a BertForSequenceClassification model from a BertForSequenceClassification model).\n"
          ]
        },
        {
          "output_type": "stream",
          "name": "stdout",
          "text": [
            "training on cuda\n",
            "using cuda\n",
            "starting\n"
          ]
        },
        {
          "output_type": "stream",
          "name": "stderr",
          "text": [
            "100%|██████████| 3418/3418 [05:10<00:00, 11.00it/s]\n"
          ]
        },
        {
          "output_type": "stream",
          "name": "stdout",
          "text": [
            "Epochs: 1 | Train Loss:  0.595             | Train Accuracy:  0.613             | Val Loss:  0.499             | Val Accuracy:  0.698\n",
            "starting\n"
          ]
        },
        {
          "output_type": "stream",
          "name": "stderr",
          "text": [
            "100%|██████████| 3418/3418 [05:10<00:00, 11.02it/s]\n"
          ]
        },
        {
          "output_type": "stream",
          "name": "stdout",
          "text": [
            "Epochs: 2 | Train Loss:  0.327             | Train Accuracy:  0.859             | Val Loss:  0.569             | Val Accuracy:  0.689\n",
            "starting\n"
          ]
        },
        {
          "output_type": "stream",
          "name": "stderr",
          "text": [
            "100%|██████████| 3418/3418 [05:09<00:00, 11.03it/s]\n"
          ]
        },
        {
          "output_type": "stream",
          "name": "stdout",
          "text": [
            "Epochs: 3 | Train Loss:  0.229             | Train Accuracy:  0.970             | Val Loss:  0.500             | Val Accuracy:  0.728\n",
            "Test Accuracy:  0.726\n"
          ]
        },
        {
          "output_type": "execute_result",
          "data": {
            "text/plain": [
              "<sklearn.metrics._plot.confusion_matrix.ConfusionMatrixDisplay at 0x7fb53015a8e0>"
            ]
          },
          "metadata": {},
          "execution_count": 86
        },
        {
          "output_type": "display_data",
          "data": {
            "text/plain": [
              "<Figure size 576x576 with 2 Axes>"
            ],
            "image/png": "[encoded data removed]"
          },
          "metadata": {
            "needs_background": "light"
          }
        }
      ]
    },
    {
      "cell_type": "code",
      "source": [
        "torch.save(trained_model_correct_labels_no_indie.state_dict(), \"gpt2-text-classifier-model-no-pop-or-indie.pt\")"
      ],
      "metadata": {
        "id": "sni3B2cRmMPw"
      },
      "execution_count": null,
      "outputs": []
    },
    {
      "cell_type": "code",
      "source": [
        "!zip gpt2-text-classifier-model-no-pop-or-indie.pt.zip gpt2-text-classifier-model-no-pop-or-indie.pt "
      ],
      "metadata": {
        "colab": {
          "base_uri": "https://localhost:8080/"
        },
        "id": "PoebTHNxnRGr",
        "outputId": "188ecb27-fe55-45e6-ba3a-2ba4038bb937"
      },
      "execution_count": null,
      "outputs": [
        {
          "output_type": "stream",
          "name": "stdout",
          "text": [
            "  adding: gpt2-text-classifier-model-no-pop-or-indie.pt (deflated 8%)\n"
          ]
        }
      ]
    },
    {
      "cell_type": "code",
      "source": [
        "from google.colab import files\n",
        "files.download('gpt2-text-classifier-model-no-pop-or-indie.pt.zip')\n",
        "\n",
        "# from google.colab import drive\n",
        "# drive.mount('/content/drive')\n",
        "# %cd /content/drive/MyDrive/Models"
      ],
      "metadata": {
        "colab": {
          "base_uri": "https://localhost:8080/",
          "height": 34
        },
        "id": "RbQni5v9ma4Y",
        "outputId": "6982acac-598d-4689-ea48-7881bbed2c51"
      },
      "execution_count": null,
      "outputs": [
        {
          "output_type": "display_data",
          "data": {
            "text/plain": [
              "<IPython.core.display.Javascript object>"
            ],
            "application/javascript": [
              "\n",
              "    async function download(id, filename, size) {\n",
              "      if (!google.colab.kernel.accessAllowed) {\n",
              "        return;\n",
              "      }\n",
              "      const div = document.createElement('div');\n",
              "      const label = document.createElement('label');\n",
              "      label.textContent = `Downloading \"${filename}\": `;\n",
              "      div.appendChild(label);\n",
              "      const progress = document.createElement('progress');\n",
              "      progress.max = size;\n",
              "      div.appendChild(progress);\n",
              "      document.body.appendChild(div);\n",
              "\n",
              "      const buffers = [];\n",
              "      let downloaded = 0;\n",
              "\n",
              "      const channel = await google.colab.kernel.comms.open(id);\n",
              "      // Send a message to notify the kernel that we're ready.\n",
              "      channel.send({})\n",
              "\n",
              "      for await (const message of channel.messages) {\n",
              "        // Send a message to notify the kernel that we're ready.\n",
              "        channel.send({})\n",
              "        if (message.buffers) {\n",
              "          for (const buffer of message.buffers) {\n",
              "            buffers.push(buffer);\n",
              "            downloaded += buffer.byteLength;\n",
              "            progress.value = downloaded;\n",
              "          }\n",
              "        }\n",
              "      }\n",
              "      const blob = new Blob(buffers, {type: 'application/binary'});\n",
              "      const a = document.createElement('a');\n",
              "      a.href = window.URL.createObjectURL(blob);\n",
              "      a.download = filename;\n",
              "      div.appendChild(a);\n",
              "      a.click();\n",
              "      div.remove();\n",
              "    }\n",
              "  "
            ]
          },
          "metadata": {}
        },
        {
          "output_type": "display_data",
          "data": {
            "text/plain": [
              "<IPython.core.display.Javascript object>"
            ],
            "application/javascript": [
              "download(\"download_9769f4ca-eb33-4646-906c-1797aea9ac56\", \"gpt2-text-classifier-model-no-pop-or-indie.pt.zip\", 584129299)"
            ]
          },
          "metadata": {}
        }
      ]
    },
    {
      "cell_type": "code",
      "source": [
        "import matplotlib.pyplot as plt\n",
        "\n",
        "def show_plot(train_loss, val_loss, train_acc, val_acc):\n",
        "  # if torch.cuda.is_available():\n",
        "  #   train_acc = [acc.cpu() for acc in train_acc]\n",
        "  #   val_acc = [acc.cpu() for acc in val_acc]\n",
        "  \n",
        "  x_range = range(1,len(train_loss)+1)\n",
        "  plt.plot(x_range,train_loss)\n",
        "  plt.plot(x_range,val_loss)\n",
        "  plt.xlabel('Num epochs')\n",
        "  plt.ylabel('Loss')\n",
        "  plt.legend(['Training', 'Validation'])\n",
        "  plt.title('Loss')\n",
        "  plt.show()\n",
        "\n",
        "  plt.plot(x_range,train_acc)\n",
        "  plt.plot(x_range,val_acc)\n",
        "  plt.xlabel('Num epochs')\n",
        "  plt.ylabel('Accuracy')\n",
        "  plt.legend(['Training', 'Validation'])\n",
        "  plt.title('Accuracy')\n",
        "  plt.show()"
      ],
      "metadata": {
        "id": "6ycGCwy2_sc1"
      },
      "execution_count": null,
      "outputs": []
    },
    {
      "cell_type": "code",
      "source": [
        "show_plot(tr_loss, v_loss, tr_acc, v_acc)"
      ],
      "metadata": {
        "colab": {
          "base_uri": "https://localhost:8080/",
          "height": 573
        },
        "id": "97en-BkbA02d",
        "outputId": "e6217e2d-638c-4065-96d1-c0bac2a5b4dd"
      },
      "execution_count": null,
      "outputs": [
        {
          "output_type": "display_data",
          "data": {
            "text/plain": [
              "<Figure size 432x288 with 1 Axes>"
            ],
            "image/png": "[encoded data removed]"
          },
          "metadata": {
            "needs_background": "light"
          }
        },
        {
          "output_type": "display_data",
          "data": {
            "text/plain": [
              "<Figure size 432x288 with 1 Axes>"
            ],
            "image/png": "[encoded data removed]"
          },
          "metadata": {
            "needs_background": "light"
          }
        }
      ]
    },
    {
      "cell_type": "code",
      "source": [
        "torch.save(model.state_dict(), \"gpt2-text-classifier-model.pt\")"
      ],
      "metadata": {
        "id": "rJHVNABSgIWJ"
      },
      "execution_count": null,
      "outputs": []
    },
    {
      "cell_type": "code",
      "source": [],
      "metadata": {
        "id": "nBMJyehQfhLj"
      },
      "execution_count": null,
      "outputs": []
    },
    {
      "cell_type": "code",
      "source": [
        "true_labels, pred_labels = evaluate_multiple_correct(trained_model_correct_labels, x_val, y_val)\n",
        "fig, ax = plt.subplots(figsize=(8, 8))\n",
        "\n",
        "\n",
        "cm = confusion_matrix(y_true=true_labels, y_pred=pred_labels, labels=range(len(genre_labels)), normalize='true')\n",
        "disp = ConfusionMatrixDisplay(confusion_matrix=cm, display_labels=list(genre_labels.keys()))\n",
        "disp.plot(ax=ax, cmap='Blues')"
      ],
      "metadata": {
        "colab": {
          "base_uri": "https://localhost:8080/",
          "height": 508
        },
        "id": "YR5_QYChOJW_",
        "outputId": "5eae0d7c-d9c0-4776-ee63-fe4e6c48df00"
      },
      "execution_count": null,
      "outputs": [
        {
          "output_type": "stream",
          "name": "stdout",
          "text": [
            "Test Accuracy:  0.610\n"
          ]
        },
        {
          "output_type": "execute_result",
          "data": {
            "text/plain": [
              "<sklearn.metrics._plot.confusion_matrix.ConfusionMatrixDisplay at 0x7fb540c33430>"
            ]
          },
          "metadata": {},
          "execution_count": 60
        },
        {
          "output_type": "display_data",
          "data": {
            "text/plain": [
              "<Figure size 576x576 with 2 Axes>"
            ],
            "image/png": "[encoded data removed]"
          },
          "metadata": {
            "needs_background": "light"
          }
        }
      ]
    },
    {
      "cell_type": "markdown",
      "source": [
        "Plot confusion matrix"
      ],
      "metadata": {
        "id": "-aget4i7Jh5G"
      }
    },
    {
      "cell_type": "code",
      "source": [
        "from sklearn.metrics import confusion_matrix\n",
        "from sklearn.metrics import ConfusionMatrixDisplay\n",
        "import matplotlib.pyplot as plt\n",
        "\n",
        "true_labels, pred_labels = evaluate(model2, x_val, y_val)\n",
        "fig, ax = plt.subplots(figsize=(8, 8))\n",
        "\n",
        "\n",
        "cm = confusion_matrix(y_true=true_labels, y_pred=pred_labels, labels=range(len(genre_labels)), normalize='true')\n",
        "disp = ConfusionMatrixDisplay(confusion_matrix=cm, display_labels=list(genre_labels.keys()))\n",
        "disp.plot(ax=ax, cmap='Blues')"
      ],
      "metadata": {
        "colab": {
          "base_uri": "https://localhost:8080/",
          "height": 507
        },
        "id": "QpaBIS5SHTOa",
        "outputId": "eec56a42-3443-41e8-b9b1-0b4b159adcf0"
      },
      "execution_count": null,
      "outputs": [
        {
          "output_type": "stream",
          "name": "stdout",
          "text": [
            "Test Accuracy:  0.545\n"
          ]
        },
        {
          "output_type": "execute_result",
          "data": {
            "text/plain": [
              "<sklearn.metrics._plot.confusion_matrix.ConfusionMatrixDisplay at 0x7f888f4d43d0>"
            ]
          },
          "metadata": {},
          "execution_count": 21
        },
        {
          "output_type": "display_data",
          "data": {
            "text/plain": [
              "<Figure size 576x576 with 2 Axes>"
            ],
            "image/png": "[encoded data removed]"
          },
          "metadata": {
            "needs_background": "light"
          }
        }
      ]
    },
    {
      "cell_type": "code",
      "source": [
        "# count parameters\n",
        "from prettytable import PrettyTable\n",
        "\n",
        "def count_parameters(model):\n",
        "    table = PrettyTable([\"Modules\", \"Parameters\"])\n",
        "    total_params = 0\n",
        "    for name, parameter in model.named_parameters():\n",
        "        if not parameter.requires_grad: continue\n",
        "        params = parameter.numel()\n",
        "        table.add_row([name, params])\n",
        "        total_params+=params\n",
        "    print(table)\n",
        "    print(f\"Total Trainable Params: {total_params}\")\n",
        "    return total_params\n",
        "    \n",
        "count_parameters(model2)"
      ],
      "metadata": {
        "colab": {
          "base_uri": "https://localhost:8080/"
        },
        "id": "fFH7WxIkJCo7",
        "outputId": "fbe5d4fa-9ba7-4a8b-f244-0ad28a3c7d6f"
      },
      "execution_count": null,
      "outputs": [
        {
          "output_type": "stream",
          "name": "stdout",
          "text": [
            "+-----------------------------+------------+\n",
            "|           Modules           | Parameters |\n",
            "+-----------------------------+------------+\n",
            "|       gpt2.wte.weight       |  38597376  |\n",
            "|       gpt2.wpe.weight       |   786432   |\n",
            "|     gpt2.h.0.ln_1.weight    |    768     |\n",
            "|      gpt2.h.0.ln_1.bias     |    768     |\n",
            "| gpt2.h.0.attn.c_attn.weight |  1769472   |\n",
            "|  gpt2.h.0.attn.c_attn.bias  |    2304    |\n",
            "| gpt2.h.0.attn.c_proj.weight |   589824   |\n",
            "|  gpt2.h.0.attn.c_proj.bias  |    768     |\n",
            "|     gpt2.h.0.ln_2.weight    |    768     |\n",
            "|      gpt2.h.0.ln_2.bias     |    768     |\n",
            "|   gpt2.h.0.mlp.c_fc.weight  |  2359296   |\n",
            "|    gpt2.h.0.mlp.c_fc.bias   |    3072    |\n",
            "|  gpt2.h.0.mlp.c_proj.weight |  2359296   |\n",
            "|   gpt2.h.0.mlp.c_proj.bias  |    768     |\n",
            "|     gpt2.h.1.ln_1.weight    |    768     |\n",
            "|      gpt2.h.1.ln_1.bias     |    768     |\n",
            "| gpt2.h.1.attn.c_attn.weight |  1769472   |\n",
            "|  gpt2.h.1.attn.c_attn.bias  |    2304    |\n",
            "| gpt2.h.1.attn.c_proj.weight |   589824   |\n",
            "|  gpt2.h.1.attn.c_proj.bias  |    768     |\n",
            "|     gpt2.h.1.ln_2.weight    |    768     |\n",
            "|      gpt2.h.1.ln_2.bias     |    768     |\n",
            "|   gpt2.h.1.mlp.c_fc.weight  |  2359296   |\n",
            "|    gpt2.h.1.mlp.c_fc.bias   |    3072    |\n",
            "|  gpt2.h.1.mlp.c_proj.weight |  2359296   |\n",
            "|   gpt2.h.1.mlp.c_proj.bias  |    768     |\n",
            "|     gpt2.h.2.ln_1.weight    |    768     |\n",
            "|      gpt2.h.2.ln_1.bias     |    768     |\n",
            "| gpt2.h.2.attn.c_attn.weight |  1769472   |\n",
            "|  gpt2.h.2.attn.c_attn.bias  |    2304    |\n",
            "| gpt2.h.2.attn.c_proj.weight |   589824   |\n",
            "|  gpt2.h.2.attn.c_proj.bias  |    768     |\n",
            "|     gpt2.h.2.ln_2.weight    |    768     |\n",
            "|      gpt2.h.2.ln_2.bias     |    768     |\n",
            "|   gpt2.h.2.mlp.c_fc.weight  |  2359296   |\n",
            "|    gpt2.h.2.mlp.c_fc.bias   |    3072    |\n",
            "|  gpt2.h.2.mlp.c_proj.weight |  2359296   |\n",
            "|   gpt2.h.2.mlp.c_proj.bias  |    768     |\n",
            "|     gpt2.h.3.ln_1.weight    |    768     |\n",
            "|      gpt2.h.3.ln_1.bias     |    768     |\n",
            "| gpt2.h.3.attn.c_attn.weight |  1769472   |\n",
            "|  gpt2.h.3.attn.c_attn.bias  |    2304    |\n",
            "| gpt2.h.3.attn.c_proj.weight |   589824   |\n",
            "|  gpt2.h.3.attn.c_proj.bias  |    768     |\n",
            "|     gpt2.h.3.ln_2.weight    |    768     |\n",
            "|      gpt2.h.3.ln_2.bias     |    768     |\n",
            "|   gpt2.h.3.mlp.c_fc.weight  |  2359296   |\n",
            "|    gpt2.h.3.mlp.c_fc.bias   |    3072    |\n",
            "|  gpt2.h.3.mlp.c_proj.weight |  2359296   |\n",
            "|   gpt2.h.3.mlp.c_proj.bias  |    768     |\n",
            "|     gpt2.h.4.ln_1.weight    |    768     |\n",
            "|      gpt2.h.4.ln_1.bias     |    768     |\n",
            "| gpt2.h.4.attn.c_attn.weight |  1769472   |\n",
            "|  gpt2.h.4.attn.c_attn.bias  |    2304    |\n",
            "| gpt2.h.4.attn.c_proj.weight |   589824   |\n",
            "|  gpt2.h.4.attn.c_proj.bias  |    768     |\n",
            "|     gpt2.h.4.ln_2.weight    |    768     |\n",
            "|      gpt2.h.4.ln_2.bias     |    768     |\n",
            "|   gpt2.h.4.mlp.c_fc.weight  |  2359296   |\n",
            "|    gpt2.h.4.mlp.c_fc.bias   |    3072    |\n",
            "|  gpt2.h.4.mlp.c_proj.weight |  2359296   |\n",
            "|   gpt2.h.4.mlp.c_proj.bias  |    768     |\n",
            "|     gpt2.h.5.ln_1.weight    |    768     |\n",
            "|      gpt2.h.5.ln_1.bias     |    768     |\n",
            "| gpt2.h.5.attn.c_attn.weight |  1769472   |\n",
            "|  gpt2.h.5.attn.c_attn.bias  |    2304    |\n",
            "| gpt2.h.5.attn.c_proj.weight |   589824   |\n",
            "|  gpt2.h.5.attn.c_proj.bias  |    768     |\n",
            "|     gpt2.h.5.ln_2.weight    |    768     |\n",
            "|      gpt2.h.5.ln_2.bias     |    768     |\n",
            "|   gpt2.h.5.mlp.c_fc.weight  |  2359296   |\n",
            "|    gpt2.h.5.mlp.c_fc.bias   |    3072    |\n",
            "|  gpt2.h.5.mlp.c_proj.weight |  2359296   |\n",
            "|   gpt2.h.5.mlp.c_proj.bias  |    768     |\n",
            "|       gpt2.ln_f.weight      |    768     |\n",
            "|        gpt2.ln_f.bias       |    768     |\n",
            "|    classifier_head.weight   |   786432   |\n",
            "|     classifier_head.bias    |     8      |\n",
            "+-----------------------------+------------+\n",
            "Total Trainable Params: 82699016\n"
          ]
        },
        {
          "output_type": "execute_result",
          "data": {
            "text/plain": [
              "82699016"
            ]
          },
          "metadata": {},
          "execution_count": 13
        }
      ]
    },
    {
      "cell_type": "code",
      "source": [],
      "metadata": {
        "id": "VLr30Y3fe2Yr"
      },
      "execution_count": null,
      "outputs": []
    }
  ]
}